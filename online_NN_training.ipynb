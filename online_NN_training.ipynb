{
 "cells": [
  {
   "cell_type": "code",
   "execution_count": 1,
   "metadata": {},
   "outputs": [],
   "source": [
    "import numpy as np\n",
    "import seaborn as sns\n",
    "import matplotlib.pyplot as plt\n",
    "from functions_to_optimize import f_rastrigin\n",
    "from CMA_obj import CMA_opt\n",
    "from PEPG_obj import PEPG_opt\n",
    "import plotly.graph_objects as go\n",
    "from plotly.subplots import make_subplots\n",
    "from SPSA_obj import SPSA_opt\n",
    "from ADAM_opt import AdamOptimizer\n",
    "from PSO_obj import PSO_opt"
   ]
  },
  {
   "cell_type": "code",
   "execution_count": 2,
   "metadata": {},
   "outputs": [],
   "source": [
    "import torch\n",
    "import torch.nn as nn\n",
    "from torchvision import datasets, transforms\n",
    "import pandas as pd"
   ]
  },
  {
   "cell_type": "markdown",
   "metadata": {},
   "source": [
    "#   Online training of Neural Networks\n",
    "\n",
    "## 1) Defining a simple neural network\n",
    "- Define the feed forward NN class\n",
    "- Load the datasets "
   ]
  },
  {
   "cell_type": "code",
   "execution_count": 111,
   "metadata": {},
   "outputs": [],
   "source": [
    "#this is a simple single layer feed forward NN with ReLU activation and adjustable hidden layer size\n",
    "class Neural_Net(nn.Module):\n",
    "    def __init__(self, input_size, hidden_size, n_classes):\n",
    "        \"init method that defines the NN architecture and inherits from nn.Module\"\n",
    "        super(Neural_Net, self).__init__()\n",
    "        \n",
    "        self.NN_stack = nn.Sequential(\n",
    "            nn.Flatten(),\n",
    "            nn.Linear(input_size, hidden_size),\n",
    "            nn.ReLU(),\n",
    "            nn.Linear(hidden_size, n_classes),\n",
    "            #nn.Softmax(dim=1)\n",
    "        )\n",
    "        \n",
    "        #self.num_params = sum(p.numel for p in self.parameters())\n",
    "    \n",
    "    def forward(self, X):\n",
    "        \"forward pass\"\n",
    "        logits = self.NN_stack(X)\n",
    "        return logits\n",
    "    \n",
    "    \n",
    "    def reset_weights(self):\n",
    "        \"method to reset the weights of the NN\"\n",
    "        for layer in self.NN_stack:\n",
    "            if isinstance(layer,nn.Linear):\n",
    "                layer.reset_parameters()\n",
    "        for param in self.parameters():\n",
    "            param.requires_grad = True\n",
    "                \n",
    "    def get_params(self):\n",
    "        \"Method to get parameters from the neural network\"\n",
    "        params_list = []\n",
    "        \n",
    "        for param in self.parameters():\n",
    "            params_list.append(param.view(-1))\n",
    "        \n",
    "        full_params = torch.cat(params_list)\n",
    "        return full_params\n",
    "    \n",
    "    def set_params(self,params_to_send):\n",
    "        \"Method to set parameters params in the neural network for online training. params_to_send is a column vector \"\n",
    "        idx_prev = 0\n",
    "        for param in self.parameters():\n",
    "           n_params = param.data.numel()\n",
    "           new_param =  torch.reshape(torch.from_numpy(params_to_send[idx_prev: idx_prev + n_params ]),shape=param.data.shape)\n",
    "           param.data.copy_(new_param)\n",
    "           idx_prev += n_params\n",
    "    \n",
    "    def forward_pass_params(self,params_to_send,X):\n",
    "        \"This method is a forward pass that also takes in the parameters of the neural network as a variable, to use in online learning\"\n",
    "        self.set_params(params_to_send)\n",
    "        logits = self.NN_stack(X)\n",
    "        return logits\n",
    "        \n",
    "\n",
    "#class for a linear classifier\n",
    "\n",
    "class Lin_classifier(nn.Module):\n",
    "    def __init__(self, input_size, n_classes):\n",
    "        super(Lin_classifier,self).__init__()\n",
    "        \n",
    "        self.NN_stack = nn.Sequential(\n",
    "            nn.Flatten(),\n",
    "            nn.Linear(input_size, n_classes),\n",
    "        )\n",
    "        \n",
    "    def forward(self,X):\n",
    "        logits = self.NN_stack(X)\n",
    "        return logits\n",
    "    \n",
    "\n",
    "\n",
    "# custom dataset class for datasets that are not included in torchvision like wine or IRIS\n",
    "\n",
    "class Custom_dataset(torch.utils.data.Dataset):\n",
    "    def __init__(self, features, labels):\n",
    "        self.features = features\n",
    "        self.labels = labels\n",
    "\n",
    "    def __len__(self):\n",
    "        return len(self.labels)\n",
    "\n",
    "    def __getitem__(self, idx):\n",
    "        return self.features[idx], self.labels[idx]\n",
    "\n"
   ]
  },
  {
   "cell_type": "code",
   "execution_count": 37,
   "metadata": {},
   "outputs": [],
   "source": [
    "#define training loop od pytorch NN as a function\n",
    "\n",
    "def train_pytorch_NN(model, n_epochs, train_loader, test_loader, loss, optimizer):\n",
    "    \n",
    "    device = 'cuda' if torch.cuda.is_available() else 'cpu'\n",
    "    model.to(device)\n",
    "\n",
    "    print(f\"Using {device} device\")\n",
    "    print(model)\n",
    "    \n",
    "    #array to store the accuracy of the model\n",
    "    accuracy_list = []\n",
    "    for epoch in range(n_epochs):\n",
    "        model.train()\n",
    "        for i, (images,labels) in enumerate(train_loader):\n",
    "            #move data to gpu for faster processing\n",
    "            images = images.to(device)\n",
    "            labels = labels.to(device)\n",
    "            #forward pass\n",
    "            Y_pred = model.forward(images)\n",
    "            loss_value = loss(Y_pred,labels)\n",
    "            #backward pass\n",
    "            optimizer.zero_grad()\n",
    "            loss_value.backward()\n",
    "            optimizer.step()\n",
    "            \n",
    "            \n",
    "            #print accuracy every 100 steps for the test set\n",
    "            if (i+1) % 100 == 0:\n",
    "                model.eval()\n",
    "                correct = 0 \n",
    "                total = 0\n",
    "                for images, labels in test_loader:\n",
    "                    images = images.to(device)\n",
    "                    labels = labels.to(device)\n",
    "                    Y_pred = model.forward(images)\n",
    "                    _, predicted = torch.max(Y_pred.data, 1)\n",
    "                    total += labels.size(0)\n",
    "                    correct += (predicted == labels).sum().item()\n",
    "                accuracy = ( 100*correct/total)\n",
    "                accuracy_list.append(accuracy)\n",
    "                print(f'Epoch [{epoch+1}/{n_epochs}], Step [{i+1}/{len(train_loader)}], Loss: {loss_value.item()}, Test Accuracy: {accuracy}%')\n",
    "    return accuracy_list\n",
    "\n",
    "\n",
    "def train_online_pop_NN(model, n_epochs, train_loader, test_loader, loss, optimizer):\n",
    "    \n",
    "    device = 'cuda' if torch.cuda.is_available() else 'cpu'\n",
    "    model.to(device)\n",
    "\n",
    "    print(f\"Using {device} device\")\n",
    "    print(model)\n",
    "    \n",
    "    best_reward = np.ones([n_epochs,1])\n",
    "    rewards = []\n",
    "    for epoch in range(n_epochs):\n",
    "        model.eval()\n",
    "        for i, (features,labels) in enumerate(train_loader):\n",
    "            \n",
    "            coordinates = optimizer.ask()\n",
    "            \n",
    "            for k in range(coordinates.shape[-1]):\n",
    "                \n",
    "                Y_pred = model.forward_pass_params(coordinates[:,k],features)\n",
    "                loss_value = loss(Y_pred,labels)\n",
    "                rewards.append(loss_value)\n",
    "\n",
    "            rewards = np.ndarray(rewards)[:,np.newaxis]\n",
    "            optimizer.tell(rewards)\n",
    "            best_params = coordinates[:,np.argmin(rewards)]\n",
    "            \n",
    "                #print accuracy every 100 steps for the test set\n",
    "            if (i+1) % 100 == 0:\n",
    "                model.eval()\n",
    "                correct = 0 \n",
    "                total = 0\n",
    "                for features, labels in test_loader:\n",
    "                    features = features.to(device)\n",
    "                    labels = labels.to(device)\n",
    "                    Y_pred = model.forward_pass_params(best_params,features)\n",
    "                    _, predicted = torch.max(Y_pred.data, 1)\n",
    "                    total += labels.size(0)\n",
    "                    correct += (predicted == labels).sum().item()\n",
    "                accuracy = ( 100*correct/total)\n",
    "                accuracy_list.append(accuracy)\n",
    "                print(f'Epoch [{epoch+1}/{n_epochs}], Step [{i+1}/{len(train_loader)}], Loss: {loss_value.item()}, Test Accuracy: {accuracy}%')\n",
    "    return accuracy_list\n",
    "    \n",
    "def quantize_model(model,quant_levels):\n",
    "    \"function to quantize weights of model on a layer by layer basis, quant_levels is the number of quantization steps\"\n",
    "    with torch.no_grad():\n",
    "            \n",
    "        for param in model.parameters():\n",
    "            min_param = param.min()\n",
    "            max_param = param.min()\n",
    "            step = (max_param - min_param ) / (quant_levels)\n",
    "            \n",
    "            n_steps = ((param - min_param) / step).round()\n",
    "            \n",
    "            quantized_value = min_param + step * n_steps\n",
    "            \n",
    "            param.copy_(quantized_value)\n",
    "    return\n"
   ]
  },
  {
   "cell_type": "markdown",
   "metadata": {},
   "source": [
    "### Loading datasets\n",
    "X is the input, Y the output"
   ]
  },
  {
   "cell_type": "code",
   "execution_count": 5,
   "metadata": {},
   "outputs": [],
   "source": [
    "# MNIST dataset\n",
    "MNIST_train = datasets.MNIST(root='./data', train=True, transform=transforms.ToTensor(), download=True)\n",
    "MNIST_test = datasets.MNIST(root='./data', train=False, transform=transforms.ToTensor(), download=True)\n",
    "\n",
    "train_loader_MNIST = torch.utils.data.DataLoader(dataset=MNIST_train, batch_size=100, shuffle=True)\n",
    "test_loader_MNIST = torch.utils.data.DataLoader(dataset=MNIST_test, batch_size=100, shuffle=False)\n",
    "\n",
    "X_train_MNIST, Y_train_MNIST = next(iter(train_loader_MNIST))\n",
    "X_test_MNIST, Y_test_MNIST = next(iter(test_loader_MNIST))"
   ]
  },
  {
   "cell_type": "code",
   "execution_count": 6,
   "metadata": {},
   "outputs": [],
   "source": [
    "# Wine dataset\n",
    "wine_df = pd.read_csv(\"data\\\\WINE\\\\winequality-red.csv\")\n",
    "\n",
    "wine_raw = wine_df.values.astype(np.float32)\n",
    "\n",
    "# Convert to PyTorch tensors\n",
    "X = torch.from_numpy(wine_raw[:, :-1])\n",
    "Y = torch.from_numpy(wine_raw[:, -1]).unsqueeze(1)\n",
    "\n",
    "# Create a single dataset\n",
    "full_dataset = Custom_dataset(X, Y)\n",
    "\n",
    "# Split into train and test sets, first set the size of the split\n",
    "train_size = int(0.75 * len(full_dataset))\n",
    "test_size = len(full_dataset) - train_size\n",
    "# split into train and test sets using pytorch randomsplit\n",
    "\n",
    "Wine_train, Wine_test = torch.utils.data.random_split(full_dataset, [train_size, test_size])\n",
    "\n",
    "\n",
    "Wine_train_loader = torch.utils.data.DataLoader(dataset=Wine_train, batch_size=100, shuffle=True)\n",
    "Wine_test_loader = torch.utils.data.DataLoader(dataset=Wine_test, batch_size=100, shuffle=False)"
   ]
  },
  {
   "cell_type": "code",
   "execution_count": 23,
   "metadata": {},
   "outputs": [],
   "source": [
    "#Iris dataset\n",
    "iris_df = pd.read_csv(\"data\\\\IRIS\\\\iris.csv\")\n",
    "# convert the last column \n",
    "\n",
    "\n",
    "iris_raw = iris_df.values\n",
    "\n",
    "for i in range(len(iris_raw)):\n",
    "    if iris_raw[i,-1] == 'Iris-setosa':\n",
    "        iris_raw[i,-1] = 0\n",
    "    elif iris_raw[i,-1] == 'Iris-versicolor':\n",
    "        iris_raw[i,-1] = 1\n",
    "    else:\n",
    "        iris_raw[i,-1] = 2\n",
    "        \n",
    "iris_raw = iris_raw.astype(np.float32)\n",
    "#iris raw needs to be shuffled randomly because the data is ordered by class\n",
    "np.random.shuffle(iris_raw)\n",
    "\n",
    "# Convert to PyTorch tensors\n",
    "X = torch.from_numpy(iris_raw[:, :-1])\n",
    "Y = torch.from_numpy(iris_raw[:, -1]).unsqueeze(1)\n",
    "\n",
    "# Create a single dataset\n",
    "full_dataset = Custom_dataset(X, Y)\n",
    "\n",
    "# Split into train and test sets, first set the size of the split\n",
    "train_size = int(0.75 * len(full_dataset))\n",
    "test_size = len(full_dataset) - train_size\n",
    "# split into train and test sets using pytorch randomsplit\n",
    "Iris_train, Iris_test = torch.utils.data.random_split(full_dataset, [train_size, test_size])\n",
    "\n",
    "Iris_train_loader = torch.utils.data.DataLoader(dataset=Iris_train, batch_size=train_size, shuffle=True)\n",
    "Iris_test_loader = torch.utils.data.DataLoader(dataset=Iris_test, batch_size=test_size, shuffle=False)"
   ]
  },
  {
   "cell_type": "code",
   "execution_count": 33,
   "metadata": {},
   "outputs": [
    {
     "name": "stdout",
     "output_type": "stream",
     "text": [
      "Using cuda device\n",
      "Neural_Net(\n",
      "  (NN_stack): Sequential(\n",
      "    (0): Flatten(start_dim=1, end_dim=-1)\n",
      "    (1): Linear(in_features=784, out_features=100, bias=True)\n",
      "    (2): ReLU()\n",
      "    (3): Linear(in_features=100, out_features=10, bias=True)\n",
      "  )\n",
      ")\n",
      "Epoch [1/10], Step [100/600], Loss: 0.4451817274093628, Test Accuracy: 88.18%\n",
      "Epoch [1/10], Step [200/600], Loss: 0.37893033027648926, Test Accuracy: 90.72%\n",
      "Epoch [1/10], Step [300/600], Loss: 0.38505715131759644, Test Accuracy: 91.69%\n",
      "Epoch [1/10], Step [400/600], Loss: 0.29797354340553284, Test Accuracy: 92.65%\n",
      "Epoch [1/10], Step [500/600], Loss: 0.20445844531059265, Test Accuracy: 93.07%\n",
      "Epoch [1/10], Step [600/600], Loss: 0.1554512083530426, Test Accuracy: 93.39%\n",
      "Epoch [2/10], Step [100/600], Loss: 0.14834657311439514, Test Accuracy: 93.89%\n",
      "Epoch [2/10], Step [200/600], Loss: 0.24757377803325653, Test Accuracy: 94.49%\n",
      "Epoch [2/10], Step [300/600], Loss: 0.19392041862010956, Test Accuracy: 94.44%\n",
      "Epoch [2/10], Step [400/600], Loss: 0.16305916011333466, Test Accuracy: 94.99%\n",
      "Epoch [2/10], Step [500/600], Loss: 0.16270078718662262, Test Accuracy: 95.04%\n",
      "Epoch [2/10], Step [600/600], Loss: 0.17430466413497925, Test Accuracy: 95.43%\n",
      "Epoch [3/10], Step [100/600], Loss: 0.1424059420824051, Test Accuracy: 95.4%\n",
      "Epoch [3/10], Step [200/600], Loss: 0.11019120365381241, Test Accuracy: 95.71%\n",
      "Epoch [3/10], Step [300/600], Loss: 0.13501973450183868, Test Accuracy: 95.7%\n",
      "Epoch [3/10], Step [400/600], Loss: 0.11690209060907364, Test Accuracy: 95.73%\n",
      "Epoch [3/10], Step [500/600], Loss: 0.1430726945400238, Test Accuracy: 96.18%\n",
      "Epoch [3/10], Step [600/600], Loss: 0.16020159423351288, Test Accuracy: 96.36%\n",
      "Epoch [4/10], Step [100/600], Loss: 0.18226222693920135, Test Accuracy: 96.3%\n",
      "Epoch [4/10], Step [200/600], Loss: 0.07827688008546829, Test Accuracy: 96.41%\n",
      "Epoch [4/10], Step [300/600], Loss: 0.15315845608711243, Test Accuracy: 96.58%\n",
      "Epoch [4/10], Step [400/600], Loss: 0.14907106757164001, Test Accuracy: 96.51%\n",
      "Epoch [4/10], Step [500/600], Loss: 0.07574308663606644, Test Accuracy: 96.54%\n",
      "Epoch [4/10], Step [600/600], Loss: 0.05269327759742737, Test Accuracy: 96.69%\n",
      "Epoch [5/10], Step [100/600], Loss: 0.058897752314805984, Test Accuracy: 96.96%\n",
      "Epoch [5/10], Step [200/600], Loss: 0.04678383842110634, Test Accuracy: 96.96%\n",
      "Epoch [5/10], Step [300/600], Loss: 0.10818784683942795, Test Accuracy: 96.81%\n",
      "Epoch [5/10], Step [400/600], Loss: 0.14920420944690704, Test Accuracy: 97.01%\n",
      "Epoch [5/10], Step [500/600], Loss: 0.13526701927185059, Test Accuracy: 97.14%\n",
      "Epoch [5/10], Step [600/600], Loss: 0.11522077769041061, Test Accuracy: 96.92%\n",
      "Epoch [6/10], Step [100/600], Loss: 0.05280880630016327, Test Accuracy: 97.12%\n",
      "Epoch [6/10], Step [200/600], Loss: 0.03711953014135361, Test Accuracy: 97.05%\n",
      "Epoch [6/10], Step [300/600], Loss: 0.07762489467859268, Test Accuracy: 97.33%\n",
      "Epoch [6/10], Step [400/600], Loss: 0.05202791094779968, Test Accuracy: 97.02%\n",
      "Epoch [6/10], Step [500/600], Loss: 0.1319839358329773, Test Accuracy: 97.23%\n",
      "Epoch [6/10], Step [600/600], Loss: 0.08737637847661972, Test Accuracy: 97.46%\n",
      "Epoch [7/10], Step [100/600], Loss: 0.058614883571863174, Test Accuracy: 97.1%\n",
      "Epoch [7/10], Step [200/600], Loss: 0.05049825832247734, Test Accuracy: 97.36%\n",
      "Epoch [7/10], Step [300/600], Loss: 0.07398882508277893, Test Accuracy: 97.27%\n",
      "Epoch [7/10], Step [400/600], Loss: 0.03446362912654877, Test Accuracy: 97.18%\n",
      "Epoch [7/10], Step [500/600], Loss: 0.029340233653783798, Test Accuracy: 97.61%\n",
      "Epoch [7/10], Step [600/600], Loss: 0.017792200669646263, Test Accuracy: 97.32%\n",
      "Epoch [8/10], Step [100/600], Loss: 0.11453556269407272, Test Accuracy: 97.64%\n",
      "Epoch [8/10], Step [200/600], Loss: 0.06850701570510864, Test Accuracy: 97.47%\n",
      "Epoch [8/10], Step [300/600], Loss: 0.03322994336485863, Test Accuracy: 97.58%\n",
      "Epoch [8/10], Step [400/600], Loss: 0.06591586768627167, Test Accuracy: 97.46%\n",
      "Epoch [8/10], Step [500/600], Loss: 0.1405763030052185, Test Accuracy: 97.55%\n",
      "Epoch [8/10], Step [600/600], Loss: 0.07941050827503204, Test Accuracy: 97.41%\n",
      "Epoch [9/10], Step [100/600], Loss: 0.013030576519668102, Test Accuracy: 97.57%\n",
      "Epoch [9/10], Step [200/600], Loss: 0.026706624776124954, Test Accuracy: 97.62%\n",
      "Epoch [9/10], Step [300/600], Loss: 0.04620379954576492, Test Accuracy: 97.75%\n",
      "Epoch [9/10], Step [400/600], Loss: 0.024574153125286102, Test Accuracy: 97.79%\n",
      "Epoch [9/10], Step [500/600], Loss: 0.025874000042676926, Test Accuracy: 97.53%\n",
      "Epoch [9/10], Step [600/600], Loss: 0.050211381167173386, Test Accuracy: 97.53%\n",
      "Epoch [10/10], Step [100/600], Loss: 0.04040136933326721, Test Accuracy: 97.78%\n",
      "Epoch [10/10], Step [200/600], Loss: 0.05245690047740936, Test Accuracy: 97.71%\n",
      "Epoch [10/10], Step [300/600], Loss: 0.018607929348945618, Test Accuracy: 97.69%\n",
      "Epoch [10/10], Step [400/600], Loss: 0.041583843529224396, Test Accuracy: 97.67%\n",
      "Epoch [10/10], Step [500/600], Loss: 0.01781482622027397, Test Accuracy: 97.76%\n",
      "Epoch [10/10], Step [600/600], Loss: 0.05795546993613243, Test Accuracy: 97.7%\n"
     ]
    }
   ],
   "source": [
    "#We Now create an instance of the NN class and move if to the GPU if available\n",
    "n_neurons = 100\n",
    "NN_MNIST = Neural_Net(input_size=28*28, hidden_size=n_neurons, n_classes=10)\n",
    "\n",
    "loss = nn.CrossEntropyLoss()\n",
    "optimizer = torch.optim.Adam(NN_MNIST.parameters(), lr=0.001)\n",
    "\n",
    "#training the full NN\n",
    "n_epochs = 10\n",
    "test_acc = train_pytorch_NN(NN_MNIST, n_epochs, train_loader_MNIST, test_loader_MNIST, loss, optimizer)"
   ]
  },
  {
   "cell_type": "code",
   "execution_count": 49,
   "metadata": {},
   "outputs": [
    {
     "name": "stdout",
     "output_type": "stream",
     "text": [
      "Using cuda device\n",
      "Neural_Net(\n",
      "  (NN_stack): Sequential(\n",
      "    (0): Flatten(start_dim=1, end_dim=-1)\n",
      "    (1): Linear(in_features=784, out_features=100, bias=True)\n",
      "    (2): ReLU()\n",
      "    (3): Linear(in_features=100, out_features=10, bias=True)\n",
      "  )\n",
      ")\n",
      "Epoch [1/10], Step [100/600], Loss: 1.1636791229248047, Test Accuracy: 76.66%\n",
      "Epoch [1/10], Step [200/600], Loss: 0.8452395796775818, Test Accuracy: 80.28%\n",
      "Epoch [1/10], Step [300/600], Loss: 0.8284144401550293, Test Accuracy: 82.33%\n",
      "Epoch [1/10], Step [400/600], Loss: 0.7853445410728455, Test Accuracy: 83.3%\n",
      "Epoch [1/10], Step [500/600], Loss: 0.6560500264167786, Test Accuracy: 83.89%\n",
      "Epoch [1/10], Step [600/600], Loss: 0.8256441354751587, Test Accuracy: 84.47%\n",
      "Epoch [2/10], Step [100/600], Loss: 0.5336945652961731, Test Accuracy: 84.95%\n",
      "Epoch [2/10], Step [200/600], Loss: 0.5550755858421326, Test Accuracy: 85.08%\n",
      "Epoch [2/10], Step [300/600], Loss: 0.5654203295707703, Test Accuracy: 85.45%\n",
      "Epoch [2/10], Step [400/600], Loss: 0.5484793782234192, Test Accuracy: 85.55%\n",
      "Epoch [2/10], Step [500/600], Loss: 0.5673434734344482, Test Accuracy: 85.63%\n",
      "Epoch [2/10], Step [600/600], Loss: 0.690243124961853, Test Accuracy: 85.55%\n",
      "Epoch [3/10], Step [100/600], Loss: 0.5063194632530212, Test Accuracy: 85.98%\n",
      "Epoch [3/10], Step [200/600], Loss: 0.46644875407218933, Test Accuracy: 86.14%\n",
      "Epoch [3/10], Step [300/600], Loss: 0.5632995963096619, Test Accuracy: 86.14%\n",
      "Epoch [3/10], Step [400/600], Loss: 0.5055997967720032, Test Accuracy: 86.24%\n",
      "Epoch [3/10], Step [500/600], Loss: 0.5865990519523621, Test Accuracy: 86.31%\n",
      "Epoch [3/10], Step [600/600], Loss: 0.5377745628356934, Test Accuracy: 86.15%\n",
      "Epoch [4/10], Step [100/600], Loss: 0.533766508102417, Test Accuracy: 86.46%\n",
      "Epoch [4/10], Step [200/600], Loss: 0.4705325961112976, Test Accuracy: 86.39%\n",
      "Epoch [4/10], Step [300/600], Loss: 0.6098242402076721, Test Accuracy: 86.56%\n",
      "Epoch [4/10], Step [400/600], Loss: 0.4097164571285248, Test Accuracy: 86.44%\n",
      "Epoch [4/10], Step [500/600], Loss: 0.48799464106559753, Test Accuracy: 86.57%\n",
      "Epoch [4/10], Step [600/600], Loss: 0.45654296875, Test Accuracy: 86.67%\n",
      "Epoch [5/10], Step [100/600], Loss: 0.6159604787826538, Test Accuracy: 86.73%\n",
      "Epoch [5/10], Step [200/600], Loss: 0.49941810965538025, Test Accuracy: 86.8%\n",
      "Epoch [5/10], Step [300/600], Loss: 0.35318073630332947, Test Accuracy: 86.69%\n",
      "Epoch [5/10], Step [400/600], Loss: 0.4212366044521332, Test Accuracy: 86.68%\n",
      "Epoch [5/10], Step [500/600], Loss: 0.419557124376297, Test Accuracy: 86.94%\n",
      "Epoch [5/10], Step [600/600], Loss: 0.44040486216545105, Test Accuracy: 86.85%\n",
      "Epoch [6/10], Step [100/600], Loss: 0.4730253219604492, Test Accuracy: 86.91%\n",
      "Epoch [6/10], Step [200/600], Loss: 0.3531380891799927, Test Accuracy: 86.68%\n",
      "Epoch [6/10], Step [300/600], Loss: 0.49260085821151733, Test Accuracy: 86.87%\n",
      "Epoch [6/10], Step [400/600], Loss: 0.3787798583507538, Test Accuracy: 86.97%\n",
      "Epoch [6/10], Step [500/600], Loss: 0.521999180316925, Test Accuracy: 86.63%\n",
      "Epoch [6/10], Step [600/600], Loss: 0.6707671284675598, Test Accuracy: 86.92%\n",
      "Epoch [7/10], Step [100/600], Loss: 0.3462717831134796, Test Accuracy: 86.88%\n",
      "Epoch [7/10], Step [200/600], Loss: 0.42185431718826294, Test Accuracy: 86.87%\n",
      "Epoch [7/10], Step [300/600], Loss: 0.4975345730781555, Test Accuracy: 86.87%\n",
      "Epoch [7/10], Step [400/600], Loss: 0.5193045139312744, Test Accuracy: 86.97%\n",
      "Epoch [7/10], Step [500/600], Loss: 0.4054895341396332, Test Accuracy: 86.99%\n",
      "Epoch [7/10], Step [600/600], Loss: 0.4352205991744995, Test Accuracy: 86.78%\n",
      "Epoch [8/10], Step [100/600], Loss: 0.557439923286438, Test Accuracy: 86.62%\n",
      "Epoch [8/10], Step [200/600], Loss: 0.5673176050186157, Test Accuracy: 86.88%\n",
      "Epoch [8/10], Step [300/600], Loss: 0.40569913387298584, Test Accuracy: 86.69%\n",
      "Epoch [8/10], Step [400/600], Loss: 0.5706607699394226, Test Accuracy: 86.89%\n",
      "Epoch [8/10], Step [500/600], Loss: 0.3185897767543793, Test Accuracy: 86.9%\n",
      "Epoch [8/10], Step [600/600], Loss: 0.43694043159484863, Test Accuracy: 86.92%\n",
      "Epoch [9/10], Step [100/600], Loss: 0.5535436868667603, Test Accuracy: 86.68%\n",
      "Epoch [9/10], Step [200/600], Loss: 0.6707229614257812, Test Accuracy: 86.8%\n",
      "Epoch [9/10], Step [300/600], Loss: 0.36957892775535583, Test Accuracy: 86.99%\n",
      "Epoch [9/10], Step [400/600], Loss: 0.38986846804618835, Test Accuracy: 86.98%\n",
      "Epoch [9/10], Step [500/600], Loss: 0.3319607079029083, Test Accuracy: 86.85%\n",
      "Epoch [9/10], Step [600/600], Loss: 0.429607093334198, Test Accuracy: 86.93%\n",
      "Epoch [10/10], Step [100/600], Loss: 0.5124750733375549, Test Accuracy: 87.03%\n",
      "Epoch [10/10], Step [200/600], Loss: 0.46565380692481995, Test Accuracy: 86.93%\n",
      "Epoch [10/10], Step [300/600], Loss: 0.5715599060058594, Test Accuracy: 87.14%\n",
      "Epoch [10/10], Step [400/600], Loss: 0.4214403033256531, Test Accuracy: 86.89%\n",
      "Epoch [10/10], Step [500/600], Loss: 0.42222660779953003, Test Accuracy: 87.18%\n",
      "Epoch [10/10], Step [600/600], Loss: 0.26048874855041504, Test Accuracy: 86.94%\n"
     ]
    }
   ],
   "source": [
    "# Training loop for MNIST but without training the input layer (extreme learning machine)\n",
    "\n",
    "#first reset the model we trained before\n",
    "NN_MNIST.reset_weights()\n",
    "\n",
    "#set the input layer to not require gradients\n",
    "NN_MNIST.NN_stack[1].weight.requires_grad = False\n",
    "NN_MNIST.NN_stack[1].bias.requires_grad = False\n",
    "\n",
    "loss = nn.CrossEntropyLoss()\n",
    "optimizer = torch.optim.Adam(NN_MNIST.parameters(), lr=0.01)\n",
    "\n",
    "n_epochs = 10\n",
    "test_acc_ELM = train_pytorch_NN(NN_MNIST, n_epochs, train_loader_MNIST, test_loader_MNIST, loss, optimizer)\n",
    "\n"
   ]
  },
  {
   "cell_type": "code",
   "execution_count": null,
   "metadata": {},
   "outputs": [],
   "source": [
    "#Train the linear model for reference\n",
    "Linear_model = Lin_classifier(input_size=28*28,n_classes=10)\n",
    "\n",
    "loss = nn.CrossEntropyLoss()\n",
    "optimizer = torch.optim.Adam(Linear_model.parameters(), lr=0.001)\n",
    "\n",
    "n_epochs = 10\n",
    "test_acc_lin = train_pytorch_NN(Linear_model, n_epochs, train_loader_MNIST, test_loader_MNIST, loss, optimizer)"
   ]
  },
  {
   "cell_type": "code",
   "execution_count": 86,
   "metadata": {},
   "outputs": [
    {
     "data": {
      "application/vnd.plotly.v1+json": {
       "config": {
        "plotlyServerURL": "https://plot.ly"
       },
       "data": [
        {
         "mode": "lines",
         "name": "Full NN",
         "type": "scatter",
         "x": [
          0,
          1,
          2,
          3,
          4,
          5,
          6,
          7,
          8,
          9,
          10,
          11,
          12,
          13,
          14,
          15,
          16,
          17,
          18,
          19,
          20,
          21,
          22,
          23,
          24,
          25,
          26,
          27,
          28,
          29,
          30,
          31,
          32,
          33,
          34,
          35,
          36,
          37,
          38,
          39,
          40,
          41,
          42,
          43,
          44,
          45,
          46,
          47,
          48,
          49,
          50,
          51,
          52,
          53,
          54,
          55,
          56,
          57,
          58,
          59
         ],
         "y": [
          88.18,
          90.72,
          91.69,
          92.65,
          93.07,
          93.39,
          93.89,
          94.49,
          94.44,
          94.99,
          95.04,
          95.43,
          95.4,
          95.71,
          95.7,
          95.73,
          96.18,
          96.36,
          96.3,
          96.41,
          96.58,
          96.51,
          96.54,
          96.69,
          96.96,
          96.96,
          96.81,
          97.01,
          97.14,
          96.92,
          97.12,
          97.05,
          97.33,
          97.02,
          97.23,
          97.46,
          97.1,
          97.36,
          97.27,
          97.18,
          97.61,
          97.32,
          97.64,
          97.47,
          97.58,
          97.46,
          97.55,
          97.41,
          97.57,
          97.62,
          97.75,
          97.79,
          97.53,
          97.53,
          97.78,
          97.71,
          97.69,
          97.67,
          97.76,
          97.7
         ]
        },
        {
         "mode": "lines",
         "name": "ELM",
         "type": "scatter",
         "x": [
          0,
          1,
          2,
          3,
          4,
          5,
          6,
          7,
          8,
          9,
          10,
          11,
          12,
          13,
          14,
          15,
          16,
          17,
          18,
          19,
          20,
          21,
          22,
          23,
          24,
          25,
          26,
          27,
          28,
          29,
          30,
          31,
          32,
          33,
          34,
          35,
          36,
          37,
          38,
          39,
          40,
          41,
          42,
          43,
          44,
          45,
          46,
          47,
          48,
          49,
          50,
          51,
          52,
          53,
          54,
          55,
          56,
          57,
          58,
          59
         ],
         "y": [
          76.66,
          80.28,
          82.33,
          83.3,
          83.89,
          84.47,
          84.95,
          85.08,
          85.45,
          85.55,
          85.63,
          85.55,
          85.98,
          86.14,
          86.14,
          86.24,
          86.31,
          86.15,
          86.46,
          86.39,
          86.56,
          86.44,
          86.57,
          86.67,
          86.73,
          86.8,
          86.69,
          86.68,
          86.94,
          86.85,
          86.91,
          86.68,
          86.87,
          86.97,
          86.63,
          86.92,
          86.88,
          86.87,
          86.87,
          86.97,
          86.99,
          86.78,
          86.62,
          86.88,
          86.69,
          86.89,
          86.9,
          86.92,
          86.68,
          86.8,
          86.99,
          86.98,
          86.85,
          86.93,
          87.03,
          86.93,
          87.14,
          86.89,
          87.18,
          86.94
         ]
        },
        {
         "mode": "lines",
         "name": "Linear",
         "type": "scatter",
         "x": [
          0,
          1,
          2,
          3,
          4,
          5,
          6,
          7,
          8,
          9,
          10,
          11,
          12,
          13,
          14,
          15,
          16,
          17,
          18,
          19,
          20,
          21,
          22,
          23,
          24,
          25,
          26,
          27,
          28,
          29,
          30,
          31,
          32,
          33,
          34,
          35,
          36,
          37,
          38,
          39,
          40,
          41,
          42,
          43,
          44,
          45,
          46,
          47,
          48,
          49,
          50,
          51,
          52,
          53,
          54,
          55,
          56,
          57,
          58,
          59
         ],
         "y": [
          84.33,
          87.39,
          89.08,
          89.98,
          90.3,
          90.48,
          90.91,
          90.93,
          91.13,
          91.34,
          91.5,
          91.49,
          91.57,
          91.64,
          91.76,
          91.99,
          91.92,
          91.95,
          91.9,
          92.05,
          92.06,
          92.21,
          92.18,
          92.19,
          92.14,
          92.14,
          92.3,
          92.31,
          92.4,
          92.33,
          92.35,
          92.39,
          92.5,
          92.31,
          92.34,
          92.43,
          92.4,
          92.39,
          92.31,
          92.58,
          92.38,
          92.58,
          92.63,
          92.57,
          92.45,
          92.47,
          92.38,
          92.48,
          92.65,
          92.54,
          92.56,
          92.47,
          92.59,
          92.59,
          92.66,
          92.58,
          92.58,
          92.59,
          92.64,
          92.56
         ]
        }
       ],
       "layout": {
        "height": 400,
        "margin": {
         "b": 20,
         "l": 20,
         "r": 20,
         "t": 20
        },
        "template": {
         "data": {
          "bar": [
           {
            "error_x": {
             "color": "#2a3f5f"
            },
            "error_y": {
             "color": "#2a3f5f"
            },
            "marker": {
             "line": {
              "color": "white",
              "width": 0.5
             },
             "pattern": {
              "fillmode": "overlay",
              "size": 10,
              "solidity": 0.2
             }
            },
            "type": "bar"
           }
          ],
          "barpolar": [
           {
            "marker": {
             "line": {
              "color": "white",
              "width": 0.5
             },
             "pattern": {
              "fillmode": "overlay",
              "size": 10,
              "solidity": 0.2
             }
            },
            "type": "barpolar"
           }
          ],
          "carpet": [
           {
            "aaxis": {
             "endlinecolor": "#2a3f5f",
             "gridcolor": "#C8D4E3",
             "linecolor": "#C8D4E3",
             "minorgridcolor": "#C8D4E3",
             "startlinecolor": "#2a3f5f"
            },
            "baxis": {
             "endlinecolor": "#2a3f5f",
             "gridcolor": "#C8D4E3",
             "linecolor": "#C8D4E3",
             "minorgridcolor": "#C8D4E3",
             "startlinecolor": "#2a3f5f"
            },
            "type": "carpet"
           }
          ],
          "choropleth": [
           {
            "colorbar": {
             "outlinewidth": 0,
             "ticks": ""
            },
            "type": "choropleth"
           }
          ],
          "contour": [
           {
            "colorbar": {
             "outlinewidth": 0,
             "ticks": ""
            },
            "colorscale": [
             [
              0,
              "#0d0887"
             ],
             [
              0.1111111111111111,
              "#46039f"
             ],
             [
              0.2222222222222222,
              "#7201a8"
             ],
             [
              0.3333333333333333,
              "#9c179e"
             ],
             [
              0.4444444444444444,
              "#bd3786"
             ],
             [
              0.5555555555555556,
              "#d8576b"
             ],
             [
              0.6666666666666666,
              "#ed7953"
             ],
             [
              0.7777777777777778,
              "#fb9f3a"
             ],
             [
              0.8888888888888888,
              "#fdca26"
             ],
             [
              1,
              "#f0f921"
             ]
            ],
            "type": "contour"
           }
          ],
          "contourcarpet": [
           {
            "colorbar": {
             "outlinewidth": 0,
             "ticks": ""
            },
            "type": "contourcarpet"
           }
          ],
          "heatmap": [
           {
            "colorbar": {
             "outlinewidth": 0,
             "ticks": ""
            },
            "colorscale": [
             [
              0,
              "#0d0887"
             ],
             [
              0.1111111111111111,
              "#46039f"
             ],
             [
              0.2222222222222222,
              "#7201a8"
             ],
             [
              0.3333333333333333,
              "#9c179e"
             ],
             [
              0.4444444444444444,
              "#bd3786"
             ],
             [
              0.5555555555555556,
              "#d8576b"
             ],
             [
              0.6666666666666666,
              "#ed7953"
             ],
             [
              0.7777777777777778,
              "#fb9f3a"
             ],
             [
              0.8888888888888888,
              "#fdca26"
             ],
             [
              1,
              "#f0f921"
             ]
            ],
            "type": "heatmap"
           }
          ],
          "heatmapgl": [
           {
            "colorbar": {
             "outlinewidth": 0,
             "ticks": ""
            },
            "colorscale": [
             [
              0,
              "#0d0887"
             ],
             [
              0.1111111111111111,
              "#46039f"
             ],
             [
              0.2222222222222222,
              "#7201a8"
             ],
             [
              0.3333333333333333,
              "#9c179e"
             ],
             [
              0.4444444444444444,
              "#bd3786"
             ],
             [
              0.5555555555555556,
              "#d8576b"
             ],
             [
              0.6666666666666666,
              "#ed7953"
             ],
             [
              0.7777777777777778,
              "#fb9f3a"
             ],
             [
              0.8888888888888888,
              "#fdca26"
             ],
             [
              1,
              "#f0f921"
             ]
            ],
            "type": "heatmapgl"
           }
          ],
          "histogram": [
           {
            "marker": {
             "pattern": {
              "fillmode": "overlay",
              "size": 10,
              "solidity": 0.2
             }
            },
            "type": "histogram"
           }
          ],
          "histogram2d": [
           {
            "colorbar": {
             "outlinewidth": 0,
             "ticks": ""
            },
            "colorscale": [
             [
              0,
              "#0d0887"
             ],
             [
              0.1111111111111111,
              "#46039f"
             ],
             [
              0.2222222222222222,
              "#7201a8"
             ],
             [
              0.3333333333333333,
              "#9c179e"
             ],
             [
              0.4444444444444444,
              "#bd3786"
             ],
             [
              0.5555555555555556,
              "#d8576b"
             ],
             [
              0.6666666666666666,
              "#ed7953"
             ],
             [
              0.7777777777777778,
              "#fb9f3a"
             ],
             [
              0.8888888888888888,
              "#fdca26"
             ],
             [
              1,
              "#f0f921"
             ]
            ],
            "type": "histogram2d"
           }
          ],
          "histogram2dcontour": [
           {
            "colorbar": {
             "outlinewidth": 0,
             "ticks": ""
            },
            "colorscale": [
             [
              0,
              "#0d0887"
             ],
             [
              0.1111111111111111,
              "#46039f"
             ],
             [
              0.2222222222222222,
              "#7201a8"
             ],
             [
              0.3333333333333333,
              "#9c179e"
             ],
             [
              0.4444444444444444,
              "#bd3786"
             ],
             [
              0.5555555555555556,
              "#d8576b"
             ],
             [
              0.6666666666666666,
              "#ed7953"
             ],
             [
              0.7777777777777778,
              "#fb9f3a"
             ],
             [
              0.8888888888888888,
              "#fdca26"
             ],
             [
              1,
              "#f0f921"
             ]
            ],
            "type": "histogram2dcontour"
           }
          ],
          "mesh3d": [
           {
            "colorbar": {
             "outlinewidth": 0,
             "ticks": ""
            },
            "type": "mesh3d"
           }
          ],
          "parcoords": [
           {
            "line": {
             "colorbar": {
              "outlinewidth": 0,
              "ticks": ""
             }
            },
            "type": "parcoords"
           }
          ],
          "pie": [
           {
            "automargin": true,
            "type": "pie"
           }
          ],
          "scatter": [
           {
            "fillpattern": {
             "fillmode": "overlay",
             "size": 10,
             "solidity": 0.2
            },
            "type": "scatter"
           }
          ],
          "scatter3d": [
           {
            "line": {
             "colorbar": {
              "outlinewidth": 0,
              "ticks": ""
             }
            },
            "marker": {
             "colorbar": {
              "outlinewidth": 0,
              "ticks": ""
             }
            },
            "type": "scatter3d"
           }
          ],
          "scattercarpet": [
           {
            "marker": {
             "colorbar": {
              "outlinewidth": 0,
              "ticks": ""
             }
            },
            "type": "scattercarpet"
           }
          ],
          "scattergeo": [
           {
            "marker": {
             "colorbar": {
              "outlinewidth": 0,
              "ticks": ""
             }
            },
            "type": "scattergeo"
           }
          ],
          "scattergl": [
           {
            "marker": {
             "colorbar": {
              "outlinewidth": 0,
              "ticks": ""
             }
            },
            "type": "scattergl"
           }
          ],
          "scattermapbox": [
           {
            "marker": {
             "colorbar": {
              "outlinewidth": 0,
              "ticks": ""
             }
            },
            "type": "scattermapbox"
           }
          ],
          "scatterpolar": [
           {
            "marker": {
             "colorbar": {
              "outlinewidth": 0,
              "ticks": ""
             }
            },
            "type": "scatterpolar"
           }
          ],
          "scatterpolargl": [
           {
            "marker": {
             "colorbar": {
              "outlinewidth": 0,
              "ticks": ""
             }
            },
            "type": "scatterpolargl"
           }
          ],
          "scatterternary": [
           {
            "marker": {
             "colorbar": {
              "outlinewidth": 0,
              "ticks": ""
             }
            },
            "type": "scatterternary"
           }
          ],
          "surface": [
           {
            "colorbar": {
             "outlinewidth": 0,
             "ticks": ""
            },
            "colorscale": [
             [
              0,
              "#0d0887"
             ],
             [
              0.1111111111111111,
              "#46039f"
             ],
             [
              0.2222222222222222,
              "#7201a8"
             ],
             [
              0.3333333333333333,
              "#9c179e"
             ],
             [
              0.4444444444444444,
              "#bd3786"
             ],
             [
              0.5555555555555556,
              "#d8576b"
             ],
             [
              0.6666666666666666,
              "#ed7953"
             ],
             [
              0.7777777777777778,
              "#fb9f3a"
             ],
             [
              0.8888888888888888,
              "#fdca26"
             ],
             [
              1,
              "#f0f921"
             ]
            ],
            "type": "surface"
           }
          ],
          "table": [
           {
            "cells": {
             "fill": {
              "color": "#EBF0F8"
             },
             "line": {
              "color": "white"
             }
            },
            "header": {
             "fill": {
              "color": "#C8D4E3"
             },
             "line": {
              "color": "white"
             }
            },
            "type": "table"
           }
          ]
         },
         "layout": {
          "annotationdefaults": {
           "arrowcolor": "#2a3f5f",
           "arrowhead": 0,
           "arrowwidth": 1
          },
          "autotypenumbers": "strict",
          "coloraxis": {
           "colorbar": {
            "outlinewidth": 0,
            "ticks": ""
           }
          },
          "colorscale": {
           "diverging": [
            [
             0,
             "#8e0152"
            ],
            [
             0.1,
             "#c51b7d"
            ],
            [
             0.2,
             "#de77ae"
            ],
            [
             0.3,
             "#f1b6da"
            ],
            [
             0.4,
             "#fde0ef"
            ],
            [
             0.5,
             "#f7f7f7"
            ],
            [
             0.6,
             "#e6f5d0"
            ],
            [
             0.7,
             "#b8e186"
            ],
            [
             0.8,
             "#7fbc41"
            ],
            [
             0.9,
             "#4d9221"
            ],
            [
             1,
             "#276419"
            ]
           ],
           "sequential": [
            [
             0,
             "#0d0887"
            ],
            [
             0.1111111111111111,
             "#46039f"
            ],
            [
             0.2222222222222222,
             "#7201a8"
            ],
            [
             0.3333333333333333,
             "#9c179e"
            ],
            [
             0.4444444444444444,
             "#bd3786"
            ],
            [
             0.5555555555555556,
             "#d8576b"
            ],
            [
             0.6666666666666666,
             "#ed7953"
            ],
            [
             0.7777777777777778,
             "#fb9f3a"
            ],
            [
             0.8888888888888888,
             "#fdca26"
            ],
            [
             1,
             "#f0f921"
            ]
           ],
           "sequentialminus": [
            [
             0,
             "#0d0887"
            ],
            [
             0.1111111111111111,
             "#46039f"
            ],
            [
             0.2222222222222222,
             "#7201a8"
            ],
            [
             0.3333333333333333,
             "#9c179e"
            ],
            [
             0.4444444444444444,
             "#bd3786"
            ],
            [
             0.5555555555555556,
             "#d8576b"
            ],
            [
             0.6666666666666666,
             "#ed7953"
            ],
            [
             0.7777777777777778,
             "#fb9f3a"
            ],
            [
             0.8888888888888888,
             "#fdca26"
            ],
            [
             1,
             "#f0f921"
            ]
           ]
          },
          "colorway": [
           "#636efa",
           "#EF553B",
           "#00cc96",
           "#ab63fa",
           "#FFA15A",
           "#19d3f3",
           "#FF6692",
           "#B6E880",
           "#FF97FF",
           "#FECB52"
          ],
          "font": {
           "color": "#2a3f5f"
          },
          "geo": {
           "bgcolor": "white",
           "lakecolor": "white",
           "landcolor": "white",
           "showlakes": true,
           "showland": true,
           "subunitcolor": "#C8D4E3"
          },
          "hoverlabel": {
           "align": "left"
          },
          "hovermode": "closest",
          "mapbox": {
           "style": "light"
          },
          "paper_bgcolor": "white",
          "plot_bgcolor": "white",
          "polar": {
           "angularaxis": {
            "gridcolor": "#EBF0F8",
            "linecolor": "#EBF0F8",
            "ticks": ""
           },
           "bgcolor": "white",
           "radialaxis": {
            "gridcolor": "#EBF0F8",
            "linecolor": "#EBF0F8",
            "ticks": ""
           }
          },
          "scene": {
           "xaxis": {
            "backgroundcolor": "white",
            "gridcolor": "#DFE8F3",
            "gridwidth": 2,
            "linecolor": "#EBF0F8",
            "showbackground": true,
            "ticks": "",
            "zerolinecolor": "#EBF0F8"
           },
           "yaxis": {
            "backgroundcolor": "white",
            "gridcolor": "#DFE8F3",
            "gridwidth": 2,
            "linecolor": "#EBF0F8",
            "showbackground": true,
            "ticks": "",
            "zerolinecolor": "#EBF0F8"
           },
           "zaxis": {
            "backgroundcolor": "white",
            "gridcolor": "#DFE8F3",
            "gridwidth": 2,
            "linecolor": "#EBF0F8",
            "showbackground": true,
            "ticks": "",
            "zerolinecolor": "#EBF0F8"
           }
          },
          "shapedefaults": {
           "line": {
            "color": "#2a3f5f"
           }
          },
          "ternary": {
           "aaxis": {
            "gridcolor": "#DFE8F3",
            "linecolor": "#A2B1C6",
            "ticks": ""
           },
           "baxis": {
            "gridcolor": "#DFE8F3",
            "linecolor": "#A2B1C6",
            "ticks": ""
           },
           "bgcolor": "white",
           "caxis": {
            "gridcolor": "#DFE8F3",
            "linecolor": "#A2B1C6",
            "ticks": ""
           }
          },
          "title": {
           "x": 0.05
          },
          "xaxis": {
           "automargin": true,
           "gridcolor": "#EBF0F8",
           "linecolor": "#EBF0F8",
           "ticks": "",
           "title": {
            "standoff": 15
           },
           "zerolinecolor": "#EBF0F8",
           "zerolinewidth": 2
          },
          "yaxis": {
           "automargin": true,
           "gridcolor": "#EBF0F8",
           "linecolor": "#EBF0F8",
           "ticks": "",
           "title": {
            "standoff": 15
           },
           "zerolinecolor": "#EBF0F8",
           "zerolinewidth": 2
          }
         }
        },
        "width": 400,
        "xaxis": {
         "range": [
          0,
          60
         ]
        }
       }
      }
     },
     "metadata": {},
     "output_type": "display_data"
    }
   ],
   "source": [
    "# plot the accuracy of the ELM and FF models using plotly\n",
    "\n",
    "fig = go.Figure()\n",
    "fig.add_trace(go.Scatter(x=np.arange(len(test_acc)), y=test_acc, mode='lines', name='Full NN'))\n",
    "fig.add_trace(go.Scatter(x=np.arange(len(test_acc_ELM)), y=test_acc_ELM, mode='lines', name='ELM'))\n",
    "fig.add_trace(go.Scatter(x=np.arange(len(test_acc_lin)), y=test_acc_lin, mode='lines', name='Linear'))\n",
    "\n",
    "#change theme to white and set the sizer of the plot\n",
    "fig.update_layout(template='plotly_white', width=400, height=400,margin=dict(l=20, r=20, t=20, b=20))\n",
    "#set xlim\n",
    "fig.update_xaxes(range=[0, 60])\n"
   ]
  },
  {
   "cell_type": "code",
   "execution_count": 68,
   "metadata": {},
   "outputs": [
    {
     "name": "stdout",
     "output_type": "stream",
     "text": [
      "Training FFNN with  10  neurons...\n",
      "Using cuda device\n",
      "Neural_Net(\n",
      "  (NN_stack): Sequential(\n",
      "    (0): Flatten(start_dim=1, end_dim=-1)\n",
      "    (1): Linear(in_features=784, out_features=10, bias=True)\n",
      "    (2): ReLU()\n",
      "    (3): Linear(in_features=10, out_features=10, bias=True)\n",
      "  )\n",
      ")\n",
      "Epoch [1/10], Step [100/600], Loss: 1.149375557899475, Test Accuracy: 74.51%\n",
      "Epoch [1/10], Step [200/600], Loss: 0.58460932970047, Test Accuracy: 83.41%\n",
      "Epoch [1/10], Step [300/600], Loss: 0.547219455242157, Test Accuracy: 85.53%\n",
      "Epoch [1/10], Step [400/600], Loss: 0.5631541013717651, Test Accuracy: 86.84%\n",
      "Epoch [1/10], Step [500/600], Loss: 0.6401227712631226, Test Accuracy: 87.89%\n",
      "Epoch [1/10], Step [600/600], Loss: 0.42665836215019226, Test Accuracy: 88.57%\n",
      "Epoch [2/10], Step [100/600], Loss: 0.3109077513217926, Test Accuracy: 89.05%\n",
      "Epoch [2/10], Step [200/600], Loss: 0.35700684785842896, Test Accuracy: 89.39%\n",
      "Epoch [2/10], Step [300/600], Loss: 0.3251744210720062, Test Accuracy: 89.57%\n",
      "Epoch [2/10], Step [400/600], Loss: 0.45133212208747864, Test Accuracy: 90.23%\n",
      "Epoch [2/10], Step [500/600], Loss: 0.41502654552459717, Test Accuracy: 90.55%\n",
      "Epoch [2/10], Step [600/600], Loss: 0.3937821686267853, Test Accuracy: 90.83%\n",
      "Epoch [3/10], Step [100/600], Loss: 0.294023334980011, Test Accuracy: 91.05%\n",
      "Epoch [3/10], Step [200/600], Loss: 0.34112444519996643, Test Accuracy: 91.11%\n",
      "Epoch [3/10], Step [300/600], Loss: 0.28053268790245056, Test Accuracy: 91.57%\n",
      "Epoch [3/10], Step [400/600], Loss: 0.2032822072505951, Test Accuracy: 91.38%\n",
      "Epoch [3/10], Step [500/600], Loss: 0.3237582743167877, Test Accuracy: 91.83%\n",
      "Epoch [3/10], Step [600/600], Loss: 0.36383768916130066, Test Accuracy: 91.94%\n",
      "Epoch [4/10], Step [100/600], Loss: 0.213869109749794, Test Accuracy: 91.88%\n",
      "Epoch [4/10], Step [200/600], Loss: 0.29371848702430725, Test Accuracy: 91.93%\n",
      "Epoch [4/10], Step [300/600], Loss: 0.13168063759803772, Test Accuracy: 91.92%\n",
      "Epoch [4/10], Step [400/600], Loss: 0.27485692501068115, Test Accuracy: 91.89%\n",
      "Epoch [4/10], Step [500/600], Loss: 0.46564480662345886, Test Accuracy: 92.23%\n",
      "Epoch [4/10], Step [600/600], Loss: 0.2406202107667923, Test Accuracy: 91.99%\n",
      "Epoch [5/10], Step [100/600], Loss: 0.20752504467964172, Test Accuracy: 91.9%\n",
      "Epoch [5/10], Step [200/600], Loss: 0.1730288863182068, Test Accuracy: 92.01%\n",
      "Epoch [5/10], Step [300/600], Loss: 0.2598361670970917, Test Accuracy: 92.41%\n",
      "Epoch [5/10], Step [400/600], Loss: 0.3886563777923584, Test Accuracy: 92.23%\n",
      "Epoch [5/10], Step [500/600], Loss: 0.2591194808483124, Test Accuracy: 92.2%\n",
      "Epoch [5/10], Step [600/600], Loss: 0.2096211016178131, Test Accuracy: 91.97%\n",
      "Epoch [6/10], Step [100/600], Loss: 0.2825239300727844, Test Accuracy: 92.39%\n",
      "Epoch [6/10], Step [200/600], Loss: 0.4265046715736389, Test Accuracy: 92.48%\n",
      "Epoch [6/10], Step [300/600], Loss: 0.16265855729579926, Test Accuracy: 92.43%\n",
      "Epoch [6/10], Step [400/600], Loss: 0.3089815378189087, Test Accuracy: 92.25%\n",
      "Epoch [6/10], Step [500/600], Loss: 0.21249708533287048, Test Accuracy: 92.5%\n",
      "Epoch [6/10], Step [600/600], Loss: 0.22275643050670624, Test Accuracy: 92.26%\n",
      "Epoch [7/10], Step [100/600], Loss: 0.1618846356868744, Test Accuracy: 92.52%\n",
      "Epoch [7/10], Step [200/600], Loss: 0.2831256687641144, Test Accuracy: 92.36%\n",
      "Epoch [7/10], Step [300/600], Loss: 0.20989561080932617, Test Accuracy: 92.46%\n",
      "Epoch [7/10], Step [400/600], Loss: 0.19628046452999115, Test Accuracy: 92.34%\n",
      "Epoch [7/10], Step [500/600], Loss: 0.3394443094730377, Test Accuracy: 92.36%\n",
      "Epoch [7/10], Step [600/600], Loss: 0.19142451882362366, Test Accuracy: 92.46%\n",
      "Epoch [8/10], Step [100/600], Loss: 0.23639383912086487, Test Accuracy: 92.44%\n",
      "Epoch [8/10], Step [200/600], Loss: 0.23196861147880554, Test Accuracy: 92.5%\n",
      "Epoch [8/10], Step [300/600], Loss: 0.17509160935878754, Test Accuracy: 92.5%\n",
      "Epoch [8/10], Step [400/600], Loss: 0.16736896336078644, Test Accuracy: 92.6%\n",
      "Epoch [8/10], Step [500/600], Loss: 0.3164012134075165, Test Accuracy: 92.7%\n",
      "Epoch [8/10], Step [600/600], Loss: 0.19598549604415894, Test Accuracy: 92.72%\n",
      "Epoch [9/10], Step [100/600], Loss: 0.14771609008312225, Test Accuracy: 92.55%\n",
      "Epoch [9/10], Step [200/600], Loss: 0.2172287404537201, Test Accuracy: 92.63%\n",
      "Epoch [9/10], Step [300/600], Loss: 0.2550431489944458, Test Accuracy: 92.52%\n",
      "Epoch [9/10], Step [400/600], Loss: 0.3331759572029114, Test Accuracy: 92.42%\n",
      "Epoch [9/10], Step [500/600], Loss: 0.23468738794326782, Test Accuracy: 92.45%\n",
      "Epoch [9/10], Step [600/600], Loss: 0.2694633901119232, Test Accuracy: 92.76%\n",
      "Epoch [10/10], Step [100/600], Loss: 0.20721134543418884, Test Accuracy: 92.52%\n",
      "Epoch [10/10], Step [200/600], Loss: 0.4773622751235962, Test Accuracy: 92.58%\n",
      "Epoch [10/10], Step [300/600], Loss: 0.20268942415714264, Test Accuracy: 92.73%\n",
      "Epoch [10/10], Step [400/600], Loss: 0.20131239295005798, Test Accuracy: 92.66%\n",
      "Epoch [10/10], Step [500/600], Loss: 0.2995806634426117, Test Accuracy: 92.56%\n",
      "Epoch [10/10], Step [600/600], Loss: 0.17287854850292206, Test Accuracy: 92.48%\n",
      "Training ELM with  10  neurons...\n",
      "Using cuda device\n",
      "Neural_Net(\n",
      "  (NN_stack): Sequential(\n",
      "    (0): Flatten(start_dim=1, end_dim=-1)\n",
      "    (1): Linear(in_features=784, out_features=10, bias=True)\n",
      "    (2): ReLU()\n",
      "    (3): Linear(in_features=10, out_features=10, bias=True)\n",
      "  )\n",
      ")\n",
      "Epoch [1/10], Step [100/600], Loss: 2.1550486087799072, Test Accuracy: 36.06%\n",
      "Epoch [1/10], Step [200/600], Loss: 2.0309336185455322, Test Accuracy: 42.02%\n",
      "Epoch [1/10], Step [300/600], Loss: 1.99428129196167, Test Accuracy: 42.3%\n",
      "Epoch [1/10], Step [400/600], Loss: 1.8312660455703735, Test Accuracy: 42.21%\n",
      "Epoch [1/10], Step [500/600], Loss: 1.803251028060913, Test Accuracy: 43.51%\n",
      "Epoch [1/10], Step [600/600], Loss: 1.745812177658081, Test Accuracy: 43.73%\n",
      "Epoch [2/10], Step [100/600], Loss: 1.6866157054901123, Test Accuracy: 44.56%\n",
      "Epoch [2/10], Step [200/600], Loss: 1.6826543807983398, Test Accuracy: 44.72%\n",
      "Epoch [2/10], Step [300/600], Loss: 1.6985697746276855, Test Accuracy: 45.06%\n",
      "Epoch [2/10], Step [400/600], Loss: 1.7279787063598633, Test Accuracy: 45.24%\n",
      "Epoch [2/10], Step [500/600], Loss: 1.5849310159683228, Test Accuracy: 45.07%\n",
      "Epoch [2/10], Step [600/600], Loss: 1.5325220823287964, Test Accuracy: 45.15%\n",
      "Epoch [3/10], Step [100/600], Loss: 1.6529301404953003, Test Accuracy: 45.46%\n",
      "Epoch [3/10], Step [200/600], Loss: 1.6902929544448853, Test Accuracy: 45.92%\n",
      "Epoch [3/10], Step [300/600], Loss: 1.5949090719223022, Test Accuracy: 45.71%\n",
      "Epoch [3/10], Step [400/600], Loss: 1.7398043870925903, Test Accuracy: 45.92%\n",
      "Epoch [3/10], Step [500/600], Loss: 1.8267507553100586, Test Accuracy: 46.02%\n",
      "Epoch [3/10], Step [600/600], Loss: 1.7167264223098755, Test Accuracy: 45.81%\n",
      "Epoch [4/10], Step [100/600], Loss: 1.5910558700561523, Test Accuracy: 45.93%\n",
      "Epoch [4/10], Step [200/600], Loss: 1.6942510604858398, Test Accuracy: 46.15%\n",
      "Epoch [4/10], Step [300/600], Loss: 1.6564915180206299, Test Accuracy: 46.11%\n",
      "Epoch [4/10], Step [400/600], Loss: 1.7176114320755005, Test Accuracy: 46.3%\n",
      "Epoch [4/10], Step [500/600], Loss: 1.5781080722808838, Test Accuracy: 46.5%\n",
      "Epoch [4/10], Step [600/600], Loss: 1.6579573154449463, Test Accuracy: 46.34%\n",
      "Epoch [5/10], Step [100/600], Loss: 1.7872859239578247, Test Accuracy: 46.16%\n",
      "Epoch [5/10], Step [200/600], Loss: 1.6729446649551392, Test Accuracy: 46.34%\n",
      "Epoch [5/10], Step [300/600], Loss: 1.5167888402938843, Test Accuracy: 46.27%\n",
      "Epoch [5/10], Step [400/600], Loss: 1.640255331993103, Test Accuracy: 46.32%\n",
      "Epoch [5/10], Step [500/600], Loss: 1.5923091173171997, Test Accuracy: 46.21%\n",
      "Epoch [5/10], Step [600/600], Loss: 1.6223546266555786, Test Accuracy: 46.17%\n",
      "Epoch [6/10], Step [100/600], Loss: 1.6718357801437378, Test Accuracy: 46.21%\n",
      "Epoch [6/10], Step [200/600], Loss: 1.544548749923706, Test Accuracy: 46.43%\n",
      "Epoch [6/10], Step [300/600], Loss: 1.682830810546875, Test Accuracy: 46.32%\n",
      "Epoch [6/10], Step [400/600], Loss: 1.6928019523620605, Test Accuracy: 46.31%\n",
      "Epoch [6/10], Step [500/600], Loss: 1.653923511505127, Test Accuracy: 46.48%\n",
      "Epoch [6/10], Step [600/600], Loss: 1.5762118101119995, Test Accuracy: 45.72%\n",
      "Epoch [7/10], Step [100/600], Loss: 1.547277808189392, Test Accuracy: 46.31%\n",
      "Epoch [7/10], Step [200/600], Loss: 1.5072293281555176, Test Accuracy: 46.39%\n",
      "Epoch [7/10], Step [300/600], Loss: 1.5230212211608887, Test Accuracy: 46.25%\n",
      "Epoch [7/10], Step [400/600], Loss: 1.5133999586105347, Test Accuracy: 46.69%\n",
      "Epoch [7/10], Step [500/600], Loss: 1.6071455478668213, Test Accuracy: 46.51%\n",
      "Epoch [7/10], Step [600/600], Loss: 1.6730291843414307, Test Accuracy: 46.13%\n",
      "Epoch [8/10], Step [100/600], Loss: 1.69700288772583, Test Accuracy: 46.55%\n",
      "Epoch [8/10], Step [200/600], Loss: 1.5301402807235718, Test Accuracy: 46.06%\n",
      "Epoch [8/10], Step [300/600], Loss: 1.7546287775039673, Test Accuracy: 46.42%\n",
      "Epoch [8/10], Step [400/600], Loss: 1.5935490131378174, Test Accuracy: 46.46%\n",
      "Epoch [8/10], Step [500/600], Loss: 1.8334921598434448, Test Accuracy: 46.22%\n",
      "Epoch [8/10], Step [600/600], Loss: 1.506900429725647, Test Accuracy: 46.48%\n",
      "Epoch [9/10], Step [100/600], Loss: 1.6953094005584717, Test Accuracy: 46.6%\n",
      "Epoch [9/10], Step [200/600], Loss: 1.739438533782959, Test Accuracy: 46.18%\n",
      "Epoch [9/10], Step [300/600], Loss: 1.582079291343689, Test Accuracy: 46.44%\n",
      "Epoch [9/10], Step [400/600], Loss: 1.6748355627059937, Test Accuracy: 46.5%\n",
      "Epoch [9/10], Step [500/600], Loss: 1.4868701696395874, Test Accuracy: 46.29%\n",
      "Epoch [9/10], Step [600/600], Loss: 1.4022955894470215, Test Accuracy: 46.39%\n",
      "Epoch [10/10], Step [100/600], Loss: 1.7782189846038818, Test Accuracy: 46.75%\n",
      "Epoch [10/10], Step [200/600], Loss: 1.5735324621200562, Test Accuracy: 46.37%\n",
      "Epoch [10/10], Step [300/600], Loss: 1.5433692932128906, Test Accuracy: 46.5%\n",
      "Epoch [10/10], Step [400/600], Loss: 1.5577043294906616, Test Accuracy: 46.37%\n",
      "Epoch [10/10], Step [500/600], Loss: 1.6126914024353027, Test Accuracy: 46.11%\n",
      "Epoch [10/10], Step [600/600], Loss: 1.6323295831680298, Test Accuracy: 46.49%\n",
      "Training FFNN with  20  neurons...\n",
      "Using cuda device\n",
      "Neural_Net(\n",
      "  (NN_stack): Sequential(\n",
      "    (0): Flatten(start_dim=1, end_dim=-1)\n",
      "    (1): Linear(in_features=784, out_features=20, bias=True)\n",
      "    (2): ReLU()\n",
      "    (3): Linear(in_features=20, out_features=10, bias=True)\n",
      "  )\n",
      ")\n",
      "Epoch [1/10], Step [100/600], Loss: 0.7082802653312683, Test Accuracy: 84.95%\n",
      "Epoch [1/10], Step [200/600], Loss: 0.43770691752433777, Test Accuracy: 88.51%\n",
      "Epoch [1/10], Step [300/600], Loss: 0.35106974840164185, Test Accuracy: 90.29%\n",
      "Epoch [1/10], Step [400/600], Loss: 0.2815141975879669, Test Accuracy: 91.06%\n",
      "Epoch [1/10], Step [500/600], Loss: 0.25192415714263916, Test Accuracy: 91.19%\n",
      "Epoch [1/10], Step [600/600], Loss: 0.4634946882724762, Test Accuracy: 91.61%\n",
      "Epoch [2/10], Step [100/600], Loss: 0.30906203389167786, Test Accuracy: 91.8%\n",
      "Epoch [2/10], Step [200/600], Loss: 0.3860100507736206, Test Accuracy: 91.99%\n",
      "Epoch [2/10], Step [300/600], Loss: 0.2569159269332886, Test Accuracy: 92.08%\n",
      "Epoch [2/10], Step [400/600], Loss: 0.3117886781692505, Test Accuracy: 92.42%\n",
      "Epoch [2/10], Step [500/600], Loss: 0.3760952353477478, Test Accuracy: 92.38%\n",
      "Epoch [2/10], Step [600/600], Loss: 0.22257377207279205, Test Accuracy: 92.71%\n",
      "Epoch [3/10], Step [100/600], Loss: 0.13832440972328186, Test Accuracy: 92.69%\n",
      "Epoch [3/10], Step [200/600], Loss: 0.18718357384204865, Test Accuracy: 92.94%\n",
      "Epoch [3/10], Step [300/600], Loss: 0.21210356056690216, Test Accuracy: 92.75%\n",
      "Epoch [3/10], Step [400/600], Loss: 0.30211764574050903, Test Accuracy: 92.94%\n",
      "Epoch [3/10], Step [500/600], Loss: 0.43682342767715454, Test Accuracy: 93.05%\n",
      "Epoch [3/10], Step [600/600], Loss: 0.35220107436180115, Test Accuracy: 93.17%\n",
      "Epoch [4/10], Step [100/600], Loss: 0.24712657928466797, Test Accuracy: 93.0%\n",
      "Epoch [4/10], Step [200/600], Loss: 0.18781335651874542, Test Accuracy: 93.36%\n",
      "Epoch [4/10], Step [300/600], Loss: 0.37568360567092896, Test Accuracy: 93.29%\n",
      "Epoch [4/10], Step [400/600], Loss: 0.1772199273109436, Test Accuracy: 93.36%\n",
      "Epoch [4/10], Step [500/600], Loss: 0.1738148331642151, Test Accuracy: 93.22%\n",
      "Epoch [4/10], Step [600/600], Loss: 0.2038559913635254, Test Accuracy: 93.53%\n",
      "Epoch [5/10], Step [100/600], Loss: 0.2273515909910202, Test Accuracy: 93.68%\n",
      "Epoch [5/10], Step [200/600], Loss: 0.30440184473991394, Test Accuracy: 93.63%\n",
      "Epoch [5/10], Step [300/600], Loss: 0.2232877016067505, Test Accuracy: 93.68%\n",
      "Epoch [5/10], Step [400/600], Loss: 0.226710245013237, Test Accuracy: 93.83%\n",
      "Epoch [5/10], Step [500/600], Loss: 0.0804329365491867, Test Accuracy: 94.03%\n",
      "Epoch [5/10], Step [600/600], Loss: 0.1445745825767517, Test Accuracy: 93.96%\n",
      "Epoch [6/10], Step [100/600], Loss: 0.051490701735019684, Test Accuracy: 94.26%\n",
      "Epoch [6/10], Step [200/600], Loss: 0.12582093477249146, Test Accuracy: 94.16%\n",
      "Epoch [6/10], Step [300/600], Loss: 0.1841546595096588, Test Accuracy: 94.5%\n",
      "Epoch [6/10], Step [400/600], Loss: 0.17715343832969666, Test Accuracy: 94.37%\n",
      "Epoch [6/10], Step [500/600], Loss: 0.15214745700359344, Test Accuracy: 94.42%\n",
      "Epoch [6/10], Step [600/600], Loss: 0.11950353533029556, Test Accuracy: 94.28%\n",
      "Epoch [7/10], Step [100/600], Loss: 0.10957761108875275, Test Accuracy: 94.6%\n",
      "Epoch [7/10], Step [200/600], Loss: 0.1788806915283203, Test Accuracy: 94.63%\n",
      "Epoch [7/10], Step [300/600], Loss: 0.15470750629901886, Test Accuracy: 94.57%\n",
      "Epoch [7/10], Step [400/600], Loss: 0.05101361125707626, Test Accuracy: 94.58%\n",
      "Epoch [7/10], Step [500/600], Loss: 0.131992906332016, Test Accuracy: 94.49%\n",
      "Epoch [7/10], Step [600/600], Loss: 0.13497987389564514, Test Accuracy: 94.75%\n",
      "Epoch [8/10], Step [100/600], Loss: 0.09191517531871796, Test Accuracy: 94.58%\n",
      "Epoch [8/10], Step [200/600], Loss: 0.1750115156173706, Test Accuracy: 94.84%\n",
      "Epoch [8/10], Step [300/600], Loss: 0.15634849667549133, Test Accuracy: 94.64%\n",
      "Epoch [8/10], Step [400/600], Loss: 0.15227174758911133, Test Accuracy: 94.96%\n",
      "Epoch [8/10], Step [500/600], Loss: 0.12008152902126312, Test Accuracy: 94.67%\n",
      "Epoch [8/10], Step [600/600], Loss: 0.19578172266483307, Test Accuracy: 94.97%\n",
      "Epoch [9/10], Step [100/600], Loss: 0.12534360587596893, Test Accuracy: 95.03%\n",
      "Epoch [9/10], Step [200/600], Loss: 0.09104878455400467, Test Accuracy: 95.15%\n",
      "Epoch [9/10], Step [300/600], Loss: 0.07166653871536255, Test Accuracy: 95.09%\n",
      "Epoch [9/10], Step [400/600], Loss: 0.12238084524869919, Test Accuracy: 94.93%\n",
      "Epoch [9/10], Step [500/600], Loss: 0.12510576844215393, Test Accuracy: 94.97%\n",
      "Epoch [9/10], Step [600/600], Loss: 0.2218385487794876, Test Accuracy: 95.24%\n",
      "Epoch [10/10], Step [100/600], Loss: 0.11230247467756271, Test Accuracy: 94.96%\n",
      "Epoch [10/10], Step [200/600], Loss: 0.11271944642066956, Test Accuracy: 95.05%\n",
      "Epoch [10/10], Step [300/600], Loss: 0.07043113559484482, Test Accuracy: 95.13%\n",
      "Epoch [10/10], Step [400/600], Loss: 0.11681387573480606, Test Accuracy: 95.26%\n",
      "Epoch [10/10], Step [500/600], Loss: 0.3177715241909027, Test Accuracy: 95.35%\n",
      "Epoch [10/10], Step [600/600], Loss: 0.14583072066307068, Test Accuracy: 95.42%\n",
      "Training ELM with  20  neurons...\n",
      "Using cuda device\n",
      "Neural_Net(\n",
      "  (NN_stack): Sequential(\n",
      "    (0): Flatten(start_dim=1, end_dim=-1)\n",
      "    (1): Linear(in_features=784, out_features=20, bias=True)\n",
      "    (2): ReLU()\n",
      "    (3): Linear(in_features=20, out_features=10, bias=True)\n",
      "  )\n",
      ")\n",
      "Epoch [1/10], Step [100/600], Loss: 1.9737240076065063, Test Accuracy: 48.0%\n",
      "Epoch [1/10], Step [200/600], Loss: 1.8166388273239136, Test Accuracy: 51.06%\n",
      "Epoch [1/10], Step [300/600], Loss: 1.7569401264190674, Test Accuracy: 52.12%\n",
      "Epoch [1/10], Step [400/600], Loss: 1.631422519683838, Test Accuracy: 53.43%\n",
      "Epoch [1/10], Step [500/600], Loss: 1.464767575263977, Test Accuracy: 54.0%\n",
      "Epoch [1/10], Step [600/600], Loss: 1.5194191932678223, Test Accuracy: 53.99%\n",
      "Epoch [2/10], Step [100/600], Loss: 1.5597329139709473, Test Accuracy: 55.09%\n",
      "Epoch [2/10], Step [200/600], Loss: 1.384057641029358, Test Accuracy: 55.28%\n",
      "Epoch [2/10], Step [300/600], Loss: 1.3783066272735596, Test Accuracy: 55.55%\n",
      "Epoch [2/10], Step [400/600], Loss: 1.3176623582839966, Test Accuracy: 55.81%\n",
      "Epoch [2/10], Step [500/600], Loss: 1.4246277809143066, Test Accuracy: 56.26%\n",
      "Epoch [2/10], Step [600/600], Loss: 1.4501458406448364, Test Accuracy: 56.26%\n",
      "Epoch [3/10], Step [100/600], Loss: 1.332101583480835, Test Accuracy: 56.47%\n",
      "Epoch [3/10], Step [200/600], Loss: 1.2577968835830688, Test Accuracy: 56.53%\n",
      "Epoch [3/10], Step [300/600], Loss: 1.4127463102340698, Test Accuracy: 56.71%\n",
      "Epoch [3/10], Step [400/600], Loss: 1.356155514717102, Test Accuracy: 56.58%\n",
      "Epoch [3/10], Step [500/600], Loss: 1.4303730726242065, Test Accuracy: 56.66%\n",
      "Epoch [3/10], Step [600/600], Loss: 1.4052237272262573, Test Accuracy: 56.66%\n",
      "Epoch [4/10], Step [100/600], Loss: 1.3724212646484375, Test Accuracy: 56.84%\n",
      "Epoch [4/10], Step [200/600], Loss: 1.2135370969772339, Test Accuracy: 57.02%\n",
      "Epoch [4/10], Step [300/600], Loss: 1.3086055517196655, Test Accuracy: 57.08%\n",
      "Epoch [4/10], Step [400/600], Loss: 1.2871520519256592, Test Accuracy: 57.26%\n",
      "Epoch [4/10], Step [500/600], Loss: 1.3710986375808716, Test Accuracy: 56.91%\n",
      "Epoch [4/10], Step [600/600], Loss: 1.2790824174880981, Test Accuracy: 57.17%\n",
      "Epoch [5/10], Step [100/600], Loss: 1.0891642570495605, Test Accuracy: 57.01%\n",
      "Epoch [5/10], Step [200/600], Loss: 1.4143452644348145, Test Accuracy: 57.26%\n",
      "Epoch [5/10], Step [300/600], Loss: 1.2224756479263306, Test Accuracy: 56.97%\n",
      "Epoch [5/10], Step [400/600], Loss: 1.3520941734313965, Test Accuracy: 57.32%\n",
      "Epoch [5/10], Step [500/600], Loss: 1.477003574371338, Test Accuracy: 57.25%\n",
      "Epoch [5/10], Step [600/600], Loss: 1.1629815101623535, Test Accuracy: 57.25%\n",
      "Epoch [6/10], Step [100/600], Loss: 1.5315907001495361, Test Accuracy: 57.44%\n",
      "Epoch [6/10], Step [200/600], Loss: 1.146848201751709, Test Accuracy: 57.37%\n",
      "Epoch [6/10], Step [300/600], Loss: 1.1303820610046387, Test Accuracy: 57.32%\n",
      "Epoch [6/10], Step [400/600], Loss: 1.4581282138824463, Test Accuracy: 57.3%\n",
      "Epoch [6/10], Step [500/600], Loss: 1.3024498224258423, Test Accuracy: 57.46%\n",
      "Epoch [6/10], Step [600/600], Loss: 1.5840420722961426, Test Accuracy: 57.42%\n",
      "Epoch [7/10], Step [100/600], Loss: 1.425419569015503, Test Accuracy: 57.44%\n",
      "Epoch [7/10], Step [200/600], Loss: 1.1795719861984253, Test Accuracy: 57.55%\n",
      "Epoch [7/10], Step [300/600], Loss: 1.2177785634994507, Test Accuracy: 57.46%\n",
      "Epoch [7/10], Step [400/600], Loss: 1.3004231452941895, Test Accuracy: 57.4%\n",
      "Epoch [7/10], Step [500/600], Loss: 1.4211602210998535, Test Accuracy: 57.45%\n",
      "Epoch [7/10], Step [600/600], Loss: 1.2391505241394043, Test Accuracy: 57.55%\n",
      "Epoch [8/10], Step [100/600], Loss: 1.234015941619873, Test Accuracy: 57.5%\n",
      "Epoch [8/10], Step [200/600], Loss: 1.287106990814209, Test Accuracy: 57.53%\n",
      "Epoch [8/10], Step [300/600], Loss: 1.3798415660858154, Test Accuracy: 57.63%\n",
      "Epoch [8/10], Step [400/600], Loss: 1.1714280843734741, Test Accuracy: 57.72%\n",
      "Epoch [8/10], Step [500/600], Loss: 1.2301404476165771, Test Accuracy: 57.77%\n",
      "Epoch [8/10], Step [600/600], Loss: 1.2877389192581177, Test Accuracy: 57.47%\n",
      "Epoch [9/10], Step [100/600], Loss: 1.3722507953643799, Test Accuracy: 57.61%\n",
      "Epoch [9/10], Step [200/600], Loss: 1.1848554611206055, Test Accuracy: 57.8%\n",
      "Epoch [9/10], Step [300/600], Loss: 1.301184058189392, Test Accuracy: 57.5%\n",
      "Epoch [9/10], Step [400/600], Loss: 1.3956751823425293, Test Accuracy: 57.63%\n",
      "Epoch [9/10], Step [500/600], Loss: 1.3477652072906494, Test Accuracy: 57.8%\n",
      "Epoch [9/10], Step [600/600], Loss: 1.4422682523727417, Test Accuracy: 57.49%\n",
      "Epoch [10/10], Step [100/600], Loss: 1.003991723060608, Test Accuracy: 57.6%\n",
      "Epoch [10/10], Step [200/600], Loss: 1.4658149480819702, Test Accuracy: 57.36%\n",
      "Epoch [10/10], Step [300/600], Loss: 1.4202625751495361, Test Accuracy: 57.5%\n",
      "Epoch [10/10], Step [400/600], Loss: 1.2625904083251953, Test Accuracy: 57.52%\n",
      "Epoch [10/10], Step [500/600], Loss: 1.5748285055160522, Test Accuracy: 57.74%\n",
      "Epoch [10/10], Step [600/600], Loss: 1.2870078086853027, Test Accuracy: 57.48%\n",
      "Training FFNN with  50  neurons...\n",
      "Using cuda device\n",
      "Neural_Net(\n",
      "  (NN_stack): Sequential(\n",
      "    (0): Flatten(start_dim=1, end_dim=-1)\n",
      "    (1): Linear(in_features=784, out_features=50, bias=True)\n",
      "    (2): ReLU()\n",
      "    (3): Linear(in_features=50, out_features=10, bias=True)\n",
      "  )\n",
      ")\n",
      "Epoch [1/10], Step [100/600], Loss: 0.5323059558868408, Test Accuracy: 87.28%\n",
      "Epoch [1/10], Step [200/600], Loss: 0.483862966299057, Test Accuracy: 90.05%\n",
      "Epoch [1/10], Step [300/600], Loss: 0.32302325963974, Test Accuracy: 91.25%\n",
      "Epoch [1/10], Step [400/600], Loss: 0.25180596113204956, Test Accuracy: 91.99%\n",
      "Epoch [1/10], Step [500/600], Loss: 0.3637113571166992, Test Accuracy: 91.76%\n",
      "Epoch [1/10], Step [600/600], Loss: 0.3283863067626953, Test Accuracy: 92.67%\n",
      "Epoch [2/10], Step [100/600], Loss: 0.2798360586166382, Test Accuracy: 92.81%\n",
      "Epoch [2/10], Step [200/600], Loss: 0.1221470907330513, Test Accuracy: 93.26%\n",
      "Epoch [2/10], Step [300/600], Loss: 0.14586201310157776, Test Accuracy: 93.33%\n",
      "Epoch [2/10], Step [400/600], Loss: 0.1387079656124115, Test Accuracy: 93.54%\n",
      "Epoch [2/10], Step [500/600], Loss: 0.2098025381565094, Test Accuracy: 93.96%\n",
      "Epoch [2/10], Step [600/600], Loss: 0.19394424557685852, Test Accuracy: 94.23%\n",
      "Epoch [3/10], Step [100/600], Loss: 0.23029127717018127, Test Accuracy: 94.39%\n",
      "Epoch [3/10], Step [200/600], Loss: 0.33523327112197876, Test Accuracy: 94.62%\n",
      "Epoch [3/10], Step [300/600], Loss: 0.15064020454883575, Test Accuracy: 94.78%\n",
      "Epoch [3/10], Step [400/600], Loss: 0.18591612577438354, Test Accuracy: 94.89%\n",
      "Epoch [3/10], Step [500/600], Loss: 0.2254413217306137, Test Accuracy: 94.95%\n",
      "Epoch [3/10], Step [600/600], Loss: 0.09399855881929398, Test Accuracy: 95.23%\n",
      "Epoch [4/10], Step [100/600], Loss: 0.12450004369020462, Test Accuracy: 95.51%\n",
      "Epoch [4/10], Step [200/600], Loss: 0.19868269562721252, Test Accuracy: 95.5%\n",
      "Epoch [4/10], Step [300/600], Loss: 0.07280232757329941, Test Accuracy: 95.65%\n",
      "Epoch [4/10], Step [400/600], Loss: 0.1064956784248352, Test Accuracy: 95.79%\n",
      "Epoch [4/10], Step [500/600], Loss: 0.1986810863018036, Test Accuracy: 95.57%\n",
      "Epoch [4/10], Step [600/600], Loss: 0.07154640555381775, Test Accuracy: 95.89%\n",
      "Epoch [5/10], Step [100/600], Loss: 0.21325068175792694, Test Accuracy: 95.73%\n",
      "Epoch [5/10], Step [200/600], Loss: 0.1227276623249054, Test Accuracy: 95.97%\n",
      "Epoch [5/10], Step [300/600], Loss: 0.13634559512138367, Test Accuracy: 96.02%\n",
      "Epoch [5/10], Step [400/600], Loss: 0.13638052344322205, Test Accuracy: 95.75%\n",
      "Epoch [5/10], Step [500/600], Loss: 0.17580167949199677, Test Accuracy: 96.09%\n",
      "Epoch [5/10], Step [600/600], Loss: 0.11205839365720749, Test Accuracy: 96.2%\n",
      "Epoch [6/10], Step [100/600], Loss: 0.11393994092941284, Test Accuracy: 96.36%\n",
      "Epoch [6/10], Step [200/600], Loss: 0.22512145340442657, Test Accuracy: 96.26%\n",
      "Epoch [6/10], Step [300/600], Loss: 0.10366127640008926, Test Accuracy: 96.25%\n",
      "Epoch [6/10], Step [400/600], Loss: 0.12356723845005035, Test Accuracy: 96.17%\n",
      "Epoch [6/10], Step [500/600], Loss: 0.05866987630724907, Test Accuracy: 96.25%\n",
      "Epoch [6/10], Step [600/600], Loss: 0.10303458571434021, Test Accuracy: 96.33%\n",
      "Epoch [7/10], Step [100/600], Loss: 0.060642942786216736, Test Accuracy: 96.23%\n",
      "Epoch [7/10], Step [200/600], Loss: 0.053581878542900085, Test Accuracy: 96.29%\n",
      "Epoch [7/10], Step [300/600], Loss: 0.13221214711666107, Test Accuracy: 96.38%\n",
      "Epoch [7/10], Step [400/600], Loss: 0.15174199640750885, Test Accuracy: 96.45%\n",
      "Epoch [7/10], Step [500/600], Loss: 0.09355422109365463, Test Accuracy: 96.43%\n",
      "Epoch [7/10], Step [600/600], Loss: 0.05639179050922394, Test Accuracy: 96.3%\n",
      "Epoch [8/10], Step [100/600], Loss: 0.049152765423059464, Test Accuracy: 96.48%\n",
      "Epoch [8/10], Step [200/600], Loss: 0.08924919366836548, Test Accuracy: 96.4%\n",
      "Epoch [8/10], Step [300/600], Loss: 0.033685728907585144, Test Accuracy: 96.54%\n",
      "Epoch [8/10], Step [400/600], Loss: 0.10034738481044769, Test Accuracy: 96.65%\n",
      "Epoch [8/10], Step [500/600], Loss: 0.07574786245822906, Test Accuracy: 96.71%\n",
      "Epoch [8/10], Step [600/600], Loss: 0.04043855145573616, Test Accuracy: 96.55%\n",
      "Epoch [9/10], Step [100/600], Loss: 0.1097121313214302, Test Accuracy: 96.76%\n",
      "Epoch [9/10], Step [200/600], Loss: 0.0590481236577034, Test Accuracy: 96.7%\n",
      "Epoch [9/10], Step [300/600], Loss: 0.03866235911846161, Test Accuracy: 96.78%\n",
      "Epoch [9/10], Step [400/600], Loss: 0.17202547192573547, Test Accuracy: 96.68%\n",
      "Epoch [9/10], Step [500/600], Loss: 0.05244879424571991, Test Accuracy: 96.87%\n",
      "Epoch [9/10], Step [600/600], Loss: 0.1036706417798996, Test Accuracy: 96.76%\n",
      "Epoch [10/10], Step [100/600], Loss: 0.15678295493125916, Test Accuracy: 96.77%\n",
      "Epoch [10/10], Step [200/600], Loss: 0.10766972601413727, Test Accuracy: 96.64%\n",
      "Epoch [10/10], Step [300/600], Loss: 0.04897618293762207, Test Accuracy: 96.89%\n",
      "Epoch [10/10], Step [400/600], Loss: 0.050130318850278854, Test Accuracy: 96.67%\n",
      "Epoch [10/10], Step [500/600], Loss: 0.05805210769176483, Test Accuracy: 96.9%\n",
      "Epoch [10/10], Step [600/600], Loss: 0.04205632209777832, Test Accuracy: 96.86%\n",
      "Training ELM with  50  neurons...\n",
      "Using cuda device\n",
      "Neural_Net(\n",
      "  (NN_stack): Sequential(\n",
      "    (0): Flatten(start_dim=1, end_dim=-1)\n",
      "    (1): Linear(in_features=784, out_features=50, bias=True)\n",
      "    (2): ReLU()\n",
      "    (3): Linear(in_features=50, out_features=10, bias=True)\n",
      "  )\n",
      ")\n",
      "Epoch [1/10], Step [100/600], Loss: 1.5175977945327759, Test Accuracy: 69.97%\n",
      "Epoch [1/10], Step [200/600], Loss: 1.218186616897583, Test Accuracy: 72.79%\n",
      "Epoch [1/10], Step [300/600], Loss: 1.0123316049575806, Test Accuracy: 74.77%\n",
      "Epoch [1/10], Step [400/600], Loss: 0.9882549047470093, Test Accuracy: 75.79%\n",
      "Epoch [1/10], Step [500/600], Loss: 0.8538052439689636, Test Accuracy: 76.6%\n",
      "Epoch [1/10], Step [600/600], Loss: 0.8860806226730347, Test Accuracy: 76.96%\n",
      "Epoch [2/10], Step [100/600], Loss: 0.7236865162849426, Test Accuracy: 77.29%\n",
      "Epoch [2/10], Step [200/600], Loss: 0.6232576966285706, Test Accuracy: 78.08%\n",
      "Epoch [2/10], Step [300/600], Loss: 0.6191631555557251, Test Accuracy: 77.91%\n",
      "Epoch [2/10], Step [400/600], Loss: 0.9471216797828674, Test Accuracy: 78.36%\n",
      "Epoch [2/10], Step [500/600], Loss: 0.8023881316184998, Test Accuracy: 78.27%\n",
      "Epoch [2/10], Step [600/600], Loss: 0.8514023423194885, Test Accuracy: 78.68%\n",
      "Epoch [3/10], Step [100/600], Loss: 0.6558552384376526, Test Accuracy: 78.81%\n",
      "Epoch [3/10], Step [200/600], Loss: 0.7091326713562012, Test Accuracy: 78.75%\n",
      "Epoch [3/10], Step [300/600], Loss: 0.7872379422187805, Test Accuracy: 79.0%\n",
      "Epoch [3/10], Step [400/600], Loss: 0.6705946326255798, Test Accuracy: 79.21%\n",
      "Epoch [3/10], Step [500/600], Loss: 0.8878288865089417, Test Accuracy: 79.15%\n",
      "Epoch [3/10], Step [600/600], Loss: 0.5915794968605042, Test Accuracy: 79.54%\n",
      "Epoch [4/10], Step [100/600], Loss: 0.6814645528793335, Test Accuracy: 79.49%\n",
      "Epoch [4/10], Step [200/600], Loss: 0.6766747236251831, Test Accuracy: 79.58%\n",
      "Epoch [4/10], Step [300/600], Loss: 0.6973986625671387, Test Accuracy: 79.69%\n",
      "Epoch [4/10], Step [400/600], Loss: 0.7952633500099182, Test Accuracy: 79.79%\n",
      "Epoch [4/10], Step [500/600], Loss: 0.6529693603515625, Test Accuracy: 79.76%\n",
      "Epoch [4/10], Step [600/600], Loss: 0.7868892550468445, Test Accuracy: 79.91%\n",
      "Epoch [5/10], Step [100/600], Loss: 0.8644773960113525, Test Accuracy: 79.74%\n",
      "Epoch [5/10], Step [200/600], Loss: 0.5866829752922058, Test Accuracy: 79.66%\n",
      "Epoch [5/10], Step [300/600], Loss: 0.7169907093048096, Test Accuracy: 79.7%\n",
      "Epoch [5/10], Step [400/600], Loss: 0.6466124653816223, Test Accuracy: 79.78%\n",
      "Epoch [5/10], Step [500/600], Loss: 0.5916131734848022, Test Accuracy: 79.75%\n",
      "Epoch [5/10], Step [600/600], Loss: 0.657166063785553, Test Accuracy: 79.78%\n",
      "Epoch [6/10], Step [100/600], Loss: 0.5076546669006348, Test Accuracy: 79.68%\n",
      "Epoch [6/10], Step [200/600], Loss: 0.6345308423042297, Test Accuracy: 79.75%\n",
      "Epoch [6/10], Step [300/600], Loss: 0.5695998668670654, Test Accuracy: 79.71%\n",
      "Epoch [6/10], Step [400/600], Loss: 0.8465913534164429, Test Accuracy: 80.0%\n",
      "Epoch [6/10], Step [500/600], Loss: 0.5173267126083374, Test Accuracy: 79.68%\n",
      "Epoch [6/10], Step [600/600], Loss: 0.6720194220542908, Test Accuracy: 79.69%\n",
      "Epoch [7/10], Step [100/600], Loss: 0.5281224250793457, Test Accuracy: 79.98%\n",
      "Epoch [7/10], Step [200/600], Loss: 0.6740960478782654, Test Accuracy: 79.69%\n",
      "Epoch [7/10], Step [300/600], Loss: 0.6590555310249329, Test Accuracy: 79.86%\n",
      "Epoch [7/10], Step [400/600], Loss: 0.7650410532951355, Test Accuracy: 79.97%\n",
      "Epoch [7/10], Step [500/600], Loss: 0.6565567255020142, Test Accuracy: 79.94%\n",
      "Epoch [7/10], Step [600/600], Loss: 0.501469612121582, Test Accuracy: 80.04%\n",
      "Epoch [8/10], Step [100/600], Loss: 0.6870458126068115, Test Accuracy: 80.05%\n",
      "Epoch [8/10], Step [200/600], Loss: 0.47339779138565063, Test Accuracy: 80.11%\n",
      "Epoch [8/10], Step [300/600], Loss: 0.6413156986236572, Test Accuracy: 79.9%\n",
      "Epoch [8/10], Step [400/600], Loss: 0.5677270889282227, Test Accuracy: 79.96%\n",
      "Epoch [8/10], Step [500/600], Loss: 0.6027636528015137, Test Accuracy: 79.98%\n",
      "Epoch [8/10], Step [600/600], Loss: 0.5675534009933472, Test Accuracy: 79.97%\n",
      "Epoch [9/10], Step [100/600], Loss: 0.7049260139465332, Test Accuracy: 80.06%\n",
      "Epoch [9/10], Step [200/600], Loss: 0.6082490086555481, Test Accuracy: 80.18%\n",
      "Epoch [9/10], Step [300/600], Loss: 0.6926186084747314, Test Accuracy: 80.08%\n",
      "Epoch [9/10], Step [400/600], Loss: 0.5286548733711243, Test Accuracy: 80.09%\n",
      "Epoch [9/10], Step [500/600], Loss: 0.6051278114318848, Test Accuracy: 80.14%\n",
      "Epoch [9/10], Step [600/600], Loss: 0.6624815464019775, Test Accuracy: 80.03%\n",
      "Epoch [10/10], Step [100/600], Loss: 0.5877408385276794, Test Accuracy: 79.92%\n",
      "Epoch [10/10], Step [200/600], Loss: 0.465760737657547, Test Accuracy: 80.07%\n",
      "Epoch [10/10], Step [300/600], Loss: 0.6328963041305542, Test Accuracy: 79.95%\n",
      "Epoch [10/10], Step [400/600], Loss: 0.5629346966743469, Test Accuracy: 80.01%\n",
      "Epoch [10/10], Step [500/600], Loss: 0.5853419899940491, Test Accuracy: 79.95%\n",
      "Epoch [10/10], Step [600/600], Loss: 0.594088613986969, Test Accuracy: 80.0%\n",
      "Training FFNN with  100  neurons...\n",
      "Using cuda device\n",
      "Neural_Net(\n",
      "  (NN_stack): Sequential(\n",
      "    (0): Flatten(start_dim=1, end_dim=-1)\n",
      "    (1): Linear(in_features=784, out_features=100, bias=True)\n",
      "    (2): ReLU()\n",
      "    (3): Linear(in_features=100, out_features=10, bias=True)\n",
      "  )\n",
      ")\n",
      "Epoch [1/10], Step [100/600], Loss: 0.37558919191360474, Test Accuracy: 88.59%\n",
      "Epoch [1/10], Step [200/600], Loss: 0.28031501173973083, Test Accuracy: 90.99%\n",
      "Epoch [1/10], Step [300/600], Loss: 0.22375041246414185, Test Accuracy: 91.88%\n",
      "Epoch [1/10], Step [400/600], Loss: 0.34479114413261414, Test Accuracy: 92.44%\n",
      "Epoch [1/10], Step [500/600], Loss: 0.3674745261669159, Test Accuracy: 93.03%\n",
      "Epoch [1/10], Step [600/600], Loss: 0.18119193613529205, Test Accuracy: 93.68%\n",
      "Epoch [2/10], Step [100/600], Loss: 0.12900398671627045, Test Accuracy: 93.84%\n",
      "Epoch [2/10], Step [200/600], Loss: 0.20584766566753387, Test Accuracy: 94.38%\n",
      "Epoch [2/10], Step [300/600], Loss: 0.2569979429244995, Test Accuracy: 94.85%\n",
      "Epoch [2/10], Step [400/600], Loss: 0.27013644576072693, Test Accuracy: 95.19%\n",
      "Epoch [2/10], Step [500/600], Loss: 0.09477876871824265, Test Accuracy: 95.2%\n",
      "Epoch [2/10], Step [600/600], Loss: 0.20757000148296356, Test Accuracy: 95.1%\n",
      "Epoch [3/10], Step [100/600], Loss: 0.23275786638259888, Test Accuracy: 95.32%\n",
      "Epoch [3/10], Step [200/600], Loss: 0.18266361951828003, Test Accuracy: 95.35%\n",
      "Epoch [3/10], Step [300/600], Loss: 0.04476189613342285, Test Accuracy: 96.05%\n",
      "Epoch [3/10], Step [400/600], Loss: 0.12099477648735046, Test Accuracy: 96.02%\n",
      "Epoch [3/10], Step [500/600], Loss: 0.10275616496801376, Test Accuracy: 96.01%\n",
      "Epoch [3/10], Step [600/600], Loss: 0.17624956369400024, Test Accuracy: 96.45%\n",
      "Epoch [4/10], Step [100/600], Loss: 0.12522967159748077, Test Accuracy: 96.36%\n",
      "Epoch [4/10], Step [200/600], Loss: 0.1468563675880432, Test Accuracy: 96.18%\n",
      "Epoch [4/10], Step [300/600], Loss: 0.05106811970472336, Test Accuracy: 96.61%\n",
      "Epoch [4/10], Step [400/600], Loss: 0.07812768220901489, Test Accuracy: 96.63%\n",
      "Epoch [4/10], Step [500/600], Loss: 0.042470186948776245, Test Accuracy: 96.55%\n",
      "Epoch [4/10], Step [600/600], Loss: 0.08772477507591248, Test Accuracy: 96.54%\n",
      "Epoch [5/10], Step [100/600], Loss: 0.045217663049697876, Test Accuracy: 96.93%\n",
      "Epoch [5/10], Step [200/600], Loss: 0.05778928101062775, Test Accuracy: 96.76%\n",
      "Epoch [5/10], Step [300/600], Loss: 0.15248869359493256, Test Accuracy: 96.58%\n",
      "Epoch [5/10], Step [400/600], Loss: 0.08590769022703171, Test Accuracy: 96.8%\n",
      "Epoch [5/10], Step [500/600], Loss: 0.045955006033182144, Test Accuracy: 96.93%\n",
      "Epoch [5/10], Step [600/600], Loss: 0.11308789998292923, Test Accuracy: 97.01%\n",
      "Epoch [6/10], Step [100/600], Loss: 0.04517059028148651, Test Accuracy: 97.09%\n",
      "Epoch [6/10], Step [200/600], Loss: 0.041728075593709946, Test Accuracy: 97.11%\n",
      "Epoch [6/10], Step [300/600], Loss: 0.09135233610868454, Test Accuracy: 97.17%\n",
      "Epoch [6/10], Step [400/600], Loss: 0.09692464023828506, Test Accuracy: 97.15%\n",
      "Epoch [6/10], Step [500/600], Loss: 0.029554031789302826, Test Accuracy: 97.15%\n",
      "Epoch [6/10], Step [600/600], Loss: 0.19091300666332245, Test Accuracy: 97.02%\n",
      "Epoch [7/10], Step [100/600], Loss: 0.06511685997247696, Test Accuracy: 97.2%\n",
      "Epoch [7/10], Step [200/600], Loss: 0.07748308777809143, Test Accuracy: 97.06%\n",
      "Epoch [7/10], Step [300/600], Loss: 0.0418425090610981, Test Accuracy: 97.26%\n",
      "Epoch [7/10], Step [400/600], Loss: 0.08599813282489777, Test Accuracy: 97.14%\n",
      "Epoch [7/10], Step [500/600], Loss: 0.04966709017753601, Test Accuracy: 97.29%\n",
      "Epoch [7/10], Step [600/600], Loss: 0.08589629083871841, Test Accuracy: 97.47%\n",
      "Epoch [8/10], Step [100/600], Loss: 0.0843934565782547, Test Accuracy: 97.2%\n",
      "Epoch [8/10], Step [200/600], Loss: 0.08486409485340118, Test Accuracy: 97.37%\n",
      "Epoch [8/10], Step [300/600], Loss: 0.03692920133471489, Test Accuracy: 97.53%\n",
      "Epoch [8/10], Step [400/600], Loss: 0.030148781836032867, Test Accuracy: 97.42%\n",
      "Epoch [8/10], Step [500/600], Loss: 0.03970884904265404, Test Accuracy: 97.3%\n",
      "Epoch [8/10], Step [600/600], Loss: 0.01942097395658493, Test Accuracy: 97.44%\n",
      "Epoch [9/10], Step [100/600], Loss: 0.06352605670690536, Test Accuracy: 97.55%\n",
      "Epoch [9/10], Step [200/600], Loss: 0.04783022403717041, Test Accuracy: 97.44%\n",
      "Epoch [9/10], Step [300/600], Loss: 0.03768501430749893, Test Accuracy: 97.59%\n",
      "Epoch [9/10], Step [400/600], Loss: 0.016328968107700348, Test Accuracy: 97.37%\n",
      "Epoch [9/10], Step [500/600], Loss: 0.07511331886053085, Test Accuracy: 97.71%\n",
      "Epoch [9/10], Step [600/600], Loss: 0.046087704598903656, Test Accuracy: 97.64%\n",
      "Epoch [10/10], Step [100/600], Loss: 0.02822919562458992, Test Accuracy: 97.54%\n",
      "Epoch [10/10], Step [200/600], Loss: 0.012276495806872845, Test Accuracy: 97.51%\n",
      "Epoch [10/10], Step [300/600], Loss: 0.026478955522179604, Test Accuracy: 97.67%\n",
      "Epoch [10/10], Step [400/600], Loss: 0.018140427768230438, Test Accuracy: 97.41%\n",
      "Epoch [10/10], Step [500/600], Loss: 0.025740617886185646, Test Accuracy: 97.52%\n",
      "Epoch [10/10], Step [600/600], Loss: 0.03709416463971138, Test Accuracy: 97.49%\n",
      "Training ELM with  100  neurons...\n",
      "Using cuda device\n",
      "Neural_Net(\n",
      "  (NN_stack): Sequential(\n",
      "    (0): Flatten(start_dim=1, end_dim=-1)\n",
      "    (1): Linear(in_features=784, out_features=100, bias=True)\n",
      "    (2): ReLU()\n",
      "    (3): Linear(in_features=100, out_features=10, bias=True)\n",
      "  )\n",
      ")\n",
      "Epoch [1/10], Step [100/600], Loss: 1.0513614416122437, Test Accuracy: 77.37%\n",
      "Epoch [1/10], Step [200/600], Loss: 0.8414331078529358, Test Accuracy: 82.27%\n",
      "Epoch [1/10], Step [300/600], Loss: 0.7135791182518005, Test Accuracy: 83.76%\n",
      "Epoch [1/10], Step [400/600], Loss: 0.7196149230003357, Test Accuracy: 84.5%\n",
      "Epoch [1/10], Step [500/600], Loss: 0.6861647963523865, Test Accuracy: 85.24%\n",
      "Epoch [1/10], Step [600/600], Loss: 0.6105607151985168, Test Accuracy: 85.59%\n",
      "Epoch [2/10], Step [100/600], Loss: 0.5932513475418091, Test Accuracy: 85.9%\n",
      "Epoch [2/10], Step [200/600], Loss: 0.5970394015312195, Test Accuracy: 86.32%\n",
      "Epoch [2/10], Step [300/600], Loss: 0.5714231729507446, Test Accuracy: 86.44%\n",
      "Epoch [2/10], Step [400/600], Loss: 0.5084313750267029, Test Accuracy: 86.78%\n",
      "Epoch [2/10], Step [500/600], Loss: 0.6513714790344238, Test Accuracy: 86.83%\n",
      "Epoch [2/10], Step [600/600], Loss: 0.5114153027534485, Test Accuracy: 86.76%\n",
      "Epoch [3/10], Step [100/600], Loss: 0.5044515132904053, Test Accuracy: 87.01%\n",
      "Epoch [3/10], Step [200/600], Loss: 0.6543563008308411, Test Accuracy: 86.95%\n",
      "Epoch [3/10], Step [300/600], Loss: 0.6432756185531616, Test Accuracy: 87.13%\n",
      "Epoch [3/10], Step [400/600], Loss: 0.5405716896057129, Test Accuracy: 87.09%\n",
      "Epoch [3/10], Step [500/600], Loss: 0.3523768186569214, Test Accuracy: 87.48%\n",
      "Epoch [3/10], Step [600/600], Loss: 0.617146909236908, Test Accuracy: 87.47%\n",
      "Epoch [4/10], Step [100/600], Loss: 0.45970427989959717, Test Accuracy: 87.37%\n",
      "Epoch [4/10], Step [200/600], Loss: 0.4089958965778351, Test Accuracy: 87.29%\n",
      "Epoch [4/10], Step [300/600], Loss: 0.383592426776886, Test Accuracy: 87.31%\n",
      "Epoch [4/10], Step [400/600], Loss: 0.45914313197135925, Test Accuracy: 87.63%\n",
      "Epoch [4/10], Step [500/600], Loss: 0.2812511920928955, Test Accuracy: 87.59%\n",
      "Epoch [4/10], Step [600/600], Loss: 0.5399225354194641, Test Accuracy: 87.73%\n",
      "Epoch [5/10], Step [100/600], Loss: 0.47692981362342834, Test Accuracy: 87.78%\n",
      "Epoch [5/10], Step [200/600], Loss: 0.5016748309135437, Test Accuracy: 87.77%\n",
      "Epoch [5/10], Step [300/600], Loss: 0.6102296113967896, Test Accuracy: 87.81%\n",
      "Epoch [5/10], Step [400/600], Loss: 0.28752005100250244, Test Accuracy: 87.79%\n",
      "Epoch [5/10], Step [500/600], Loss: 0.4173109531402588, Test Accuracy: 87.66%\n",
      "Epoch [5/10], Step [600/600], Loss: 0.3356062173843384, Test Accuracy: 87.75%\n",
      "Epoch [6/10], Step [100/600], Loss: 0.5491418242454529, Test Accuracy: 87.41%\n",
      "Epoch [6/10], Step [200/600], Loss: 0.4195338487625122, Test Accuracy: 87.93%\n",
      "Epoch [6/10], Step [300/600], Loss: 0.504021406173706, Test Accuracy: 87.88%\n",
      "Epoch [6/10], Step [400/600], Loss: 0.42299118638038635, Test Accuracy: 87.95%\n",
      "Epoch [6/10], Step [500/600], Loss: 0.40431132912635803, Test Accuracy: 87.7%\n",
      "Epoch [6/10], Step [600/600], Loss: 0.5323132872581482, Test Accuracy: 87.89%\n",
      "Epoch [7/10], Step [100/600], Loss: 0.34610316157341003, Test Accuracy: 88.0%\n",
      "Epoch [7/10], Step [200/600], Loss: 0.5325583815574646, Test Accuracy: 88.04%\n",
      "Epoch [7/10], Step [300/600], Loss: 0.3524056375026703, Test Accuracy: 87.95%\n",
      "Epoch [7/10], Step [400/600], Loss: 0.3680509328842163, Test Accuracy: 87.99%\n",
      "Epoch [7/10], Step [500/600], Loss: 0.4418627619743347, Test Accuracy: 87.95%\n",
      "Epoch [7/10], Step [600/600], Loss: 0.3550059497356415, Test Accuracy: 87.65%\n",
      "Epoch [8/10], Step [100/600], Loss: 0.38810721039772034, Test Accuracy: 87.97%\n",
      "Epoch [8/10], Step [200/600], Loss: 0.5010796189308167, Test Accuracy: 87.99%\n",
      "Epoch [8/10], Step [300/600], Loss: 0.3281269073486328, Test Accuracy: 87.86%\n",
      "Epoch [8/10], Step [400/600], Loss: 0.608557939529419, Test Accuracy: 87.74%\n",
      "Epoch [8/10], Step [500/600], Loss: 0.5848384499549866, Test Accuracy: 87.91%\n",
      "Epoch [8/10], Step [600/600], Loss: 0.47423362731933594, Test Accuracy: 87.95%\n",
      "Epoch [9/10], Step [100/600], Loss: 0.42834436893463135, Test Accuracy: 87.88%\n",
      "Epoch [9/10], Step [200/600], Loss: 0.363785982131958, Test Accuracy: 87.89%\n",
      "Epoch [9/10], Step [300/600], Loss: 0.2496967911720276, Test Accuracy: 88.15%\n",
      "Epoch [9/10], Step [400/600], Loss: 0.2612002491950989, Test Accuracy: 87.95%\n",
      "Epoch [9/10], Step [500/600], Loss: 0.5326745510101318, Test Accuracy: 88.1%\n",
      "Epoch [9/10], Step [600/600], Loss: 0.3234576880931854, Test Accuracy: 87.83%\n",
      "Epoch [10/10], Step [100/600], Loss: 0.29463380575180054, Test Accuracy: 88.02%\n",
      "Epoch [10/10], Step [200/600], Loss: 0.379292756319046, Test Accuracy: 87.98%\n",
      "Epoch [10/10], Step [300/600], Loss: 0.44049033522605896, Test Accuracy: 88.02%\n",
      "Epoch [10/10], Step [400/600], Loss: 0.4243437945842743, Test Accuracy: 87.81%\n",
      "Epoch [10/10], Step [500/600], Loss: 0.4171658456325531, Test Accuracy: 87.93%\n",
      "Epoch [10/10], Step [600/600], Loss: 0.3547736704349518, Test Accuracy: 87.93%\n",
      "Training FFNN with  200  neurons...\n",
      "Using cuda device\n",
      "Neural_Net(\n",
      "  (NN_stack): Sequential(\n",
      "    (0): Flatten(start_dim=1, end_dim=-1)\n",
      "    (1): Linear(in_features=784, out_features=200, bias=True)\n",
      "    (2): ReLU()\n",
      "    (3): Linear(in_features=200, out_features=10, bias=True)\n",
      "  )\n",
      ")\n",
      "Epoch [1/10], Step [100/600], Loss: 0.3778657913208008, Test Accuracy: 90.0%\n",
      "Epoch [1/10], Step [200/600], Loss: 0.28356799483299255, Test Accuracy: 91.67%\n",
      "Epoch [1/10], Step [300/600], Loss: 0.17879629135131836, Test Accuracy: 92.85%\n",
      "Epoch [1/10], Step [400/600], Loss: 0.21795375645160675, Test Accuracy: 93.54%\n",
      "Epoch [1/10], Step [500/600], Loss: 0.1572125107049942, Test Accuracy: 93.58%\n",
      "Epoch [1/10], Step [600/600], Loss: 0.15250462293624878, Test Accuracy: 94.8%\n",
      "Epoch [2/10], Step [100/600], Loss: 0.1202767938375473, Test Accuracy: 94.85%\n",
      "Epoch [2/10], Step [200/600], Loss: 0.2073529064655304, Test Accuracy: 95.19%\n",
      "Epoch [2/10], Step [300/600], Loss: 0.11991273611783981, Test Accuracy: 95.49%\n",
      "Epoch [2/10], Step [400/600], Loss: 0.13343976438045502, Test Accuracy: 95.61%\n",
      "Epoch [2/10], Step [500/600], Loss: 0.1344098001718521, Test Accuracy: 96.06%\n",
      "Epoch [2/10], Step [600/600], Loss: 0.08472950011491776, Test Accuracy: 96.45%\n",
      "Epoch [3/10], Step [100/600], Loss: 0.10828158259391785, Test Accuracy: 96.28%\n",
      "Epoch [3/10], Step [200/600], Loss: 0.06836588680744171, Test Accuracy: 96.62%\n",
      "Epoch [3/10], Step [300/600], Loss: 0.16180133819580078, Test Accuracy: 96.47%\n",
      "Epoch [3/10], Step [400/600], Loss: 0.09613212943077087, Test Accuracy: 96.77%\n",
      "Epoch [3/10], Step [500/600], Loss: 0.1411263346672058, Test Accuracy: 97.02%\n",
      "Epoch [3/10], Step [600/600], Loss: 0.185451939702034, Test Accuracy: 96.82%\n",
      "Epoch [4/10], Step [100/600], Loss: 0.10833800584077835, Test Accuracy: 96.85%\n",
      "Epoch [4/10], Step [200/600], Loss: 0.0599503368139267, Test Accuracy: 97.07%\n",
      "Epoch [4/10], Step [300/600], Loss: 0.09824242442846298, Test Accuracy: 97.1%\n",
      "Epoch [4/10], Step [400/600], Loss: 0.03583827614784241, Test Accuracy: 97.16%\n",
      "Epoch [4/10], Step [500/600], Loss: 0.023017894476652145, Test Accuracy: 97.18%\n",
      "Epoch [4/10], Step [600/600], Loss: 0.05035262554883957, Test Accuracy: 97.26%\n",
      "Epoch [5/10], Step [100/600], Loss: 0.056607943028211594, Test Accuracy: 97.35%\n",
      "Epoch [5/10], Step [200/600], Loss: 0.09708456695079803, Test Accuracy: 97.42%\n",
      "Epoch [5/10], Step [300/600], Loss: 0.05810299515724182, Test Accuracy: 97.41%\n",
      "Epoch [5/10], Step [400/600], Loss: 0.08132046461105347, Test Accuracy: 97.41%\n",
      "Epoch [5/10], Step [500/600], Loss: 0.03785780444741249, Test Accuracy: 97.35%\n",
      "Epoch [5/10], Step [600/600], Loss: 0.11495222896337509, Test Accuracy: 97.37%\n",
      "Epoch [6/10], Step [100/600], Loss: 0.014950092881917953, Test Accuracy: 97.75%\n",
      "Epoch [6/10], Step [200/600], Loss: 0.029525673016905785, Test Accuracy: 97.59%\n",
      "Epoch [6/10], Step [300/600], Loss: 0.021174561232328415, Test Accuracy: 97.67%\n",
      "Epoch [6/10], Step [400/600], Loss: 0.03498385101556778, Test Accuracy: 97.56%\n",
      "Epoch [6/10], Step [500/600], Loss: 0.0652713030576706, Test Accuracy: 97.75%\n",
      "Epoch [6/10], Step [600/600], Loss: 0.03205539658665657, Test Accuracy: 97.74%\n",
      "Epoch [7/10], Step [100/600], Loss: 0.026709938421845436, Test Accuracy: 97.75%\n",
      "Epoch [7/10], Step [200/600], Loss: 0.03265002369880676, Test Accuracy: 97.83%\n",
      "Epoch [7/10], Step [300/600], Loss: 0.020548008382320404, Test Accuracy: 97.6%\n",
      "Epoch [7/10], Step [400/600], Loss: 0.04911497235298157, Test Accuracy: 97.7%\n",
      "Epoch [7/10], Step [500/600], Loss: 0.05930398032069206, Test Accuracy: 97.77%\n",
      "Epoch [7/10], Step [600/600], Loss: 0.037568349391222, Test Accuracy: 97.59%\n",
      "Epoch [8/10], Step [100/600], Loss: 0.014672134071588516, Test Accuracy: 97.92%\n",
      "Epoch [8/10], Step [200/600], Loss: 0.04084450751543045, Test Accuracy: 97.89%\n",
      "Epoch [8/10], Step [300/600], Loss: 0.019403425976634026, Test Accuracy: 97.88%\n",
      "Epoch [8/10], Step [400/600], Loss: 0.02905486337840557, Test Accuracy: 97.97%\n",
      "Epoch [8/10], Step [500/600], Loss: 0.026178434491157532, Test Accuracy: 98.06%\n",
      "Epoch [8/10], Step [600/600], Loss: 0.011510273441672325, Test Accuracy: 97.72%\n",
      "Epoch [9/10], Step [100/600], Loss: 0.013498319312930107, Test Accuracy: 97.94%\n",
      "Epoch [9/10], Step [200/600], Loss: 0.013768200762569904, Test Accuracy: 97.91%\n",
      "Epoch [9/10], Step [300/600], Loss: 0.016514962539076805, Test Accuracy: 97.79%\n",
      "Epoch [9/10], Step [400/600], Loss: 0.014778025448322296, Test Accuracy: 97.94%\n",
      "Epoch [9/10], Step [500/600], Loss: 0.04671893268823624, Test Accuracy: 97.79%\n",
      "Epoch [9/10], Step [600/600], Loss: 0.027654042467474937, Test Accuracy: 97.85%\n",
      "Epoch [10/10], Step [100/600], Loss: 0.04703705012798309, Test Accuracy: 97.92%\n",
      "Epoch [10/10], Step [200/600], Loss: 0.01855158992111683, Test Accuracy: 98.04%\n",
      "Epoch [10/10], Step [300/600], Loss: 0.026440944522619247, Test Accuracy: 97.95%\n",
      "Epoch [10/10], Step [400/600], Loss: 0.04024513065814972, Test Accuracy: 97.89%\n",
      "Epoch [10/10], Step [500/600], Loss: 0.03189308941364288, Test Accuracy: 97.94%\n",
      "Epoch [10/10], Step [600/600], Loss: 0.008558313362300396, Test Accuracy: 98.01%\n",
      "Training ELM with  200  neurons...\n",
      "Using cuda device\n",
      "Neural_Net(\n",
      "  (NN_stack): Sequential(\n",
      "    (0): Flatten(start_dim=1, end_dim=-1)\n",
      "    (1): Linear(in_features=784, out_features=200, bias=True)\n",
      "    (2): ReLU()\n",
      "    (3): Linear(in_features=200, out_features=10, bias=True)\n",
      "  )\n",
      ")\n",
      "Epoch [1/10], Step [100/600], Loss: 0.7112056612968445, Test Accuracy: 83.52%\n",
      "Epoch [1/10], Step [200/600], Loss: 0.6001788973808289, Test Accuracy: 86.28%\n",
      "Epoch [1/10], Step [300/600], Loss: 0.39001014828681946, Test Accuracy: 87.19%\n",
      "Epoch [1/10], Step [400/600], Loss: 0.46907052397727966, Test Accuracy: 88.25%\n",
      "Epoch [1/10], Step [500/600], Loss: 0.418908029794693, Test Accuracy: 89.06%\n",
      "Epoch [1/10], Step [600/600], Loss: 0.47889435291290283, Test Accuracy: 89.03%\n",
      "Epoch [2/10], Step [100/600], Loss: 0.3044793903827667, Test Accuracy: 89.73%\n",
      "Epoch [2/10], Step [200/600], Loss: 0.36113181710243225, Test Accuracy: 89.55%\n",
      "Epoch [2/10], Step [300/600], Loss: 0.3986707329750061, Test Accuracy: 90.15%\n",
      "Epoch [2/10], Step [400/600], Loss: 0.3173968493938446, Test Accuracy: 90.17%\n",
      "Epoch [2/10], Step [500/600], Loss: 0.3434549570083618, Test Accuracy: 90.68%\n",
      "Epoch [2/10], Step [600/600], Loss: 0.35190510749816895, Test Accuracy: 90.55%\n",
      "Epoch [3/10], Step [100/600], Loss: 0.20683199167251587, Test Accuracy: 90.71%\n",
      "Epoch [3/10], Step [200/600], Loss: 0.3432517945766449, Test Accuracy: 90.91%\n",
      "Epoch [3/10], Step [300/600], Loss: 0.27903491258621216, Test Accuracy: 91.13%\n",
      "Epoch [3/10], Step [400/600], Loss: 0.2610626816749573, Test Accuracy: 91.11%\n",
      "Epoch [3/10], Step [500/600], Loss: 0.21414659917354584, Test Accuracy: 91.33%\n",
      "Epoch [3/10], Step [600/600], Loss: 0.4119175672531128, Test Accuracy: 91.29%\n",
      "Epoch [4/10], Step [100/600], Loss: 0.18705150485038757, Test Accuracy: 91.44%\n",
      "Epoch [4/10], Step [200/600], Loss: 0.39540278911590576, Test Accuracy: 91.46%\n",
      "Epoch [4/10], Step [300/600], Loss: 0.22786444425582886, Test Accuracy: 91.64%\n",
      "Epoch [4/10], Step [400/600], Loss: 0.28986895084381104, Test Accuracy: 91.41%\n",
      "Epoch [4/10], Step [500/600], Loss: 0.4071160852909088, Test Accuracy: 91.44%\n",
      "Epoch [4/10], Step [600/600], Loss: 0.4308761656284332, Test Accuracy: 91.81%\n",
      "Epoch [5/10], Step [100/600], Loss: 0.24082423746585846, Test Accuracy: 91.59%\n",
      "Epoch [5/10], Step [200/600], Loss: 0.3641602396965027, Test Accuracy: 91.54%\n",
      "Epoch [5/10], Step [300/600], Loss: 0.40275290608406067, Test Accuracy: 91.54%\n",
      "Epoch [5/10], Step [400/600], Loss: 0.3684597909450531, Test Accuracy: 91.81%\n",
      "Epoch [5/10], Step [500/600], Loss: 0.4259699881076813, Test Accuracy: 91.79%\n",
      "Epoch [5/10], Step [600/600], Loss: 0.3644886910915375, Test Accuracy: 91.7%\n",
      "Epoch [6/10], Step [100/600], Loss: 0.2577950358390808, Test Accuracy: 91.75%\n",
      "Epoch [6/10], Step [200/600], Loss: 0.2699004113674164, Test Accuracy: 91.87%\n",
      "Epoch [6/10], Step [300/600], Loss: 0.18391239643096924, Test Accuracy: 91.54%\n",
      "Epoch [6/10], Step [400/600], Loss: 0.40323394536972046, Test Accuracy: 91.61%\n",
      "Epoch [6/10], Step [500/600], Loss: 0.1800142526626587, Test Accuracy: 91.81%\n",
      "Epoch [6/10], Step [600/600], Loss: 0.4252397418022156, Test Accuracy: 92.01%\n",
      "Epoch [7/10], Step [100/600], Loss: 0.23344378173351288, Test Accuracy: 91.99%\n",
      "Epoch [7/10], Step [200/600], Loss: 0.2133130580186844, Test Accuracy: 91.83%\n",
      "Epoch [7/10], Step [300/600], Loss: 0.329919695854187, Test Accuracy: 92.01%\n",
      "Epoch [7/10], Step [400/600], Loss: 0.2960154116153717, Test Accuracy: 91.87%\n",
      "Epoch [7/10], Step [500/600], Loss: 0.2872507572174072, Test Accuracy: 91.94%\n",
      "Epoch [7/10], Step [600/600], Loss: 0.2992267310619354, Test Accuracy: 91.87%\n",
      "Epoch [8/10], Step [100/600], Loss: 0.175816148519516, Test Accuracy: 92.05%\n",
      "Epoch [8/10], Step [200/600], Loss: 0.32356926798820496, Test Accuracy: 92.03%\n",
      "Epoch [8/10], Step [300/600], Loss: 0.18662719428539276, Test Accuracy: 91.87%\n",
      "Epoch [8/10], Step [400/600], Loss: 0.3426693379878998, Test Accuracy: 92.09%\n",
      "Epoch [8/10], Step [500/600], Loss: 0.32144010066986084, Test Accuracy: 91.85%\n",
      "Epoch [8/10], Step [600/600], Loss: 0.3398577868938446, Test Accuracy: 91.77%\n",
      "Epoch [9/10], Step [100/600], Loss: 0.21715523302555084, Test Accuracy: 91.93%\n",
      "Epoch [9/10], Step [200/600], Loss: 0.27923381328582764, Test Accuracy: 91.9%\n",
      "Epoch [9/10], Step [300/600], Loss: 0.2621711492538452, Test Accuracy: 91.93%\n",
      "Epoch [9/10], Step [400/600], Loss: 0.3164576590061188, Test Accuracy: 92.04%\n",
      "Epoch [9/10], Step [500/600], Loss: 0.19424650073051453, Test Accuracy: 91.87%\n",
      "Epoch [9/10], Step [600/600], Loss: 0.22536534070968628, Test Accuracy: 91.96%\n",
      "Epoch [10/10], Step [100/600], Loss: 0.31330418586730957, Test Accuracy: 91.89%\n",
      "Epoch [10/10], Step [200/600], Loss: 0.3807375431060791, Test Accuracy: 91.97%\n",
      "Epoch [10/10], Step [300/600], Loss: 0.3073134124279022, Test Accuracy: 92.14%\n",
      "Epoch [10/10], Step [400/600], Loss: 0.3759927749633789, Test Accuracy: 92.13%\n",
      "Epoch [10/10], Step [500/600], Loss: 0.29093286395072937, Test Accuracy: 92.07%\n",
      "Epoch [10/10], Step [600/600], Loss: 0.30278244614601135, Test Accuracy: 91.96%\n",
      "Training FFNN with  500  neurons...\n",
      "Using cuda device\n",
      "Neural_Net(\n",
      "  (NN_stack): Sequential(\n",
      "    (0): Flatten(start_dim=1, end_dim=-1)\n",
      "    (1): Linear(in_features=784, out_features=500, bias=True)\n",
      "    (2): ReLU()\n",
      "    (3): Linear(in_features=500, out_features=10, bias=True)\n",
      "  )\n",
      ")\n",
      "Epoch [1/10], Step [100/600], Loss: 0.3663673400878906, Test Accuracy: 90.78%\n",
      "Epoch [1/10], Step [200/600], Loss: 0.24498695135116577, Test Accuracy: 92.31%\n",
      "Epoch [1/10], Step [300/600], Loss: 0.16713042557239532, Test Accuracy: 93.48%\n",
      "Epoch [1/10], Step [400/600], Loss: 0.20345409214496613, Test Accuracy: 94.34%\n",
      "Epoch [1/10], Step [500/600], Loss: 0.2590397000312805, Test Accuracy: 95.26%\n",
      "Epoch [1/10], Step [600/600], Loss: 0.06830794364213943, Test Accuracy: 95.94%\n",
      "Epoch [2/10], Step [100/600], Loss: 0.07600374519824982, Test Accuracy: 95.86%\n",
      "Epoch [2/10], Step [200/600], Loss: 0.1043924018740654, Test Accuracy: 96.46%\n",
      "Epoch [2/10], Step [300/600], Loss: 0.09981206059455872, Test Accuracy: 96.75%\n",
      "Epoch [2/10], Step [400/600], Loss: 0.02931121550500393, Test Accuracy: 96.7%\n",
      "Epoch [2/10], Step [500/600], Loss: 0.13724155724048615, Test Accuracy: 96.84%\n",
      "Epoch [2/10], Step [600/600], Loss: 0.11094137281179428, Test Accuracy: 97.14%\n",
      "Epoch [3/10], Step [100/600], Loss: 0.029120847582817078, Test Accuracy: 97.13%\n",
      "Epoch [3/10], Step [200/600], Loss: 0.05535168945789337, Test Accuracy: 97.33%\n",
      "Epoch [3/10], Step [300/600], Loss: 0.12223714590072632, Test Accuracy: 97.45%\n",
      "Epoch [3/10], Step [400/600], Loss: 0.05690671131014824, Test Accuracy: 97.38%\n",
      "Epoch [3/10], Step [500/600], Loss: 0.024896858260035515, Test Accuracy: 97.5%\n",
      "Epoch [3/10], Step [600/600], Loss: 0.07054183632135391, Test Accuracy: 97.58%\n",
      "Epoch [4/10], Step [100/600], Loss: 0.06939533352851868, Test Accuracy: 97.58%\n",
      "Epoch [4/10], Step [200/600], Loss: 0.045589547604322433, Test Accuracy: 97.42%\n",
      "Epoch [4/10], Step [300/600], Loss: 0.02143665961921215, Test Accuracy: 97.7%\n",
      "Epoch [4/10], Step [400/600], Loss: 0.027393028140068054, Test Accuracy: 97.66%\n",
      "Epoch [4/10], Step [500/600], Loss: 0.0637880340218544, Test Accuracy: 97.85%\n",
      "Epoch [4/10], Step [600/600], Loss: 0.034678686410188675, Test Accuracy: 97.73%\n",
      "Epoch [5/10], Step [100/600], Loss: 0.038215797394514084, Test Accuracy: 97.88%\n",
      "Epoch [5/10], Step [200/600], Loss: 0.029732201248407364, Test Accuracy: 97.85%\n",
      "Epoch [5/10], Step [300/600], Loss: 0.043970927596092224, Test Accuracy: 97.96%\n",
      "Epoch [5/10], Step [400/600], Loss: 0.03026687540113926, Test Accuracy: 97.77%\n",
      "Epoch [5/10], Step [500/600], Loss: 0.05709468200802803, Test Accuracy: 98.11%\n",
      "Epoch [5/10], Step [600/600], Loss: 0.03277325630187988, Test Accuracy: 97.95%\n",
      "Epoch [6/10], Step [100/600], Loss: 0.006266018841415644, Test Accuracy: 98.01%\n",
      "Epoch [6/10], Step [200/600], Loss: 0.024308623746037483, Test Accuracy: 97.94%\n",
      "Epoch [6/10], Step [300/600], Loss: 0.0368276946246624, Test Accuracy: 97.9%\n",
      "Epoch [6/10], Step [400/600], Loss: 0.009813301265239716, Test Accuracy: 97.97%\n",
      "Epoch [6/10], Step [500/600], Loss: 0.11212560534477234, Test Accuracy: 97.83%\n",
      "Epoch [6/10], Step [600/600], Loss: 0.057491060346364975, Test Accuracy: 97.75%\n",
      "Epoch [7/10], Step [100/600], Loss: 0.009221824817359447, Test Accuracy: 97.86%\n",
      "Epoch [7/10], Step [200/600], Loss: 0.01115520391613245, Test Accuracy: 97.81%\n",
      "Epoch [7/10], Step [300/600], Loss: 0.03476196154952049, Test Accuracy: 98.09%\n",
      "Epoch [7/10], Step [400/600], Loss: 0.02523491531610489, Test Accuracy: 98.02%\n",
      "Epoch [7/10], Step [500/600], Loss: 0.007725350093096495, Test Accuracy: 97.91%\n",
      "Epoch [7/10], Step [600/600], Loss: 0.021191129460930824, Test Accuracy: 97.88%\n",
      "Epoch [8/10], Step [100/600], Loss: 0.015667300671339035, Test Accuracy: 97.99%\n",
      "Epoch [8/10], Step [200/600], Loss: 0.005009908229112625, Test Accuracy: 98.0%\n",
      "Epoch [8/10], Step [300/600], Loss: 0.003567836480215192, Test Accuracy: 97.78%\n",
      "Epoch [8/10], Step [400/600], Loss: 0.011526224203407764, Test Accuracy: 98.1%\n",
      "Epoch [8/10], Step [500/600], Loss: 0.011638671159744263, Test Accuracy: 97.89%\n",
      "Epoch [8/10], Step [600/600], Loss: 0.011057330295443535, Test Accuracy: 97.98%\n",
      "Epoch [9/10], Step [100/600], Loss: 0.011898444965481758, Test Accuracy: 98.02%\n",
      "Epoch [9/10], Step [200/600], Loss: 0.025585737079381943, Test Accuracy: 97.86%\n",
      "Epoch [9/10], Step [300/600], Loss: 0.011797627434134483, Test Accuracy: 97.9%\n",
      "Epoch [9/10], Step [400/600], Loss: 0.007210560608655214, Test Accuracy: 98.04%\n",
      "Epoch [9/10], Step [500/600], Loss: 0.010384973138570786, Test Accuracy: 98.02%\n",
      "Epoch [9/10], Step [600/600], Loss: 0.008128440007567406, Test Accuracy: 98.0%\n",
      "Epoch [10/10], Step [100/600], Loss: 0.0073012118227779865, Test Accuracy: 98.16%\n",
      "Epoch [10/10], Step [200/600], Loss: 0.015605014748871326, Test Accuracy: 98.13%\n",
      "Epoch [10/10], Step [300/600], Loss: 0.011815350502729416, Test Accuracy: 98.15%\n",
      "Epoch [10/10], Step [400/600], Loss: 0.025191139429807663, Test Accuracy: 97.86%\n",
      "Epoch [10/10], Step [500/600], Loss: 0.011838307604193687, Test Accuracy: 97.92%\n",
      "Epoch [10/10], Step [600/600], Loss: 0.0006615885067731142, Test Accuracy: 98.01%\n",
      "Training ELM with  500  neurons...\n",
      "Using cuda device\n",
      "Neural_Net(\n",
      "  (NN_stack): Sequential(\n",
      "    (0): Flatten(start_dim=1, end_dim=-1)\n",
      "    (1): Linear(in_features=784, out_features=500, bias=True)\n",
      "    (2): ReLU()\n",
      "    (3): Linear(in_features=500, out_features=10, bias=True)\n",
      "  )\n",
      ")\n",
      "Epoch [1/10], Step [100/600], Loss: 0.5372647643089294, Test Accuracy: 88.43%\n",
      "Epoch [1/10], Step [200/600], Loss: 0.4035351872444153, Test Accuracy: 90.08%\n",
      "Epoch [1/10], Step [300/600], Loss: 0.38214361667633057, Test Accuracy: 91.02%\n",
      "Epoch [1/10], Step [400/600], Loss: 0.3687846064567566, Test Accuracy: 91.75%\n",
      "Epoch [1/10], Step [500/600], Loss: 0.35890457034111023, Test Accuracy: 92.24%\n",
      "Epoch [1/10], Step [600/600], Loss: 0.2111419141292572, Test Accuracy: 92.44%\n",
      "Epoch [2/10], Step [100/600], Loss: 0.3797827661037445, Test Accuracy: 92.78%\n",
      "Epoch [2/10], Step [200/600], Loss: 0.19987282156944275, Test Accuracy: 93.08%\n",
      "Epoch [2/10], Step [300/600], Loss: 0.22336028516292572, Test Accuracy: 92.94%\n",
      "Epoch [2/10], Step [400/600], Loss: 0.19097185134887695, Test Accuracy: 93.25%\n",
      "Epoch [2/10], Step [500/600], Loss: 0.24693480134010315, Test Accuracy: 93.3%\n",
      "Epoch [2/10], Step [600/600], Loss: 0.22199256718158722, Test Accuracy: 93.51%\n",
      "Epoch [3/10], Step [100/600], Loss: 0.21710677444934845, Test Accuracy: 93.43%\n",
      "Epoch [3/10], Step [200/600], Loss: 0.2597588300704956, Test Accuracy: 93.74%\n",
      "Epoch [3/10], Step [300/600], Loss: 0.19781333208084106, Test Accuracy: 93.65%\n",
      "Epoch [3/10], Step [400/600], Loss: 0.15068931877613068, Test Accuracy: 93.67%\n",
      "Epoch [3/10], Step [500/600], Loss: 0.2597460448741913, Test Accuracy: 93.68%\n",
      "Epoch [3/10], Step [600/600], Loss: 0.18378902971744537, Test Accuracy: 93.9%\n",
      "Epoch [4/10], Step [100/600], Loss: 0.17526204884052277, Test Accuracy: 94.16%\n",
      "Epoch [4/10], Step [200/600], Loss: 0.31298524141311646, Test Accuracy: 93.98%\n",
      "Epoch [4/10], Step [300/600], Loss: 0.09476099908351898, Test Accuracy: 93.96%\n",
      "Epoch [4/10], Step [400/600], Loss: 0.0948934257030487, Test Accuracy: 94.3%\n",
      "Epoch [4/10], Step [500/600], Loss: 0.27888524532318115, Test Accuracy: 94.2%\n",
      "Epoch [4/10], Step [600/600], Loss: 0.24334430694580078, Test Accuracy: 94.01%\n",
      "Epoch [5/10], Step [100/600], Loss: 0.24448055028915405, Test Accuracy: 94.17%\n",
      "Epoch [5/10], Step [200/600], Loss: 0.24605005979537964, Test Accuracy: 94.35%\n",
      "Epoch [5/10], Step [300/600], Loss: 0.1681409627199173, Test Accuracy: 94.32%\n",
      "Epoch [5/10], Step [400/600], Loss: 0.17766904830932617, Test Accuracy: 94.39%\n",
      "Epoch [5/10], Step [500/600], Loss: 0.14642095565795898, Test Accuracy: 94.21%\n",
      "Epoch [5/10], Step [600/600], Loss: 0.264472097158432, Test Accuracy: 94.5%\n",
      "Epoch [6/10], Step [100/600], Loss: 0.22832755744457245, Test Accuracy: 94.48%\n",
      "Epoch [6/10], Step [200/600], Loss: 0.17073717713356018, Test Accuracy: 94.34%\n",
      "Epoch [6/10], Step [300/600], Loss: 0.09459727257490158, Test Accuracy: 94.69%\n",
      "Epoch [6/10], Step [400/600], Loss: 0.1212945356965065, Test Accuracy: 94.64%\n",
      "Epoch [6/10], Step [500/600], Loss: 0.10457169264554977, Test Accuracy: 94.47%\n",
      "Epoch [6/10], Step [600/600], Loss: 0.3564627170562744, Test Accuracy: 94.47%\n",
      "Epoch [7/10], Step [100/600], Loss: 0.20375894010066986, Test Accuracy: 94.35%\n",
      "Epoch [7/10], Step [200/600], Loss: 0.13360445201396942, Test Accuracy: 94.51%\n",
      "Epoch [7/10], Step [300/600], Loss: 0.10449940711259842, Test Accuracy: 94.54%\n",
      "Epoch [7/10], Step [400/600], Loss: 0.16146014630794525, Test Accuracy: 94.57%\n",
      "Epoch [7/10], Step [500/600], Loss: 0.15747657418251038, Test Accuracy: 94.78%\n",
      "Epoch [7/10], Step [600/600], Loss: 0.2838042378425598, Test Accuracy: 94.66%\n",
      "Epoch [8/10], Step [100/600], Loss: 0.21300934255123138, Test Accuracy: 94.69%\n",
      "Epoch [8/10], Step [200/600], Loss: 0.10867979377508163, Test Accuracy: 94.52%\n",
      "Epoch [8/10], Step [300/600], Loss: 0.33883655071258545, Test Accuracy: 94.41%\n",
      "Epoch [8/10], Step [400/600], Loss: 0.17084211111068726, Test Accuracy: 94.68%\n",
      "Epoch [8/10], Step [500/600], Loss: 0.13023295998573303, Test Accuracy: 94.58%\n",
      "Epoch [8/10], Step [600/600], Loss: 0.1490403115749359, Test Accuracy: 94.78%\n",
      "Epoch [9/10], Step [100/600], Loss: 0.2785004675388336, Test Accuracy: 94.55%\n",
      "Epoch [9/10], Step [200/600], Loss: 0.15808603167533875, Test Accuracy: 94.59%\n",
      "Epoch [9/10], Step [300/600], Loss: 0.13859426975250244, Test Accuracy: 94.5%\n",
      "Epoch [9/10], Step [400/600], Loss: 0.11957500129938126, Test Accuracy: 94.49%\n",
      "Epoch [9/10], Step [500/600], Loss: 0.34461525082588196, Test Accuracy: 94.43%\n",
      "Epoch [9/10], Step [600/600], Loss: 0.13737134635448456, Test Accuracy: 94.8%\n",
      "Epoch [10/10], Step [100/600], Loss: 0.09803951531648636, Test Accuracy: 94.68%\n",
      "Epoch [10/10], Step [200/600], Loss: 0.12542670965194702, Test Accuracy: 94.59%\n",
      "Epoch [10/10], Step [300/600], Loss: 0.11344695836305618, Test Accuracy: 94.67%\n",
      "Epoch [10/10], Step [400/600], Loss: 0.24219588935375214, Test Accuracy: 94.74%\n",
      "Epoch [10/10], Step [500/600], Loss: 0.20141221582889557, Test Accuracy: 94.61%\n",
      "Epoch [10/10], Step [600/600], Loss: 0.19269947707653046, Test Accuracy: 94.81%\n",
      "Training FFNN with  1000  neurons...\n",
      "Using cuda device\n",
      "Neural_Net(\n",
      "  (NN_stack): Sequential(\n",
      "    (0): Flatten(start_dim=1, end_dim=-1)\n",
      "    (1): Linear(in_features=784, out_features=1000, bias=True)\n",
      "    (2): ReLU()\n",
      "    (3): Linear(in_features=1000, out_features=10, bias=True)\n",
      "  )\n",
      ")\n",
      "Epoch [1/10], Step [100/600], Loss: 0.2946227192878723, Test Accuracy: 91.01%\n",
      "Epoch [1/10], Step [200/600], Loss: 0.13231974840164185, Test Accuracy: 93.42%\n",
      "Epoch [1/10], Step [300/600], Loss: 0.17505687475204468, Test Accuracy: 94.7%\n",
      "Epoch [1/10], Step [400/600], Loss: 0.10688310861587524, Test Accuracy: 95.57%\n",
      "Epoch [1/10], Step [500/600], Loss: 0.08118844032287598, Test Accuracy: 96.03%\n",
      "Epoch [1/10], Step [600/600], Loss: 0.08166739344596863, Test Accuracy: 96.35%\n",
      "Epoch [2/10], Step [100/600], Loss: 0.059983812272548676, Test Accuracy: 96.65%\n",
      "Epoch [2/10], Step [200/600], Loss: 0.13942556083202362, Test Accuracy: 96.87%\n",
      "Epoch [2/10], Step [300/600], Loss: 0.029585618525743484, Test Accuracy: 97.01%\n",
      "Epoch [2/10], Step [400/600], Loss: 0.0695958212018013, Test Accuracy: 97.09%\n",
      "Epoch [2/10], Step [500/600], Loss: 0.11318954825401306, Test Accuracy: 97.37%\n",
      "Epoch [2/10], Step [600/600], Loss: 0.10340939462184906, Test Accuracy: 97.45%\n",
      "Epoch [3/10], Step [100/600], Loss: 0.06783425807952881, Test Accuracy: 97.44%\n",
      "Epoch [3/10], Step [200/600], Loss: 0.03133567422628403, Test Accuracy: 97.51%\n",
      "Epoch [3/10], Step [300/600], Loss: 0.016967838630080223, Test Accuracy: 97.7%\n",
      "Epoch [3/10], Step [400/600], Loss: 0.03036927431821823, Test Accuracy: 97.77%\n",
      "Epoch [3/10], Step [500/600], Loss: 0.041830435395240784, Test Accuracy: 98.08%\n",
      "Epoch [3/10], Step [600/600], Loss: 0.0661868155002594, Test Accuracy: 97.53%\n",
      "Epoch [4/10], Step [100/600], Loss: 0.021076250821352005, Test Accuracy: 97.97%\n",
      "Epoch [4/10], Step [200/600], Loss: 0.06555365025997162, Test Accuracy: 98.13%\n",
      "Epoch [4/10], Step [300/600], Loss: 0.08374063670635223, Test Accuracy: 97.89%\n",
      "Epoch [4/10], Step [400/600], Loss: 0.039091113954782486, Test Accuracy: 97.79%\n",
      "Epoch [4/10], Step [500/600], Loss: 0.03393944352865219, Test Accuracy: 98.06%\n",
      "Epoch [4/10], Step [600/600], Loss: 0.07544990628957748, Test Accuracy: 98.09%\n",
      "Epoch [5/10], Step [100/600], Loss: 0.02208009734749794, Test Accuracy: 97.95%\n",
      "Epoch [5/10], Step [200/600], Loss: 0.09456652402877808, Test Accuracy: 97.67%\n",
      "Epoch [5/10], Step [300/600], Loss: 0.006141194608062506, Test Accuracy: 98.21%\n",
      "Epoch [5/10], Step [400/600], Loss: 0.02880912832915783, Test Accuracy: 98.04%\n",
      "Epoch [5/10], Step [500/600], Loss: 0.0038981044199317694, Test Accuracy: 97.97%\n",
      "Epoch [5/10], Step [600/600], Loss: 0.043378304690122604, Test Accuracy: 98.15%\n",
      "Epoch [6/10], Step [100/600], Loss: 0.021549496799707413, Test Accuracy: 97.84%\n",
      "Epoch [6/10], Step [200/600], Loss: 0.024276817217469215, Test Accuracy: 98.08%\n",
      "Epoch [6/10], Step [300/600], Loss: 0.013076691888272762, Test Accuracy: 98.03%\n",
      "Epoch [6/10], Step [400/600], Loss: 0.006388162262737751, Test Accuracy: 98.18%\n",
      "Epoch [6/10], Step [500/600], Loss: 0.02543557621538639, Test Accuracy: 98.17%\n",
      "Epoch [6/10], Step [600/600], Loss: 0.006134784780442715, Test Accuracy: 98.21%\n",
      "Epoch [7/10], Step [100/600], Loss: 0.012854976579546928, Test Accuracy: 98.18%\n",
      "Epoch [7/10], Step [200/600], Loss: 0.004678334109485149, Test Accuracy: 98.25%\n",
      "Epoch [7/10], Step [300/600], Loss: 0.00248298654332757, Test Accuracy: 98.22%\n",
      "Epoch [7/10], Step [400/600], Loss: 0.01056002452969551, Test Accuracy: 98.29%\n",
      "Epoch [7/10], Step [500/600], Loss: 0.008886035531759262, Test Accuracy: 98.12%\n",
      "Epoch [7/10], Step [600/600], Loss: 0.007823965512216091, Test Accuracy: 98.14%\n",
      "Epoch [8/10], Step [100/600], Loss: 0.0023840866051614285, Test Accuracy: 98.31%\n",
      "Epoch [8/10], Step [200/600], Loss: 0.01630413718521595, Test Accuracy: 98.09%\n",
      "Epoch [8/10], Step [300/600], Loss: 0.0018949323566630483, Test Accuracy: 97.97%\n",
      "Epoch [8/10], Step [400/600], Loss: 0.006872825790196657, Test Accuracy: 98.22%\n",
      "Epoch [8/10], Step [500/600], Loss: 0.006067969370633364, Test Accuracy: 98.03%\n",
      "Epoch [8/10], Step [600/600], Loss: 0.04132506251335144, Test Accuracy: 97.9%\n",
      "Epoch [9/10], Step [100/600], Loss: 0.004496827721595764, Test Accuracy: 98.16%\n",
      "Epoch [9/10], Step [200/600], Loss: 0.0052442969754338264, Test Accuracy: 98.3%\n",
      "Epoch [9/10], Step [300/600], Loss: 0.0038581753615289927, Test Accuracy: 98.26%\n",
      "Epoch [9/10], Step [400/600], Loss: 0.00932397786527872, Test Accuracy: 98.14%\n",
      "Epoch [9/10], Step [500/600], Loss: 0.0033343895338475704, Test Accuracy: 97.93%\n",
      "Epoch [9/10], Step [600/600], Loss: 0.0072960685938596725, Test Accuracy: 98.04%\n",
      "Epoch [10/10], Step [100/600], Loss: 0.00938916765153408, Test Accuracy: 98.1%\n",
      "Epoch [10/10], Step [200/600], Loss: 0.0015139136230573058, Test Accuracy: 98.37%\n",
      "Epoch [10/10], Step [300/600], Loss: 0.0034368589986115694, Test Accuracy: 98.09%\n",
      "Epoch [10/10], Step [400/600], Loss: 0.012918896973133087, Test Accuracy: 98.2%\n",
      "Epoch [10/10], Step [500/600], Loss: 0.033453818410634995, Test Accuracy: 97.88%\n",
      "Epoch [10/10], Step [600/600], Loss: 0.004810722544789314, Test Accuracy: 98.08%\n",
      "Training ELM with  1000  neurons...\n",
      "Using cuda device\n",
      "Neural_Net(\n",
      "  (NN_stack): Sequential(\n",
      "    (0): Flatten(start_dim=1, end_dim=-1)\n",
      "    (1): Linear(in_features=784, out_features=1000, bias=True)\n",
      "    (2): ReLU()\n",
      "    (3): Linear(in_features=1000, out_features=10, bias=True)\n",
      "  )\n",
      ")\n",
      "Epoch [1/10], Step [100/600], Loss: 0.36856988072395325, Test Accuracy: 90.69%\n",
      "Epoch [1/10], Step [200/600], Loss: 0.31789103150367737, Test Accuracy: 92.25%\n",
      "Epoch [1/10], Step [300/600], Loss: 0.21829505264759064, Test Accuracy: 92.9%\n",
      "Epoch [1/10], Step [400/600], Loss: 0.21266309916973114, Test Accuracy: 93.06%\n",
      "Epoch [1/10], Step [500/600], Loss: 0.2270086407661438, Test Accuracy: 93.6%\n",
      "Epoch [1/10], Step [600/600], Loss: 0.2016146034002304, Test Accuracy: 93.99%\n",
      "Epoch [2/10], Step [100/600], Loss: 0.2160850465297699, Test Accuracy: 94.32%\n",
      "Epoch [2/10], Step [200/600], Loss: 0.18010158836841583, Test Accuracy: 94.42%\n",
      "Epoch [2/10], Step [300/600], Loss: 0.3365999460220337, Test Accuracy: 94.67%\n",
      "Epoch [2/10], Step [400/600], Loss: 0.14292657375335693, Test Accuracy: 94.78%\n",
      "Epoch [2/10], Step [500/600], Loss: 0.11962121725082397, Test Accuracy: 94.97%\n",
      "Epoch [2/10], Step [600/600], Loss: 0.1601656675338745, Test Accuracy: 94.92%\n",
      "Epoch [3/10], Step [100/600], Loss: 0.11156950891017914, Test Accuracy: 95.24%\n",
      "Epoch [3/10], Step [200/600], Loss: 0.08274157345294952, Test Accuracy: 95.22%\n",
      "Epoch [3/10], Step [300/600], Loss: 0.27826210856437683, Test Accuracy: 94.99%\n",
      "Epoch [3/10], Step [400/600], Loss: 0.16743645071983337, Test Accuracy: 95.23%\n",
      "Epoch [3/10], Step [500/600], Loss: 0.1916605830192566, Test Accuracy: 95.4%\n",
      "Epoch [3/10], Step [600/600], Loss: 0.11257748305797577, Test Accuracy: 95.65%\n",
      "Epoch [4/10], Step [100/600], Loss: 0.07083071023225784, Test Accuracy: 95.43%\n",
      "Epoch [4/10], Step [200/600], Loss: 0.09663839638233185, Test Accuracy: 95.63%\n",
      "Epoch [4/10], Step [300/600], Loss: 0.17826585471630096, Test Accuracy: 95.53%\n",
      "Epoch [4/10], Step [400/600], Loss: 0.0996108427643776, Test Accuracy: 95.64%\n",
      "Epoch [4/10], Step [500/600], Loss: 0.13136237859725952, Test Accuracy: 95.52%\n",
      "Epoch [4/10], Step [600/600], Loss: 0.10098396241664886, Test Accuracy: 95.8%\n",
      "Epoch [5/10], Step [100/600], Loss: 0.11778328567743301, Test Accuracy: 95.74%\n",
      "Epoch [5/10], Step [200/600], Loss: 0.18373975157737732, Test Accuracy: 95.74%\n",
      "Epoch [5/10], Step [300/600], Loss: 0.24372650682926178, Test Accuracy: 95.61%\n",
      "Epoch [5/10], Step [400/600], Loss: 0.11082285642623901, Test Accuracy: 95.95%\n",
      "Epoch [5/10], Step [500/600], Loss: 0.06895706802606583, Test Accuracy: 95.77%\n",
      "Epoch [5/10], Step [600/600], Loss: 0.12105370312929153, Test Accuracy: 95.57%\n",
      "Epoch [6/10], Step [100/600], Loss: 0.10729053616523743, Test Accuracy: 95.51%\n",
      "Epoch [6/10], Step [200/600], Loss: 0.05841009318828583, Test Accuracy: 95.75%\n",
      "Epoch [6/10], Step [300/600], Loss: 0.09461008012294769, Test Accuracy: 95.47%\n",
      "Epoch [6/10], Step [400/600], Loss: 0.20142343640327454, Test Accuracy: 95.91%\n",
      "Epoch [6/10], Step [500/600], Loss: 0.07599950581789017, Test Accuracy: 95.96%\n",
      "Epoch [6/10], Step [600/600], Loss: 0.16642911732196808, Test Accuracy: 95.99%\n",
      "Epoch [7/10], Step [100/600], Loss: 0.08532727509737015, Test Accuracy: 95.98%\n",
      "Epoch [7/10], Step [200/600], Loss: 0.10217500478029251, Test Accuracy: 95.55%\n",
      "Epoch [7/10], Step [300/600], Loss: 0.22713680565357208, Test Accuracy: 95.98%\n",
      "Epoch [7/10], Step [400/600], Loss: 0.08911428600549698, Test Accuracy: 96.04%\n",
      "Epoch [7/10], Step [500/600], Loss: 0.0834871232509613, Test Accuracy: 95.95%\n",
      "Epoch [7/10], Step [600/600], Loss: 0.047638941556215286, Test Accuracy: 95.76%\n",
      "Epoch [8/10], Step [100/600], Loss: 0.16151493787765503, Test Accuracy: 96.0%\n",
      "Epoch [8/10], Step [200/600], Loss: 0.18641029298305511, Test Accuracy: 95.77%\n",
      "Epoch [8/10], Step [300/600], Loss: 0.1951051652431488, Test Accuracy: 96.06%\n",
      "Epoch [8/10], Step [400/600], Loss: 0.09351444244384766, Test Accuracy: 95.57%\n",
      "Epoch [8/10], Step [500/600], Loss: 0.059037793427705765, Test Accuracy: 95.99%\n",
      "Epoch [8/10], Step [600/600], Loss: 0.06998538225889206, Test Accuracy: 96.06%\n",
      "Epoch [9/10], Step [100/600], Loss: 0.09412486851215363, Test Accuracy: 96.05%\n",
      "Epoch [9/10], Step [200/600], Loss: 0.06993589550256729, Test Accuracy: 95.86%\n",
      "Epoch [9/10], Step [300/600], Loss: 0.16648134589195251, Test Accuracy: 96.11%\n",
      "Epoch [9/10], Step [400/600], Loss: 0.13140186667442322, Test Accuracy: 95.85%\n",
      "Epoch [9/10], Step [500/600], Loss: 0.06160254403948784, Test Accuracy: 95.94%\n",
      "Epoch [9/10], Step [600/600], Loss: 0.2507154047489166, Test Accuracy: 95.87%\n",
      "Epoch [10/10], Step [100/600], Loss: 0.16098429262638092, Test Accuracy: 96.21%\n",
      "Epoch [10/10], Step [200/600], Loss: 0.07444611936807632, Test Accuracy: 95.96%\n",
      "Epoch [10/10], Step [300/600], Loss: 0.16191457211971283, Test Accuracy: 95.96%\n",
      "Epoch [10/10], Step [400/600], Loss: 0.054997581988573074, Test Accuracy: 96.06%\n",
      "Epoch [10/10], Step [500/600], Loss: 0.06401755660772324, Test Accuracy: 96.02%\n",
      "Epoch [10/10], Step [600/600], Loss: 0.08509673178195953, Test Accuracy: 96.19%\n",
      "Training FFNN with  2000  neurons...\n",
      "Using cuda device\n",
      "Neural_Net(\n",
      "  (NN_stack): Sequential(\n",
      "    (0): Flatten(start_dim=1, end_dim=-1)\n",
      "    (1): Linear(in_features=784, out_features=2000, bias=True)\n",
      "    (2): ReLU()\n",
      "    (3): Linear(in_features=2000, out_features=10, bias=True)\n",
      "  )\n",
      ")\n",
      "Epoch [1/10], Step [100/600], Loss: 0.31109514832496643, Test Accuracy: 91.42%\n",
      "Epoch [1/10], Step [200/600], Loss: 0.2844417691230774, Test Accuracy: 94.43%\n",
      "Epoch [1/10], Step [300/600], Loss: 0.2550145089626312, Test Accuracy: 95.62%\n",
      "Epoch [1/10], Step [400/600], Loss: 0.1816050410270691, Test Accuracy: 96.1%\n",
      "Epoch [1/10], Step [500/600], Loss: 0.16209711134433746, Test Accuracy: 96.3%\n",
      "Epoch [1/10], Step [600/600], Loss: 0.10282706469297409, Test Accuracy: 96.82%\n",
      "Epoch [2/10], Step [100/600], Loss: 0.1377592533826828, Test Accuracy: 96.89%\n",
      "Epoch [2/10], Step [200/600], Loss: 0.17771482467651367, Test Accuracy: 97.46%\n",
      "Epoch [2/10], Step [300/600], Loss: 0.0317358523607254, Test Accuracy: 97.34%\n",
      "Epoch [2/10], Step [400/600], Loss: 0.01948581263422966, Test Accuracy: 97.48%\n",
      "Epoch [2/10], Step [500/600], Loss: 0.06142190098762512, Test Accuracy: 97.05%\n",
      "Epoch [2/10], Step [600/600], Loss: 0.042299672961235046, Test Accuracy: 97.61%\n",
      "Epoch [3/10], Step [100/600], Loss: 0.06406077742576599, Test Accuracy: 97.62%\n",
      "Epoch [3/10], Step [200/600], Loss: 0.026293635368347168, Test Accuracy: 97.85%\n",
      "Epoch [3/10], Step [300/600], Loss: 0.08768215775489807, Test Accuracy: 97.78%\n",
      "Epoch [3/10], Step [400/600], Loss: 0.0344252809882164, Test Accuracy: 97.65%\n",
      "Epoch [3/10], Step [500/600], Loss: 0.039165738970041275, Test Accuracy: 97.51%\n",
      "Epoch [3/10], Step [600/600], Loss: 0.012084925547242165, Test Accuracy: 97.57%\n",
      "Epoch [4/10], Step [100/600], Loss: 0.015415855683386326, Test Accuracy: 97.85%\n",
      "Epoch [4/10], Step [200/600], Loss: 0.006471890024840832, Test Accuracy: 97.83%\n",
      "Epoch [4/10], Step [300/600], Loss: 0.02810344658792019, Test Accuracy: 97.86%\n",
      "Epoch [4/10], Step [400/600], Loss: 0.021578066051006317, Test Accuracy: 98.13%\n",
      "Epoch [4/10], Step [500/600], Loss: 0.01381190400570631, Test Accuracy: 98.02%\n",
      "Epoch [4/10], Step [600/600], Loss: 0.04310900345444679, Test Accuracy: 97.7%\n",
      "Epoch [5/10], Step [100/600], Loss: 0.027362961322069168, Test Accuracy: 97.95%\n",
      "Epoch [5/10], Step [200/600], Loss: 0.005952394101768732, Test Accuracy: 98.14%\n",
      "Epoch [5/10], Step [300/600], Loss: 0.08369121700525284, Test Accuracy: 98.05%\n",
      "Epoch [5/10], Step [400/600], Loss: 0.0341876856982708, Test Accuracy: 97.78%\n",
      "Epoch [5/10], Step [500/600], Loss: 0.007799264043569565, Test Accuracy: 98.21%\n",
      "Epoch [5/10], Step [600/600], Loss: 0.021716654300689697, Test Accuracy: 97.87%\n",
      "Epoch [6/10], Step [100/600], Loss: 0.007882978767156601, Test Accuracy: 98.11%\n",
      "Epoch [6/10], Step [200/600], Loss: 0.017027977854013443, Test Accuracy: 98.14%\n",
      "Epoch [6/10], Step [300/600], Loss: 0.01491820439696312, Test Accuracy: 98.21%\n",
      "Epoch [6/10], Step [400/600], Loss: 0.003465781221166253, Test Accuracy: 98.18%\n",
      "Epoch [6/10], Step [500/600], Loss: 0.08288982510566711, Test Accuracy: 97.88%\n",
      "Epoch [6/10], Step [600/600], Loss: 0.02648460865020752, Test Accuracy: 98.22%\n",
      "Epoch [7/10], Step [100/600], Loss: 0.018687549978494644, Test Accuracy: 98.11%\n",
      "Epoch [7/10], Step [200/600], Loss: 0.0069855316542088985, Test Accuracy: 98.32%\n",
      "Epoch [7/10], Step [300/600], Loss: 0.0010905521921813488, Test Accuracy: 98.31%\n",
      "Epoch [7/10], Step [400/600], Loss: 0.013072067871689796, Test Accuracy: 98.18%\n",
      "Epoch [7/10], Step [500/600], Loss: 0.00882288720458746, Test Accuracy: 98.05%\n",
      "Epoch [7/10], Step [600/600], Loss: 0.006718832068145275, Test Accuracy: 98.35%\n",
      "Epoch [8/10], Step [100/600], Loss: 0.002885218244045973, Test Accuracy: 97.81%\n",
      "Epoch [8/10], Step [200/600], Loss: 0.002511722967028618, Test Accuracy: 98.26%\n",
      "Epoch [8/10], Step [300/600], Loss: 0.02013993263244629, Test Accuracy: 98.18%\n",
      "Epoch [8/10], Step [400/600], Loss: 0.0020220207516103983, Test Accuracy: 98.12%\n",
      "Epoch [8/10], Step [500/600], Loss: 0.007823506370186806, Test Accuracy: 98.2%\n",
      "Epoch [8/10], Step [600/600], Loss: 0.03175545111298561, Test Accuracy: 97.91%\n",
      "Epoch [9/10], Step [100/600], Loss: 0.0019205036805942655, Test Accuracy: 98.2%\n",
      "Epoch [9/10], Step [200/600], Loss: 0.0036550036165863276, Test Accuracy: 98.13%\n",
      "Epoch [9/10], Step [300/600], Loss: 0.007691932842135429, Test Accuracy: 98.46%\n",
      "Epoch [9/10], Step [400/600], Loss: 0.0007857250166125596, Test Accuracy: 98.28%\n",
      "Epoch [9/10], Step [500/600], Loss: 0.002489154925569892, Test Accuracy: 98.24%\n",
      "Epoch [9/10], Step [600/600], Loss: 0.01649731956422329, Test Accuracy: 98.28%\n",
      "Epoch [10/10], Step [100/600], Loss: 0.001241846359334886, Test Accuracy: 98.32%\n",
      "Epoch [10/10], Step [200/600], Loss: 0.0011012143222615123, Test Accuracy: 98.25%\n",
      "Epoch [10/10], Step [300/600], Loss: 0.0006753580528311431, Test Accuracy: 98.18%\n",
      "Epoch [10/10], Step [400/600], Loss: 0.0008905253489501774, Test Accuracy: 98.33%\n",
      "Epoch [10/10], Step [500/600], Loss: 0.009881246834993362, Test Accuracy: 98.13%\n",
      "Epoch [10/10], Step [600/600], Loss: 0.000851241173222661, Test Accuracy: 97.94%\n",
      "Training ELM with  2000  neurons...\n",
      "Using cuda device\n",
      "Neural_Net(\n",
      "  (NN_stack): Sequential(\n",
      "    (0): Flatten(start_dim=1, end_dim=-1)\n",
      "    (1): Linear(in_features=784, out_features=2000, bias=True)\n",
      "    (2): ReLU()\n",
      "    (3): Linear(in_features=2000, out_features=10, bias=True)\n",
      "  )\n",
      ")\n",
      "Epoch [1/10], Step [100/600], Loss: 0.33423709869384766, Test Accuracy: 91.72%\n",
      "Epoch [1/10], Step [200/600], Loss: 0.2693091630935669, Test Accuracy: 92.88%\n",
      "Epoch [1/10], Step [300/600], Loss: 0.29468002915382385, Test Accuracy: 93.98%\n",
      "Epoch [1/10], Step [400/600], Loss: 0.16683483123779297, Test Accuracy: 94.42%\n",
      "Epoch [1/10], Step [500/600], Loss: 0.41131022572517395, Test Accuracy: 94.16%\n",
      "Epoch [1/10], Step [600/600], Loss: 0.17871645092964172, Test Accuracy: 94.53%\n",
      "Epoch [2/10], Step [100/600], Loss: 0.1939775049686432, Test Accuracy: 94.92%\n",
      "Epoch [2/10], Step [200/600], Loss: 0.09942405670881271, Test Accuracy: 95.14%\n",
      "Epoch [2/10], Step [300/600], Loss: 0.12609033286571503, Test Accuracy: 95.2%\n",
      "Epoch [2/10], Step [400/600], Loss: 0.08107894659042358, Test Accuracy: 95.35%\n",
      "Epoch [2/10], Step [500/600], Loss: 0.14488886296749115, Test Accuracy: 95.62%\n",
      "Epoch [2/10], Step [600/600], Loss: 0.22815656661987305, Test Accuracy: 95.68%\n",
      "Epoch [3/10], Step [100/600], Loss: 0.17547664046287537, Test Accuracy: 95.71%\n",
      "Epoch [3/10], Step [200/600], Loss: 0.3008902668952942, Test Accuracy: 95.57%\n",
      "Epoch [3/10], Step [300/600], Loss: 0.040482163429260254, Test Accuracy: 95.72%\n",
      "Epoch [3/10], Step [400/600], Loss: 0.07966329157352448, Test Accuracy: 95.87%\n",
      "Epoch [3/10], Step [500/600], Loss: 0.08397051692008972, Test Accuracy: 95.88%\n",
      "Epoch [3/10], Step [600/600], Loss: 0.044778723269701004, Test Accuracy: 96.32%\n",
      "Epoch [4/10], Step [100/600], Loss: 0.11807138472795486, Test Accuracy: 96.27%\n",
      "Epoch [4/10], Step [200/600], Loss: 0.09154649823904037, Test Accuracy: 96.15%\n",
      "Epoch [4/10], Step [300/600], Loss: 0.07081963866949081, Test Accuracy: 96.48%\n",
      "Epoch [4/10], Step [400/600], Loss: 0.023815596476197243, Test Accuracy: 95.85%\n",
      "Epoch [4/10], Step [500/600], Loss: 0.10712233185768127, Test Accuracy: 96.36%\n",
      "Epoch [4/10], Step [600/600], Loss: 0.1062384769320488, Test Accuracy: 96.18%\n",
      "Epoch [5/10], Step [100/600], Loss: 0.03995136171579361, Test Accuracy: 96.53%\n",
      "Epoch [5/10], Step [200/600], Loss: 0.07952772080898285, Test Accuracy: 96.39%\n",
      "Epoch [5/10], Step [300/600], Loss: 0.11578375846147537, Test Accuracy: 96.28%\n",
      "Epoch [5/10], Step [400/600], Loss: 0.05897514522075653, Test Accuracy: 96.14%\n",
      "Epoch [5/10], Step [500/600], Loss: 0.07487502694129944, Test Accuracy: 96.46%\n",
      "Epoch [5/10], Step [600/600], Loss: 0.10509057343006134, Test Accuracy: 96.5%\n",
      "Epoch [6/10], Step [100/600], Loss: 0.04167812317609787, Test Accuracy: 95.95%\n",
      "Epoch [6/10], Step [200/600], Loss: 0.06690094619989395, Test Accuracy: 96.39%\n",
      "Epoch [6/10], Step [300/600], Loss: 0.020305059850215912, Test Accuracy: 96.43%\n",
      "Epoch [6/10], Step [400/600], Loss: 0.08938298374414444, Test Accuracy: 96.62%\n",
      "Epoch [6/10], Step [500/600], Loss: 0.037984319031238556, Test Accuracy: 95.95%\n",
      "Epoch [6/10], Step [600/600], Loss: 0.05884328484535217, Test Accuracy: 96.35%\n",
      "Epoch [7/10], Step [100/600], Loss: 0.12387041747570038, Test Accuracy: 96.64%\n",
      "Epoch [7/10], Step [200/600], Loss: 0.03484194725751877, Test Accuracy: 96.33%\n",
      "Epoch [7/10], Step [300/600], Loss: 0.1372225433588028, Test Accuracy: 96.1%\n",
      "Epoch [7/10], Step [400/600], Loss: 0.059371914714574814, Test Accuracy: 96.26%\n",
      "Epoch [7/10], Step [500/600], Loss: 0.03496546670794487, Test Accuracy: 96.77%\n",
      "Epoch [7/10], Step [600/600], Loss: 0.1063297763466835, Test Accuracy: 96.64%\n",
      "Epoch [8/10], Step [100/600], Loss: 0.04204363748431206, Test Accuracy: 96.79%\n",
      "Epoch [8/10], Step [200/600], Loss: 0.058248672634363174, Test Accuracy: 96.76%\n",
      "Epoch [8/10], Step [300/600], Loss: 0.05015197768807411, Test Accuracy: 96.46%\n",
      "Epoch [8/10], Step [400/600], Loss: 0.02925669215619564, Test Accuracy: 96.1%\n",
      "Epoch [8/10], Step [500/600], Loss: 0.07396139949560165, Test Accuracy: 96.45%\n",
      "Epoch [8/10], Step [600/600], Loss: 0.06745047867298126, Test Accuracy: 96.5%\n",
      "Epoch [9/10], Step [100/600], Loss: 0.06864576041698456, Test Accuracy: 96.76%\n",
      "Epoch [9/10], Step [200/600], Loss: 0.010878248140215874, Test Accuracy: 96.77%\n",
      "Epoch [9/10], Step [300/600], Loss: 0.10025154054164886, Test Accuracy: 96.38%\n",
      "Epoch [9/10], Step [400/600], Loss: 0.05844445154070854, Test Accuracy: 96.57%\n",
      "Epoch [9/10], Step [500/600], Loss: 0.054702334105968475, Test Accuracy: 96.75%\n",
      "Epoch [9/10], Step [600/600], Loss: 0.07650084048509598, Test Accuracy: 96.07%\n",
      "Epoch [10/10], Step [100/600], Loss: 0.051269836723804474, Test Accuracy: 96.75%\n",
      "Epoch [10/10], Step [200/600], Loss: 0.025139473378658295, Test Accuracy: 96.44%\n",
      "Epoch [10/10], Step [300/600], Loss: 0.08863255381584167, Test Accuracy: 96.69%\n",
      "Epoch [10/10], Step [400/600], Loss: 0.05193087458610535, Test Accuracy: 96.65%\n",
      "Epoch [10/10], Step [500/600], Loss: 0.11815390735864639, Test Accuracy: 96.44%\n",
      "Epoch [10/10], Step [600/600], Loss: 0.0964348241686821, Test Accuracy: 95.9%\n"
     ]
    }
   ],
   "source": [
    "#We scan the NN size and plot the accuracy of the ELM and FF models to compare with MNIST\n",
    "\n",
    "n_neurons_vec = [10,20,50,100,200,500,1000,2000]\n",
    "n_epochs = 10\n",
    "loss = nn.CrossEntropyLoss()\n",
    "\n",
    "test_acc_mat = np.zeros([len(n_neurons_vec),60])\n",
    "test_acc_ELM_mat = np.zeros([len(n_neurons_vec),60])\n",
    "\n",
    "for i in range(len(n_neurons_vec)):\n",
    "    print('Training FFNN with ', n_neurons_vec[i], ' neurons...')\n",
    "    n_neurons = n_neurons_vec[i]\n",
    "    \n",
    "    NN_MNIST = Neural_Net(input_size=28*28, hidden_size=n_neurons, n_classes=10)\n",
    "    optimizer = torch.optim.Adam(NN_MNIST.parameters(), lr=0.001)\n",
    "\n",
    "    NN_MNIST.NN_stack[1].weight.requires_grad = True\n",
    "    NN_MNIST.NN_stack[1].bias.requires_grad = True\n",
    "\n",
    "    #training the full NN\n",
    "    \n",
    "    test_acc_mat[i,:] = train_pytorch_NN(NN_MNIST, n_epochs, train_loader_MNIST, test_loader_MNIST, loss, optimizer)\n",
    "    \n",
    "    NN_MNIST.reset_weights()\n",
    "    NN_MNIST.NN_stack[1].weight.requires_grad = False\n",
    "    NN_MNIST.NN_stack[1].bias.requires_grad = False\n",
    "    optimizer = torch.optim.Adam(NN_MNIST.parameters(), lr=0.01)\n",
    "    \n",
    "    print('Training ELM with ', n_neurons_vec[i], ' neurons...')\n",
    "    #set the input layer to not require gradients\n",
    "\n",
    "    \n",
    "    test_acc_ELM_mat[i,:] = train_pytorch_NN(NN_MNIST, n_epochs, train_loader_MNIST, test_loader_MNIST, loss, optimizer)\n",
    "    \n",
    "    del NN_MNIST  # Assuming 'model' is your neural network instance\n",
    "    torch.cuda.empty_cache()  # Advisable after deleting the model\n",
    "\n",
    "    \n",
    "    "
   ]
  },
  {
   "cell_type": "code",
   "execution_count": 104,
   "metadata": {},
   "outputs": [
    {
     "data": {
      "application/vnd.plotly.v1+json": {
       "config": {
        "plotlyServerURL": "https://plot.ly"
       },
       "data": [
        {
         "line": {
          "color": "royalblue"
         },
         "mode": "markers+lines",
         "name": "Full NN",
         "type": "scatter",
         "x": [
          10,
          20,
          50,
          100,
          200,
          500,
          1000,
          2000
         ],
         "y": [
          92.76,
          95.42,
          96.9,
          97.71,
          98.06,
          98.16,
          98.37,
          98.46
         ]
        },
        {
         "line": {
          "color": "firebrick"
         },
         "mode": "markers+lines",
         "name": "ELM",
         "type": "scatter",
         "x": [
          10,
          20,
          50,
          100,
          200,
          500,
          1000,
          2000
         ],
         "y": [
          46.75,
          57.8,
          80.18,
          88.15,
          92.14,
          94.81,
          96.21,
          96.79
         ]
        },
        {
         "line": {
          "dash": "dot"
         },
         "mode": "lines",
         "name": "Linear",
         "type": "scatter",
         "x": [
          10,
          20,
          50,
          100,
          200,
          500,
          1000,
          2000
         ],
         "y": [
          92.66,
          92.66,
          92.66,
          92.66,
          92.66,
          92.66,
          92.66,
          92.66
         ]
        }
       ],
       "layout": {
        "height": 300,
        "margin": {
         "b": 20,
         "l": 20,
         "r": 20,
         "t": 20
        },
        "template": {
         "data": {
          "bar": [
           {
            "error_x": {
             "color": "#2a3f5f"
            },
            "error_y": {
             "color": "#2a3f5f"
            },
            "marker": {
             "line": {
              "color": "white",
              "width": 0.5
             },
             "pattern": {
              "fillmode": "overlay",
              "size": 10,
              "solidity": 0.2
             }
            },
            "type": "bar"
           }
          ],
          "barpolar": [
           {
            "marker": {
             "line": {
              "color": "white",
              "width": 0.5
             },
             "pattern": {
              "fillmode": "overlay",
              "size": 10,
              "solidity": 0.2
             }
            },
            "type": "barpolar"
           }
          ],
          "carpet": [
           {
            "aaxis": {
             "endlinecolor": "#2a3f5f",
             "gridcolor": "#C8D4E3",
             "linecolor": "#C8D4E3",
             "minorgridcolor": "#C8D4E3",
             "startlinecolor": "#2a3f5f"
            },
            "baxis": {
             "endlinecolor": "#2a3f5f",
             "gridcolor": "#C8D4E3",
             "linecolor": "#C8D4E3",
             "minorgridcolor": "#C8D4E3",
             "startlinecolor": "#2a3f5f"
            },
            "type": "carpet"
           }
          ],
          "choropleth": [
           {
            "colorbar": {
             "outlinewidth": 0,
             "ticks": ""
            },
            "type": "choropleth"
           }
          ],
          "contour": [
           {
            "colorbar": {
             "outlinewidth": 0,
             "ticks": ""
            },
            "colorscale": [
             [
              0,
              "#0d0887"
             ],
             [
              0.1111111111111111,
              "#46039f"
             ],
             [
              0.2222222222222222,
              "#7201a8"
             ],
             [
              0.3333333333333333,
              "#9c179e"
             ],
             [
              0.4444444444444444,
              "#bd3786"
             ],
             [
              0.5555555555555556,
              "#d8576b"
             ],
             [
              0.6666666666666666,
              "#ed7953"
             ],
             [
              0.7777777777777778,
              "#fb9f3a"
             ],
             [
              0.8888888888888888,
              "#fdca26"
             ],
             [
              1,
              "#f0f921"
             ]
            ],
            "type": "contour"
           }
          ],
          "contourcarpet": [
           {
            "colorbar": {
             "outlinewidth": 0,
             "ticks": ""
            },
            "type": "contourcarpet"
           }
          ],
          "heatmap": [
           {
            "colorbar": {
             "outlinewidth": 0,
             "ticks": ""
            },
            "colorscale": [
             [
              0,
              "#0d0887"
             ],
             [
              0.1111111111111111,
              "#46039f"
             ],
             [
              0.2222222222222222,
              "#7201a8"
             ],
             [
              0.3333333333333333,
              "#9c179e"
             ],
             [
              0.4444444444444444,
              "#bd3786"
             ],
             [
              0.5555555555555556,
              "#d8576b"
             ],
             [
              0.6666666666666666,
              "#ed7953"
             ],
             [
              0.7777777777777778,
              "#fb9f3a"
             ],
             [
              0.8888888888888888,
              "#fdca26"
             ],
             [
              1,
              "#f0f921"
             ]
            ],
            "type": "heatmap"
           }
          ],
          "heatmapgl": [
           {
            "colorbar": {
             "outlinewidth": 0,
             "ticks": ""
            },
            "colorscale": [
             [
              0,
              "#0d0887"
             ],
             [
              0.1111111111111111,
              "#46039f"
             ],
             [
              0.2222222222222222,
              "#7201a8"
             ],
             [
              0.3333333333333333,
              "#9c179e"
             ],
             [
              0.4444444444444444,
              "#bd3786"
             ],
             [
              0.5555555555555556,
              "#d8576b"
             ],
             [
              0.6666666666666666,
              "#ed7953"
             ],
             [
              0.7777777777777778,
              "#fb9f3a"
             ],
             [
              0.8888888888888888,
              "#fdca26"
             ],
             [
              1,
              "#f0f921"
             ]
            ],
            "type": "heatmapgl"
           }
          ],
          "histogram": [
           {
            "marker": {
             "pattern": {
              "fillmode": "overlay",
              "size": 10,
              "solidity": 0.2
             }
            },
            "type": "histogram"
           }
          ],
          "histogram2d": [
           {
            "colorbar": {
             "outlinewidth": 0,
             "ticks": ""
            },
            "colorscale": [
             [
              0,
              "#0d0887"
             ],
             [
              0.1111111111111111,
              "#46039f"
             ],
             [
              0.2222222222222222,
              "#7201a8"
             ],
             [
              0.3333333333333333,
              "#9c179e"
             ],
             [
              0.4444444444444444,
              "#bd3786"
             ],
             [
              0.5555555555555556,
              "#d8576b"
             ],
             [
              0.6666666666666666,
              "#ed7953"
             ],
             [
              0.7777777777777778,
              "#fb9f3a"
             ],
             [
              0.8888888888888888,
              "#fdca26"
             ],
             [
              1,
              "#f0f921"
             ]
            ],
            "type": "histogram2d"
           }
          ],
          "histogram2dcontour": [
           {
            "colorbar": {
             "outlinewidth": 0,
             "ticks": ""
            },
            "colorscale": [
             [
              0,
              "#0d0887"
             ],
             [
              0.1111111111111111,
              "#46039f"
             ],
             [
              0.2222222222222222,
              "#7201a8"
             ],
             [
              0.3333333333333333,
              "#9c179e"
             ],
             [
              0.4444444444444444,
              "#bd3786"
             ],
             [
              0.5555555555555556,
              "#d8576b"
             ],
             [
              0.6666666666666666,
              "#ed7953"
             ],
             [
              0.7777777777777778,
              "#fb9f3a"
             ],
             [
              0.8888888888888888,
              "#fdca26"
             ],
             [
              1,
              "#f0f921"
             ]
            ],
            "type": "histogram2dcontour"
           }
          ],
          "mesh3d": [
           {
            "colorbar": {
             "outlinewidth": 0,
             "ticks": ""
            },
            "type": "mesh3d"
           }
          ],
          "parcoords": [
           {
            "line": {
             "colorbar": {
              "outlinewidth": 0,
              "ticks": ""
             }
            },
            "type": "parcoords"
           }
          ],
          "pie": [
           {
            "automargin": true,
            "type": "pie"
           }
          ],
          "scatter": [
           {
            "fillpattern": {
             "fillmode": "overlay",
             "size": 10,
             "solidity": 0.2
            },
            "type": "scatter"
           }
          ],
          "scatter3d": [
           {
            "line": {
             "colorbar": {
              "outlinewidth": 0,
              "ticks": ""
             }
            },
            "marker": {
             "colorbar": {
              "outlinewidth": 0,
              "ticks": ""
             }
            },
            "type": "scatter3d"
           }
          ],
          "scattercarpet": [
           {
            "marker": {
             "colorbar": {
              "outlinewidth": 0,
              "ticks": ""
             }
            },
            "type": "scattercarpet"
           }
          ],
          "scattergeo": [
           {
            "marker": {
             "colorbar": {
              "outlinewidth": 0,
              "ticks": ""
             }
            },
            "type": "scattergeo"
           }
          ],
          "scattergl": [
           {
            "marker": {
             "colorbar": {
              "outlinewidth": 0,
              "ticks": ""
             }
            },
            "type": "scattergl"
           }
          ],
          "scattermapbox": [
           {
            "marker": {
             "colorbar": {
              "outlinewidth": 0,
              "ticks": ""
             }
            },
            "type": "scattermapbox"
           }
          ],
          "scatterpolar": [
           {
            "marker": {
             "colorbar": {
              "outlinewidth": 0,
              "ticks": ""
             }
            },
            "type": "scatterpolar"
           }
          ],
          "scatterpolargl": [
           {
            "marker": {
             "colorbar": {
              "outlinewidth": 0,
              "ticks": ""
             }
            },
            "type": "scatterpolargl"
           }
          ],
          "scatterternary": [
           {
            "marker": {
             "colorbar": {
              "outlinewidth": 0,
              "ticks": ""
             }
            },
            "type": "scatterternary"
           }
          ],
          "surface": [
           {
            "colorbar": {
             "outlinewidth": 0,
             "ticks": ""
            },
            "colorscale": [
             [
              0,
              "#0d0887"
             ],
             [
              0.1111111111111111,
              "#46039f"
             ],
             [
              0.2222222222222222,
              "#7201a8"
             ],
             [
              0.3333333333333333,
              "#9c179e"
             ],
             [
              0.4444444444444444,
              "#bd3786"
             ],
             [
              0.5555555555555556,
              "#d8576b"
             ],
             [
              0.6666666666666666,
              "#ed7953"
             ],
             [
              0.7777777777777778,
              "#fb9f3a"
             ],
             [
              0.8888888888888888,
              "#fdca26"
             ],
             [
              1,
              "#f0f921"
             ]
            ],
            "type": "surface"
           }
          ],
          "table": [
           {
            "cells": {
             "fill": {
              "color": "#EBF0F8"
             },
             "line": {
              "color": "white"
             }
            },
            "header": {
             "fill": {
              "color": "#C8D4E3"
             },
             "line": {
              "color": "white"
             }
            },
            "type": "table"
           }
          ]
         },
         "layout": {
          "annotationdefaults": {
           "arrowcolor": "#2a3f5f",
           "arrowhead": 0,
           "arrowwidth": 1
          },
          "autotypenumbers": "strict",
          "coloraxis": {
           "colorbar": {
            "outlinewidth": 0,
            "ticks": ""
           }
          },
          "colorscale": {
           "diverging": [
            [
             0,
             "#8e0152"
            ],
            [
             0.1,
             "#c51b7d"
            ],
            [
             0.2,
             "#de77ae"
            ],
            [
             0.3,
             "#f1b6da"
            ],
            [
             0.4,
             "#fde0ef"
            ],
            [
             0.5,
             "#f7f7f7"
            ],
            [
             0.6,
             "#e6f5d0"
            ],
            [
             0.7,
             "#b8e186"
            ],
            [
             0.8,
             "#7fbc41"
            ],
            [
             0.9,
             "#4d9221"
            ],
            [
             1,
             "#276419"
            ]
           ],
           "sequential": [
            [
             0,
             "#0d0887"
            ],
            [
             0.1111111111111111,
             "#46039f"
            ],
            [
             0.2222222222222222,
             "#7201a8"
            ],
            [
             0.3333333333333333,
             "#9c179e"
            ],
            [
             0.4444444444444444,
             "#bd3786"
            ],
            [
             0.5555555555555556,
             "#d8576b"
            ],
            [
             0.6666666666666666,
             "#ed7953"
            ],
            [
             0.7777777777777778,
             "#fb9f3a"
            ],
            [
             0.8888888888888888,
             "#fdca26"
            ],
            [
             1,
             "#f0f921"
            ]
           ],
           "sequentialminus": [
            [
             0,
             "#0d0887"
            ],
            [
             0.1111111111111111,
             "#46039f"
            ],
            [
             0.2222222222222222,
             "#7201a8"
            ],
            [
             0.3333333333333333,
             "#9c179e"
            ],
            [
             0.4444444444444444,
             "#bd3786"
            ],
            [
             0.5555555555555556,
             "#d8576b"
            ],
            [
             0.6666666666666666,
             "#ed7953"
            ],
            [
             0.7777777777777778,
             "#fb9f3a"
            ],
            [
             0.8888888888888888,
             "#fdca26"
            ],
            [
             1,
             "#f0f921"
            ]
           ]
          },
          "colorway": [
           "#636efa",
           "#EF553B",
           "#00cc96",
           "#ab63fa",
           "#FFA15A",
           "#19d3f3",
           "#FF6692",
           "#B6E880",
           "#FF97FF",
           "#FECB52"
          ],
          "font": {
           "color": "#2a3f5f"
          },
          "geo": {
           "bgcolor": "white",
           "lakecolor": "white",
           "landcolor": "white",
           "showlakes": true,
           "showland": true,
           "subunitcolor": "#C8D4E3"
          },
          "hoverlabel": {
           "align": "left"
          },
          "hovermode": "closest",
          "mapbox": {
           "style": "light"
          },
          "paper_bgcolor": "white",
          "plot_bgcolor": "white",
          "polar": {
           "angularaxis": {
            "gridcolor": "#EBF0F8",
            "linecolor": "#EBF0F8",
            "ticks": ""
           },
           "bgcolor": "white",
           "radialaxis": {
            "gridcolor": "#EBF0F8",
            "linecolor": "#EBF0F8",
            "ticks": ""
           }
          },
          "scene": {
           "xaxis": {
            "backgroundcolor": "white",
            "gridcolor": "#DFE8F3",
            "gridwidth": 2,
            "linecolor": "#EBF0F8",
            "showbackground": true,
            "ticks": "",
            "zerolinecolor": "#EBF0F8"
           },
           "yaxis": {
            "backgroundcolor": "white",
            "gridcolor": "#DFE8F3",
            "gridwidth": 2,
            "linecolor": "#EBF0F8",
            "showbackground": true,
            "ticks": "",
            "zerolinecolor": "#EBF0F8"
           },
           "zaxis": {
            "backgroundcolor": "white",
            "gridcolor": "#DFE8F3",
            "gridwidth": 2,
            "linecolor": "#EBF0F8",
            "showbackground": true,
            "ticks": "",
            "zerolinecolor": "#EBF0F8"
           }
          },
          "shapedefaults": {
           "line": {
            "color": "#2a3f5f"
           }
          },
          "ternary": {
           "aaxis": {
            "gridcolor": "#DFE8F3",
            "linecolor": "#A2B1C6",
            "ticks": ""
           },
           "baxis": {
            "gridcolor": "#DFE8F3",
            "linecolor": "#A2B1C6",
            "ticks": ""
           },
           "bgcolor": "white",
           "caxis": {
            "gridcolor": "#DFE8F3",
            "linecolor": "#A2B1C6",
            "ticks": ""
           }
          },
          "title": {
           "x": 0.05
          },
          "xaxis": {
           "automargin": true,
           "gridcolor": "#EBF0F8",
           "linecolor": "#EBF0F8",
           "ticks": "",
           "title": {
            "standoff": 15
           },
           "zerolinecolor": "#EBF0F8",
           "zerolinewidth": 2
          },
          "yaxis": {
           "automargin": true,
           "gridcolor": "#EBF0F8",
           "linecolor": "#EBF0F8",
           "ticks": "",
           "title": {
            "standoff": 15
           },
           "zerolinecolor": "#EBF0F8",
           "zerolinewidth": 2
          }
         }
        },
        "width": 400,
        "xaxis": {
         "exponentformat": "power",
         "title": {
          "text": "Neurons"
         },
         "type": "log"
        },
        "yaxis": {
         "title": {
          "text": "Accuracy [%]"
         }
        }
       }
      }
     },
     "metadata": {},
     "output_type": "display_data"
    }
   ],
   "source": [
    "fig = go.Figure()\n",
    "fig.add_trace(go.Scatter(x=n_neurons_vec, y=np.max(test_acc_mat,1), mode='markers+lines', name='Full NN', line = dict(color='royalblue')))\n",
    "fig.add_trace(go.Scatter(x=n_neurons_vec, y=np.max(test_acc_ELM_mat,1), mode='markers+lines', name='ELM',line = dict(color='firebrick')))\n",
    "#add linear model as dotted line \n",
    "fig.add_trace(go.Scatter(x=n_neurons_vec, y=np.max(test_acc_lin)*np.ones(len(n_neurons_vec)), mode='lines', name='Linear', line=dict(dash='dot')))\n",
    "#change theme to white and set the sizer of the plot\n",
    "fig.update_layout(template='plotly_white', width=400, height=300,margin=dict(l=20, r=20, t=20, b=20))\n",
    "#set xlim\n",
    "#fig.update_xaxes(range=[0, 1000])\n",
    "#log scale on y axis\n",
    "fig.update_yaxes(title_text=\"Accuracy [%]\")\n",
    "fig.update_xaxes(title_text=\"Neurons\",type = 'log',exponentformat=\"power\")\n",
    "\n",
    "#fig.update_yaxes(range=[0, 1000])"
   ]
  },
  {
   "cell_type": "code",
   "execution_count": 96,
   "metadata": {},
   "outputs": [
    {
     "data": {
      "application/vnd.plotly.v1+json": {
       "config": {
        "plotlyServerURL": "https://plot.ly"
       },
       "data": [
        {
         "mode": "lines",
         "name": "Performance ratio",
         "type": "scatter",
         "x": [
          10,
          20,
          50,
          100,
          200,
          500,
          1000,
          2000
         ],
         "y": [
          1.9841711229946526,
          1.6508650519031143,
          1.2085308056872037,
          1.1084515031196822,
          1.0642500542652487,
          1.0353338255458284,
          1.0224508886810104,
          1.017253848538072
         ]
        }
       ],
       "layout": {
        "height": 400,
        "margin": {
         "b": 20,
         "l": 20,
         "r": 20,
         "t": 20
        },
        "template": {
         "data": {
          "bar": [
           {
            "error_x": {
             "color": "#2a3f5f"
            },
            "error_y": {
             "color": "#2a3f5f"
            },
            "marker": {
             "line": {
              "color": "white",
              "width": 0.5
             },
             "pattern": {
              "fillmode": "overlay",
              "size": 10,
              "solidity": 0.2
             }
            },
            "type": "bar"
           }
          ],
          "barpolar": [
           {
            "marker": {
             "line": {
              "color": "white",
              "width": 0.5
             },
             "pattern": {
              "fillmode": "overlay",
              "size": 10,
              "solidity": 0.2
             }
            },
            "type": "barpolar"
           }
          ],
          "carpet": [
           {
            "aaxis": {
             "endlinecolor": "#2a3f5f",
             "gridcolor": "#C8D4E3",
             "linecolor": "#C8D4E3",
             "minorgridcolor": "#C8D4E3",
             "startlinecolor": "#2a3f5f"
            },
            "baxis": {
             "endlinecolor": "#2a3f5f",
             "gridcolor": "#C8D4E3",
             "linecolor": "#C8D4E3",
             "minorgridcolor": "#C8D4E3",
             "startlinecolor": "#2a3f5f"
            },
            "type": "carpet"
           }
          ],
          "choropleth": [
           {
            "colorbar": {
             "outlinewidth": 0,
             "ticks": ""
            },
            "type": "choropleth"
           }
          ],
          "contour": [
           {
            "colorbar": {
             "outlinewidth": 0,
             "ticks": ""
            },
            "colorscale": [
             [
              0,
              "#0d0887"
             ],
             [
              0.1111111111111111,
              "#46039f"
             ],
             [
              0.2222222222222222,
              "#7201a8"
             ],
             [
              0.3333333333333333,
              "#9c179e"
             ],
             [
              0.4444444444444444,
              "#bd3786"
             ],
             [
              0.5555555555555556,
              "#d8576b"
             ],
             [
              0.6666666666666666,
              "#ed7953"
             ],
             [
              0.7777777777777778,
              "#fb9f3a"
             ],
             [
              0.8888888888888888,
              "#fdca26"
             ],
             [
              1,
              "#f0f921"
             ]
            ],
            "type": "contour"
           }
          ],
          "contourcarpet": [
           {
            "colorbar": {
             "outlinewidth": 0,
             "ticks": ""
            },
            "type": "contourcarpet"
           }
          ],
          "heatmap": [
           {
            "colorbar": {
             "outlinewidth": 0,
             "ticks": ""
            },
            "colorscale": [
             [
              0,
              "#0d0887"
             ],
             [
              0.1111111111111111,
              "#46039f"
             ],
             [
              0.2222222222222222,
              "#7201a8"
             ],
             [
              0.3333333333333333,
              "#9c179e"
             ],
             [
              0.4444444444444444,
              "#bd3786"
             ],
             [
              0.5555555555555556,
              "#d8576b"
             ],
             [
              0.6666666666666666,
              "#ed7953"
             ],
             [
              0.7777777777777778,
              "#fb9f3a"
             ],
             [
              0.8888888888888888,
              "#fdca26"
             ],
             [
              1,
              "#f0f921"
             ]
            ],
            "type": "heatmap"
           }
          ],
          "heatmapgl": [
           {
            "colorbar": {
             "outlinewidth": 0,
             "ticks": ""
            },
            "colorscale": [
             [
              0,
              "#0d0887"
             ],
             [
              0.1111111111111111,
              "#46039f"
             ],
             [
              0.2222222222222222,
              "#7201a8"
             ],
             [
              0.3333333333333333,
              "#9c179e"
             ],
             [
              0.4444444444444444,
              "#bd3786"
             ],
             [
              0.5555555555555556,
              "#d8576b"
             ],
             [
              0.6666666666666666,
              "#ed7953"
             ],
             [
              0.7777777777777778,
              "#fb9f3a"
             ],
             [
              0.8888888888888888,
              "#fdca26"
             ],
             [
              1,
              "#f0f921"
             ]
            ],
            "type": "heatmapgl"
           }
          ],
          "histogram": [
           {
            "marker": {
             "pattern": {
              "fillmode": "overlay",
              "size": 10,
              "solidity": 0.2
             }
            },
            "type": "histogram"
           }
          ],
          "histogram2d": [
           {
            "colorbar": {
             "outlinewidth": 0,
             "ticks": ""
            },
            "colorscale": [
             [
              0,
              "#0d0887"
             ],
             [
              0.1111111111111111,
              "#46039f"
             ],
             [
              0.2222222222222222,
              "#7201a8"
             ],
             [
              0.3333333333333333,
              "#9c179e"
             ],
             [
              0.4444444444444444,
              "#bd3786"
             ],
             [
              0.5555555555555556,
              "#d8576b"
             ],
             [
              0.6666666666666666,
              "#ed7953"
             ],
             [
              0.7777777777777778,
              "#fb9f3a"
             ],
             [
              0.8888888888888888,
              "#fdca26"
             ],
             [
              1,
              "#f0f921"
             ]
            ],
            "type": "histogram2d"
           }
          ],
          "histogram2dcontour": [
           {
            "colorbar": {
             "outlinewidth": 0,
             "ticks": ""
            },
            "colorscale": [
             [
              0,
              "#0d0887"
             ],
             [
              0.1111111111111111,
              "#46039f"
             ],
             [
              0.2222222222222222,
              "#7201a8"
             ],
             [
              0.3333333333333333,
              "#9c179e"
             ],
             [
              0.4444444444444444,
              "#bd3786"
             ],
             [
              0.5555555555555556,
              "#d8576b"
             ],
             [
              0.6666666666666666,
              "#ed7953"
             ],
             [
              0.7777777777777778,
              "#fb9f3a"
             ],
             [
              0.8888888888888888,
              "#fdca26"
             ],
             [
              1,
              "#f0f921"
             ]
            ],
            "type": "histogram2dcontour"
           }
          ],
          "mesh3d": [
           {
            "colorbar": {
             "outlinewidth": 0,
             "ticks": ""
            },
            "type": "mesh3d"
           }
          ],
          "parcoords": [
           {
            "line": {
             "colorbar": {
              "outlinewidth": 0,
              "ticks": ""
             }
            },
            "type": "parcoords"
           }
          ],
          "pie": [
           {
            "automargin": true,
            "type": "pie"
           }
          ],
          "scatter": [
           {
            "fillpattern": {
             "fillmode": "overlay",
             "size": 10,
             "solidity": 0.2
            },
            "type": "scatter"
           }
          ],
          "scatter3d": [
           {
            "line": {
             "colorbar": {
              "outlinewidth": 0,
              "ticks": ""
             }
            },
            "marker": {
             "colorbar": {
              "outlinewidth": 0,
              "ticks": ""
             }
            },
            "type": "scatter3d"
           }
          ],
          "scattercarpet": [
           {
            "marker": {
             "colorbar": {
              "outlinewidth": 0,
              "ticks": ""
             }
            },
            "type": "scattercarpet"
           }
          ],
          "scattergeo": [
           {
            "marker": {
             "colorbar": {
              "outlinewidth": 0,
              "ticks": ""
             }
            },
            "type": "scattergeo"
           }
          ],
          "scattergl": [
           {
            "marker": {
             "colorbar": {
              "outlinewidth": 0,
              "ticks": ""
             }
            },
            "type": "scattergl"
           }
          ],
          "scattermapbox": [
           {
            "marker": {
             "colorbar": {
              "outlinewidth": 0,
              "ticks": ""
             }
            },
            "type": "scattermapbox"
           }
          ],
          "scatterpolar": [
           {
            "marker": {
             "colorbar": {
              "outlinewidth": 0,
              "ticks": ""
             }
            },
            "type": "scatterpolar"
           }
          ],
          "scatterpolargl": [
           {
            "marker": {
             "colorbar": {
              "outlinewidth": 0,
              "ticks": ""
             }
            },
            "type": "scatterpolargl"
           }
          ],
          "scatterternary": [
           {
            "marker": {
             "colorbar": {
              "outlinewidth": 0,
              "ticks": ""
             }
            },
            "type": "scatterternary"
           }
          ],
          "surface": [
           {
            "colorbar": {
             "outlinewidth": 0,
             "ticks": ""
            },
            "colorscale": [
             [
              0,
              "#0d0887"
             ],
             [
              0.1111111111111111,
              "#46039f"
             ],
             [
              0.2222222222222222,
              "#7201a8"
             ],
             [
              0.3333333333333333,
              "#9c179e"
             ],
             [
              0.4444444444444444,
              "#bd3786"
             ],
             [
              0.5555555555555556,
              "#d8576b"
             ],
             [
              0.6666666666666666,
              "#ed7953"
             ],
             [
              0.7777777777777778,
              "#fb9f3a"
             ],
             [
              0.8888888888888888,
              "#fdca26"
             ],
             [
              1,
              "#f0f921"
             ]
            ],
            "type": "surface"
           }
          ],
          "table": [
           {
            "cells": {
             "fill": {
              "color": "#EBF0F8"
             },
             "line": {
              "color": "white"
             }
            },
            "header": {
             "fill": {
              "color": "#C8D4E3"
             },
             "line": {
              "color": "white"
             }
            },
            "type": "table"
           }
          ]
         },
         "layout": {
          "annotationdefaults": {
           "arrowcolor": "#2a3f5f",
           "arrowhead": 0,
           "arrowwidth": 1
          },
          "autotypenumbers": "strict",
          "coloraxis": {
           "colorbar": {
            "outlinewidth": 0,
            "ticks": ""
           }
          },
          "colorscale": {
           "diverging": [
            [
             0,
             "#8e0152"
            ],
            [
             0.1,
             "#c51b7d"
            ],
            [
             0.2,
             "#de77ae"
            ],
            [
             0.3,
             "#f1b6da"
            ],
            [
             0.4,
             "#fde0ef"
            ],
            [
             0.5,
             "#f7f7f7"
            ],
            [
             0.6,
             "#e6f5d0"
            ],
            [
             0.7,
             "#b8e186"
            ],
            [
             0.8,
             "#7fbc41"
            ],
            [
             0.9,
             "#4d9221"
            ],
            [
             1,
             "#276419"
            ]
           ],
           "sequential": [
            [
             0,
             "#0d0887"
            ],
            [
             0.1111111111111111,
             "#46039f"
            ],
            [
             0.2222222222222222,
             "#7201a8"
            ],
            [
             0.3333333333333333,
             "#9c179e"
            ],
            [
             0.4444444444444444,
             "#bd3786"
            ],
            [
             0.5555555555555556,
             "#d8576b"
            ],
            [
             0.6666666666666666,
             "#ed7953"
            ],
            [
             0.7777777777777778,
             "#fb9f3a"
            ],
            [
             0.8888888888888888,
             "#fdca26"
            ],
            [
             1,
             "#f0f921"
            ]
           ],
           "sequentialminus": [
            [
             0,
             "#0d0887"
            ],
            [
             0.1111111111111111,
             "#46039f"
            ],
            [
             0.2222222222222222,
             "#7201a8"
            ],
            [
             0.3333333333333333,
             "#9c179e"
            ],
            [
             0.4444444444444444,
             "#bd3786"
            ],
            [
             0.5555555555555556,
             "#d8576b"
            ],
            [
             0.6666666666666666,
             "#ed7953"
            ],
            [
             0.7777777777777778,
             "#fb9f3a"
            ],
            [
             0.8888888888888888,
             "#fdca26"
            ],
            [
             1,
             "#f0f921"
            ]
           ]
          },
          "colorway": [
           "#636efa",
           "#EF553B",
           "#00cc96",
           "#ab63fa",
           "#FFA15A",
           "#19d3f3",
           "#FF6692",
           "#B6E880",
           "#FF97FF",
           "#FECB52"
          ],
          "font": {
           "color": "#2a3f5f"
          },
          "geo": {
           "bgcolor": "white",
           "lakecolor": "white",
           "landcolor": "white",
           "showlakes": true,
           "showland": true,
           "subunitcolor": "#C8D4E3"
          },
          "hoverlabel": {
           "align": "left"
          },
          "hovermode": "closest",
          "mapbox": {
           "style": "light"
          },
          "paper_bgcolor": "white",
          "plot_bgcolor": "white",
          "polar": {
           "angularaxis": {
            "gridcolor": "#EBF0F8",
            "linecolor": "#EBF0F8",
            "ticks": ""
           },
           "bgcolor": "white",
           "radialaxis": {
            "gridcolor": "#EBF0F8",
            "linecolor": "#EBF0F8",
            "ticks": ""
           }
          },
          "scene": {
           "xaxis": {
            "backgroundcolor": "white",
            "gridcolor": "#DFE8F3",
            "gridwidth": 2,
            "linecolor": "#EBF0F8",
            "showbackground": true,
            "ticks": "",
            "zerolinecolor": "#EBF0F8"
           },
           "yaxis": {
            "backgroundcolor": "white",
            "gridcolor": "#DFE8F3",
            "gridwidth": 2,
            "linecolor": "#EBF0F8",
            "showbackground": true,
            "ticks": "",
            "zerolinecolor": "#EBF0F8"
           },
           "zaxis": {
            "backgroundcolor": "white",
            "gridcolor": "#DFE8F3",
            "gridwidth": 2,
            "linecolor": "#EBF0F8",
            "showbackground": true,
            "ticks": "",
            "zerolinecolor": "#EBF0F8"
           }
          },
          "shapedefaults": {
           "line": {
            "color": "#2a3f5f"
           }
          },
          "ternary": {
           "aaxis": {
            "gridcolor": "#DFE8F3",
            "linecolor": "#A2B1C6",
            "ticks": ""
           },
           "baxis": {
            "gridcolor": "#DFE8F3",
            "linecolor": "#A2B1C6",
            "ticks": ""
           },
           "bgcolor": "white",
           "caxis": {
            "gridcolor": "#DFE8F3",
            "linecolor": "#A2B1C6",
            "ticks": ""
           }
          },
          "title": {
           "x": 0.05
          },
          "xaxis": {
           "automargin": true,
           "gridcolor": "#EBF0F8",
           "linecolor": "#EBF0F8",
           "ticks": "",
           "title": {
            "standoff": 15
           },
           "zerolinecolor": "#EBF0F8",
           "zerolinewidth": 2
          },
          "yaxis": {
           "automargin": true,
           "gridcolor": "#EBF0F8",
           "linecolor": "#EBF0F8",
           "ticks": "",
           "title": {
            "standoff": 15
           },
           "zerolinecolor": "#EBF0F8",
           "zerolinewidth": 2
          }
         }
        },
        "width": 400,
        "xaxis": {
         "exponentformat": "power",
         "title": {
          "text": "Neurons"
         },
         "type": "log"
        }
       }
      }
     },
     "metadata": {},
     "output_type": "display_data"
    }
   ],
   "source": [
    "fig = go.Figure()\n",
    "fig.add_trace(go.Scatter(x=n_neurons_vec, y=np.max(test_acc_mat,1)/np.max(test_acc_ELM_mat,1), mode='lines', name='Performance ratio'))\n",
    "#change theme to white and set the sizer of the plot\n",
    "fig.update_layout(template='plotly_white', width=400, height=400,margin=dict(l=20, r=20, t=20, b=20))\n",
    "fig.update_xaxes(title_text=\"Neurons\",type = 'log',exponentformat=\"power\")\n",
    "\n"
   ]
  },
  {
   "cell_type": "code",
   "execution_count": 112,
   "metadata": {},
   "outputs": [
    {
     "name": "stdout",
     "output_type": "stream",
     "text": [
      "Using cuda device\n",
      "Neural_Net(\n",
      "  (NN_stack): Sequential(\n",
      "    (0): Flatten(start_dim=1, end_dim=-1)\n",
      "    (1): Linear(in_features=784, out_features=100, bias=True)\n",
      "    (2): ReLU()\n",
      "    (3): Linear(in_features=100, out_features=10, bias=True)\n",
      "  )\n",
      ")\n",
      "Epoch [1/1], Step [100/600], Loss: 0.4787842631340027, Test Accuracy: 88.98%\n",
      "Epoch [1/1], Step [200/600], Loss: 0.2602790594100952, Test Accuracy: 90.93%\n",
      "Epoch [1/1], Step [300/600], Loss: 0.43224671483039856, Test Accuracy: 91.59%\n",
      "Epoch [1/1], Step [400/600], Loss: 0.34260377287864685, Test Accuracy: 92.59%\n",
      "Epoch [1/1], Step [500/600], Loss: 0.37550801038742065, Test Accuracy: 92.71%\n",
      "Epoch [1/1], Step [600/600], Loss: 0.2897663414478302, Test Accuracy: 93.5%\n"
     ]
    },
    {
     "ename": "IndexError",
     "evalue": "too many indices for tensor of dimension 1",
     "output_type": "error",
     "traceback": [
      "\u001b[1;31m---------------------------------------------------------------------------\u001b[0m",
      "\u001b[1;31mIndexError\u001b[0m                                Traceback (most recent call last)",
      "Cell \u001b[1;32mIn[112], line 42\u001b[0m\n\u001b[0;32m     39\u001b[0m      accuracy_list\u001b[38;5;241m.\u001b[39mappend(accuracy)\n\u001b[0;32m     40\u001b[0m accuracy_mat[:,i] \u001b[38;5;241m=\u001b[39m accuracy_list\n\u001b[1;32m---> 42\u001b[0m \u001b[43mNN_MNIST\u001b[49m\u001b[38;5;241;43m.\u001b[39;49m\u001b[43mset_params\u001b[49m\u001b[43m(\u001b[49m\u001b[43mtrained_params\u001b[49m\u001b[43m)\u001b[49m\n",
      "Cell \u001b[1;32mIn[111], line 46\u001b[0m, in \u001b[0;36mNeural_Net.set_params\u001b[1;34m(self, params_to_send)\u001b[0m\n\u001b[0;32m     44\u001b[0m \u001b[38;5;28;01mfor\u001b[39;00m param \u001b[38;5;129;01min\u001b[39;00m \u001b[38;5;28mself\u001b[39m\u001b[38;5;241m.\u001b[39mparameters():\n\u001b[0;32m     45\u001b[0m    n_params \u001b[38;5;241m=\u001b[39m param\u001b[38;5;241m.\u001b[39mdata\u001b[38;5;241m.\u001b[39mnumel()\n\u001b[1;32m---> 46\u001b[0m    new_param \u001b[38;5;241m=\u001b[39m  torch\u001b[38;5;241m.\u001b[39mreshape(torch\u001b[38;5;241m.\u001b[39mfrom_numpy(\u001b[43mparams_to_send\u001b[49m\u001b[43m[\u001b[49m\u001b[43midx_prev\u001b[49m\u001b[43m:\u001b[49m\u001b[43m \u001b[49m\u001b[43midx_prev\u001b[49m\u001b[43m \u001b[49m\u001b[38;5;241;43m+\u001b[39;49m\u001b[43m \u001b[49m\u001b[43mn_params\u001b[49m\u001b[43m \u001b[49m\u001b[43m,\u001b[49m\u001b[43m \u001b[49m\u001b[43m:\u001b[49m\u001b[43m]\u001b[49m),shape\u001b[38;5;241m=\u001b[39mparam\u001b[38;5;241m.\u001b[39mdata\u001b[38;5;241m.\u001b[39mshape)\n\u001b[0;32m     47\u001b[0m    param\u001b[38;5;241m.\u001b[39mdata\u001b[38;5;241m.\u001b[39mcopy_(new_param)\n\u001b[0;32m     48\u001b[0m    idx_prev \u001b[38;5;241m+\u001b[39m\u001b[38;5;241m=\u001b[39m n_params\n",
      "\u001b[1;31mIndexError\u001b[0m: too many indices for tensor of dimension 1"
     ]
    }
   ],
   "source": [
    "#impact of quantization on network performance \n",
    "\n",
    "n_bit_vector = [1, 2, 3, 4, 5, 6, 7, 8, 9, 10, 12]\n",
    "\n",
    "#We Now create an instance of the NN class and move if to the GPU if available\n",
    "n_neurons = 100\n",
    "NN_MNIST = Neural_Net(input_size=28*28, hidden_size=n_neurons, n_classes=10)\n",
    "\n",
    "loss = nn.CrossEntropyLoss()\n",
    "optimizer = torch.optim.Adam(NN_MNIST.parameters(), lr=0.001)\n",
    "\n",
    "#training the full NN\n",
    "n_epochs = 1\n",
    "test_acc = train_pytorch_NN(NN_MNIST, n_epochs, train_loader_MNIST, test_loader_MNIST, loss, optimizer)\n",
    "\n",
    "device = 'cuda' if torch.cuda.is_available() else 'cpu'\n",
    "\n",
    "trained_params = NN_MNIST.get_params()\n",
    "\n",
    "accuracy_mat = np.zeros([100,len(n_bit_vector)])\n",
    "\n",
    "for i in range(len(n_bit_vector)):\n",
    "     accuracy_list = []\n",
    "     \n",
    "     n_levels = 2**n_bit_vector[i]\n",
    "     \n",
    "     quantize_model(NN_MNIST,n_levels)\n",
    "     \n",
    "     correct = 0 \n",
    "     total = 0\n",
    "     for images, labels in test_loader_MNIST:\n",
    "          images = images.to(device)\n",
    "          labels = labels.to(device)\n",
    "          Y_pred = NN_MNIST.forward(images)\n",
    "          _, predicted = torch.max(Y_pred.data, 1)\n",
    "          total += labels.size(0)\n",
    "          correct += (predicted == labels).sum().item()\n",
    "          accuracy = ( 100*correct/total)\n",
    "          accuracy_list.append(accuracy)\n",
    "     accuracy_mat[:,i] = accuracy_list\n",
    "\n",
    "     NN_MNIST.set_params(trained_params)\n",
    "     \n"
   ]
  },
  {
   "cell_type": "code",
   "execution_count": null,
   "metadata": {},
   "outputs": [],
   "source": []
  },
  {
   "cell_type": "code",
   "execution_count": null,
   "metadata": {},
   "outputs": [],
   "source": [
    "# Training loop PEPG for MNIST: \n",
    "\n",
    "# TODO : need to rework PEPG and CMA and PSO to take a param dictionary as input parameters so I can create an optimizer loop for them \n",
    "\n",
    "NN_MNIST.reset_weights()\n",
    "NN_MNIST.NN_stack[0].requires_grad = True\n",
    "\n",
    "# learning parameters\n",
    "\n",
    "epochs = 10\n",
    "N_dim = NN_MNIST.num_params\n",
    "pop_size = 100\n",
    "\n",
    "init_pos = NN_MNIST.get_params().values\n",
    "\n",
    "PEPG_optimizer = PEPG_opt(N_dim, pop_size, learning_rate=0.05, starting_mu=init_pos ,starting_sigma=0.5)\n",
    "\n",
    "\n",
    "train_online_pop_NN(NN_MNIST, n_epochs, train_loader_MNIST, test_loader_MNIST, loss, optimizer)\n"
   ]
  },
  {
   "cell_type": "code",
   "execution_count": null,
   "metadata": {},
   "outputs": [],
   "source": []
  }
 ],
 "metadata": {
  "kernelspec": {
   "display_name": "base",
   "language": "python",
   "name": "python3"
  },
  "language_info": {
   "codemirror_mode": {
    "name": "ipython",
    "version": 3
   },
   "file_extension": ".py",
   "mimetype": "text/x-python",
   "name": "python",
   "nbconvert_exporter": "python",
   "pygments_lexer": "ipython3",
   "version": "3.10.13"
  }
 },
 "nbformat": 4,
 "nbformat_minor": 2
}
