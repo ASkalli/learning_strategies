{
 "cells": [
  {
   "cell_type": "code",
   "execution_count": 1,
   "metadata": {},
   "outputs": [],
   "source": [
    "import numpy as np\n",
    "import seaborn as sns\n",
    "import matplotlib.pyplot as plt\n",
    "from CMA_obj import CMA_opt\n",
    "from PEPG_obj import PEPG_opt\n",
    "import plotly.graph_objects as go\n",
    "from plotly.subplots import make_subplots\n",
    "from SPSA_obj import SPSA_opt\n",
    "from ADAM_opt import AdamOptimizer\n",
    "from PSO_obj import PSO_opt\n",
    "from scipy.interpolate import interp1d\n",
    "from numpy import asarray\n",
    "from numpy import savetxt\n",
    "from NN_utils import *\n",
    "import torch\n",
    "import torch.nn as nn\n",
    "from torchvision import datasets, transforms\n",
    "import pandas as pd"
   ]
  },
  {
   "cell_type": "markdown",
   "metadata": {},
   "source": [
    "#   Online Training of Neural Networks\n",
    "\n",
    "- The NN class helper functions and training loop functions are defined in NN_utils, "
   ]
  },
  {
   "cell_type": "markdown",
   "metadata": {},
   "source": [
    "### Loading datasets\n",
    "X is the input, Y the output"
   ]
  },
  {
   "cell_type": "code",
   "execution_count": 2,
   "metadata": {},
   "outputs": [],
   "source": [
    "# MNIST dataset\n",
    "MNIST_train = datasets.MNIST(root='./data', train=True, transform=transforms.ToTensor(), download=True)\n",
    "MNIST_test = datasets.MNIST(root='./data', train=False, transform=transforms.ToTensor(), download=True)\n",
    "\n",
    "train_loader_MNIST = torch.utils.data.DataLoader(dataset=MNIST_train, batch_size=100, shuffle=True)\n",
    "test_loader_MNIST = torch.utils.data.DataLoader(dataset=MNIST_test, batch_size=100, shuffle=False)\n",
    "\n",
    "X_train_MNIST, Y_train_MNIST = next(iter(train_loader_MNIST))\n",
    "X_test_MNIST, Y_test_MNIST = next(iter(test_loader_MNIST))"
   ]
  },
  {
   "cell_type": "code",
   "execution_count": 5,
   "metadata": {},
   "outputs": [
    {
     "name": "stdout",
     "output_type": "stream",
     "text": [
      "Number of parameters in the network:  11274\n",
      "Using cuda device\n",
      "Tiny_convnet(\n",
      "  (conv1): Conv2d(1, 8, kernel_size=(5, 5), stride=(1, 1), padding=(2, 2))\n",
      "  (pool1): MaxPool2d(kernel_size=2, stride=2, padding=0, dilation=1, ceil_mode=False)\n",
      "  (conv2): Conv2d(8, 16, kernel_size=(5, 5), stride=(1, 1), padding=(2, 2))\n",
      "  (pool2): MaxPool2d(kernel_size=2, stride=2, padding=0, dilation=1, ceil_mode=False)\n",
      "  (fc): Linear(in_features=784, out_features=10, bias=True)\n",
      ")\n",
      "Epoch [1/10], Step [100/600], Loss: 0.3023834824562073, Test Accuracy: 90.0%\n",
      "Epoch [1/10], Step [200/600], Loss: 0.18753696978092194, Test Accuracy: 94.36%\n",
      "Epoch [1/10], Step [300/600], Loss: 0.07241831719875336, Test Accuracy: 95.83%\n",
      "Epoch [1/10], Step [400/600], Loss: 0.19058899581432343, Test Accuracy: 96.65%\n",
      "Epoch [1/10], Step [500/600], Loss: 0.18027405440807343, Test Accuracy: 97.01%\n",
      "Epoch [1/10], Step [600/600], Loss: 0.10318891704082489, Test Accuracy: 97.39%\n",
      "Epoch [2/10], Step [100/600], Loss: 0.06281963735818863, Test Accuracy: 97.62%\n",
      "Epoch [2/10], Step [200/600], Loss: 0.05906205251812935, Test Accuracy: 97.58%\n",
      "Epoch [2/10], Step [300/600], Loss: 0.061489496380090714, Test Accuracy: 97.9%\n",
      "Epoch [2/10], Step [400/600], Loss: 0.08636569231748581, Test Accuracy: 97.96%\n",
      "Epoch [2/10], Step [500/600], Loss: 0.11027012020349503, Test Accuracy: 98.09%\n",
      "Epoch [2/10], Step [600/600], Loss: 0.24986879527568817, Test Accuracy: 97.96%\n",
      "Epoch [3/10], Step [100/600], Loss: 0.057135049253702164, Test Accuracy: 98.11%\n",
      "Epoch [3/10], Step [200/600], Loss: 0.07510419189929962, Test Accuracy: 98.17%\n",
      "Epoch [3/10], Step [300/600], Loss: 0.033746425062417984, Test Accuracy: 98.4%\n",
      "Epoch [3/10], Step [400/600], Loss: 0.031931888312101364, Test Accuracy: 98.2%\n",
      "Epoch [3/10], Step [500/600], Loss: 0.09249471873044968, Test Accuracy: 98.44%\n",
      "Epoch [3/10], Step [600/600], Loss: 0.08035700768232346, Test Accuracy: 98.43%\n",
      "Epoch [4/10], Step [100/600], Loss: 0.025183074176311493, Test Accuracy: 98.47%\n",
      "Epoch [4/10], Step [200/600], Loss: 0.030370067805051804, Test Accuracy: 98.49%\n",
      "Epoch [4/10], Step [300/600], Loss: 0.022289736196398735, Test Accuracy: 98.48%\n",
      "Epoch [4/10], Step [400/600], Loss: 0.04868679121136665, Test Accuracy: 98.52%\n",
      "Epoch [4/10], Step [500/600], Loss: 0.025971794500947, Test Accuracy: 98.4%\n",
      "Epoch [4/10], Step [600/600], Loss: 0.03328314423561096, Test Accuracy: 98.41%\n",
      "Epoch [5/10], Step [100/600], Loss: 0.05126164108514786, Test Accuracy: 98.57%\n",
      "Epoch [5/10], Step [200/600], Loss: 0.03634791076183319, Test Accuracy: 98.51%\n",
      "Epoch [5/10], Step [300/600], Loss: 0.023354997858405113, Test Accuracy: 98.6%\n",
      "Epoch [5/10], Step [400/600], Loss: 0.08908196538686752, Test Accuracy: 98.41%\n",
      "Epoch [5/10], Step [500/600], Loss: 0.04263060539960861, Test Accuracy: 98.48%\n",
      "Epoch [5/10], Step [600/600], Loss: 0.013730620965361595, Test Accuracy: 98.59%\n",
      "Epoch [6/10], Step [100/600], Loss: 0.03921093791723251, Test Accuracy: 98.56%\n",
      "Epoch [6/10], Step [200/600], Loss: 0.022376980632543564, Test Accuracy: 98.64%\n",
      "Epoch [6/10], Step [300/600], Loss: 0.30198946595191956, Test Accuracy: 98.63%\n",
      "Epoch [6/10], Step [400/600], Loss: 0.07282683253288269, Test Accuracy: 98.88%\n",
      "Epoch [6/10], Step [500/600], Loss: 0.04209354519844055, Test Accuracy: 98.82%\n",
      "Epoch [6/10], Step [600/600], Loss: 0.0329643115401268, Test Accuracy: 98.53%\n",
      "Epoch [7/10], Step [100/600], Loss: 0.0383467860519886, Test Accuracy: 98.73%\n",
      "Epoch [7/10], Step [200/600], Loss: 0.027500919997692108, Test Accuracy: 98.72%\n",
      "Epoch [7/10], Step [300/600], Loss: 0.12974613904953003, Test Accuracy: 98.58%\n",
      "Epoch [7/10], Step [400/600], Loss: 0.026177899911999702, Test Accuracy: 98.88%\n",
      "Epoch [7/10], Step [500/600], Loss: 0.012046155519783497, Test Accuracy: 98.84%\n",
      "Epoch [7/10], Step [600/600], Loss: 0.007569919805973768, Test Accuracy: 98.74%\n",
      "Epoch [8/10], Step [100/600], Loss: 0.04351896420121193, Test Accuracy: 98.86%\n",
      "Epoch [8/10], Step [200/600], Loss: 0.0305391326546669, Test Accuracy: 98.72%\n",
      "Epoch [8/10], Step [300/600], Loss: 0.010336684063076973, Test Accuracy: 98.85%\n",
      "Epoch [8/10], Step [400/600], Loss: 0.06662570685148239, Test Accuracy: 98.79%\n",
      "Epoch [8/10], Step [500/600], Loss: 0.013338234275579453, Test Accuracy: 98.9%\n",
      "Epoch [8/10], Step [600/600], Loss: 0.028747012838721275, Test Accuracy: 98.77%\n",
      "Epoch [9/10], Step [100/600], Loss: 0.00985065009444952, Test Accuracy: 98.93%\n",
      "Epoch [9/10], Step [200/600], Loss: 0.026093337684869766, Test Accuracy: 98.96%\n",
      "Epoch [9/10], Step [300/600], Loss: 0.07005680352449417, Test Accuracy: 98.76%\n",
      "Epoch [9/10], Step [400/600], Loss: 0.00663829455152154, Test Accuracy: 99.02%\n",
      "Epoch [9/10], Step [500/600], Loss: 0.024068893864750862, Test Accuracy: 98.81%\n",
      "Epoch [9/10], Step [600/600], Loss: 0.06657193601131439, Test Accuracy: 98.7%\n",
      "Epoch [10/10], Step [100/600], Loss: 0.053347740322351456, Test Accuracy: 98.94%\n",
      "Epoch [10/10], Step [200/600], Loss: 0.03743409737944603, Test Accuracy: 99.04%\n",
      "Epoch [10/10], Step [300/600], Loss: 0.12675148248672485, Test Accuracy: 98.87%\n",
      "Epoch [10/10], Step [400/600], Loss: 0.07295752316713333, Test Accuracy: 98.83%\n",
      "Epoch [10/10], Step [500/600], Loss: 0.014497713185846806, Test Accuracy: 98.96%\n",
      "Epoch [10/10], Step [600/600], Loss: 0.06849302351474762, Test Accuracy: 99.05%\n"
     ]
    }
   ],
   "source": [
    "Mini_NN = Tiny_convnet()\n",
    "N_dim = Mini_NN.count_parameters()\n",
    "print('Number of parameters in the network: ', N_dim)\n",
    "loss = nn.CrossEntropyLoss()\n",
    "optimizer = torch.optim.Adam(Mini_NN.parameters(), lr=0.001)\n",
    "\n",
    "#training the full NN\n",
    "n_epochs = 20\n",
    "test_acc = train_pytorch_NN(Mini_NN, n_epochs, train_loader_MNIST, test_loader_MNIST, loss, optimizer)"
   ]
  },
  {
   "cell_type": "code",
   "execution_count": 6,
   "metadata": {},
   "outputs": [
    {
     "data": {
      "application/vnd.plotly.v1+json": {
       "config": {
        "plotlyServerURL": "https://plot.ly"
       },
       "data": [
        {
         "mode": "lines",
         "name": "Full NN",
         "type": "scatter",
         "x": [
          0,
          1,
          2,
          3,
          4,
          5,
          6,
          7,
          8,
          9,
          10,
          11,
          12,
          13,
          14,
          15,
          16,
          17,
          18,
          19,
          20,
          21,
          22,
          23,
          24,
          25,
          26,
          27,
          28,
          29,
          30,
          31,
          32,
          33,
          34,
          35,
          36,
          37,
          38,
          39,
          40,
          41,
          42,
          43,
          44,
          45,
          46,
          47,
          48,
          49,
          50,
          51,
          52,
          53,
          54,
          55,
          56,
          57,
          58,
          59
         ],
         "y": [
          90,
          94.36,
          95.83,
          96.65,
          97.01,
          97.39,
          97.62,
          97.58,
          97.9,
          97.96,
          98.09,
          97.96,
          98.11,
          98.17,
          98.4,
          98.2,
          98.44,
          98.43,
          98.47,
          98.49,
          98.48,
          98.52,
          98.4,
          98.41,
          98.57,
          98.51,
          98.6,
          98.41,
          98.48,
          98.59,
          98.56,
          98.64,
          98.63,
          98.88,
          98.82,
          98.53,
          98.73,
          98.72,
          98.58,
          98.88,
          98.84,
          98.74,
          98.86,
          98.72,
          98.85,
          98.79,
          98.9,
          98.77,
          98.93,
          98.96,
          98.76,
          99.02,
          98.81,
          98.7,
          98.94,
          99.04,
          98.87,
          98.83,
          98.96,
          99.05
         ]
        }
       ],
       "layout": {
        "height": 400,
        "margin": {
         "b": 20,
         "l": 20,
         "r": 20,
         "t": 20
        },
        "template": {
         "data": {
          "bar": [
           {
            "error_x": {
             "color": "#2a3f5f"
            },
            "error_y": {
             "color": "#2a3f5f"
            },
            "marker": {
             "line": {
              "color": "white",
              "width": 0.5
             },
             "pattern": {
              "fillmode": "overlay",
              "size": 10,
              "solidity": 0.2
             }
            },
            "type": "bar"
           }
          ],
          "barpolar": [
           {
            "marker": {
             "line": {
              "color": "white",
              "width": 0.5
             },
             "pattern": {
              "fillmode": "overlay",
              "size": 10,
              "solidity": 0.2
             }
            },
            "type": "barpolar"
           }
          ],
          "carpet": [
           {
            "aaxis": {
             "endlinecolor": "#2a3f5f",
             "gridcolor": "#C8D4E3",
             "linecolor": "#C8D4E3",
             "minorgridcolor": "#C8D4E3",
             "startlinecolor": "#2a3f5f"
            },
            "baxis": {
             "endlinecolor": "#2a3f5f",
             "gridcolor": "#C8D4E3",
             "linecolor": "#C8D4E3",
             "minorgridcolor": "#C8D4E3",
             "startlinecolor": "#2a3f5f"
            },
            "type": "carpet"
           }
          ],
          "choropleth": [
           {
            "colorbar": {
             "outlinewidth": 0,
             "ticks": ""
            },
            "type": "choropleth"
           }
          ],
          "contour": [
           {
            "colorbar": {
             "outlinewidth": 0,
             "ticks": ""
            },
            "colorscale": [
             [
              0,
              "#0d0887"
             ],
             [
              0.1111111111111111,
              "#46039f"
             ],
             [
              0.2222222222222222,
              "#7201a8"
             ],
             [
              0.3333333333333333,
              "#9c179e"
             ],
             [
              0.4444444444444444,
              "#bd3786"
             ],
             [
              0.5555555555555556,
              "#d8576b"
             ],
             [
              0.6666666666666666,
              "#ed7953"
             ],
             [
              0.7777777777777778,
              "#fb9f3a"
             ],
             [
              0.8888888888888888,
              "#fdca26"
             ],
             [
              1,
              "#f0f921"
             ]
            ],
            "type": "contour"
           }
          ],
          "contourcarpet": [
           {
            "colorbar": {
             "outlinewidth": 0,
             "ticks": ""
            },
            "type": "contourcarpet"
           }
          ],
          "heatmap": [
           {
            "colorbar": {
             "outlinewidth": 0,
             "ticks": ""
            },
            "colorscale": [
             [
              0,
              "#0d0887"
             ],
             [
              0.1111111111111111,
              "#46039f"
             ],
             [
              0.2222222222222222,
              "#7201a8"
             ],
             [
              0.3333333333333333,
              "#9c179e"
             ],
             [
              0.4444444444444444,
              "#bd3786"
             ],
             [
              0.5555555555555556,
              "#d8576b"
             ],
             [
              0.6666666666666666,
              "#ed7953"
             ],
             [
              0.7777777777777778,
              "#fb9f3a"
             ],
             [
              0.8888888888888888,
              "#fdca26"
             ],
             [
              1,
              "#f0f921"
             ]
            ],
            "type": "heatmap"
           }
          ],
          "heatmapgl": [
           {
            "colorbar": {
             "outlinewidth": 0,
             "ticks": ""
            },
            "colorscale": [
             [
              0,
              "#0d0887"
             ],
             [
              0.1111111111111111,
              "#46039f"
             ],
             [
              0.2222222222222222,
              "#7201a8"
             ],
             [
              0.3333333333333333,
              "#9c179e"
             ],
             [
              0.4444444444444444,
              "#bd3786"
             ],
             [
              0.5555555555555556,
              "#d8576b"
             ],
             [
              0.6666666666666666,
              "#ed7953"
             ],
             [
              0.7777777777777778,
              "#fb9f3a"
             ],
             [
              0.8888888888888888,
              "#fdca26"
             ],
             [
              1,
              "#f0f921"
             ]
            ],
            "type": "heatmapgl"
           }
          ],
          "histogram": [
           {
            "marker": {
             "pattern": {
              "fillmode": "overlay",
              "size": 10,
              "solidity": 0.2
             }
            },
            "type": "histogram"
           }
          ],
          "histogram2d": [
           {
            "colorbar": {
             "outlinewidth": 0,
             "ticks": ""
            },
            "colorscale": [
             [
              0,
              "#0d0887"
             ],
             [
              0.1111111111111111,
              "#46039f"
             ],
             [
              0.2222222222222222,
              "#7201a8"
             ],
             [
              0.3333333333333333,
              "#9c179e"
             ],
             [
              0.4444444444444444,
              "#bd3786"
             ],
             [
              0.5555555555555556,
              "#d8576b"
             ],
             [
              0.6666666666666666,
              "#ed7953"
             ],
             [
              0.7777777777777778,
              "#fb9f3a"
             ],
             [
              0.8888888888888888,
              "#fdca26"
             ],
             [
              1,
              "#f0f921"
             ]
            ],
            "type": "histogram2d"
           }
          ],
          "histogram2dcontour": [
           {
            "colorbar": {
             "outlinewidth": 0,
             "ticks": ""
            },
            "colorscale": [
             [
              0,
              "#0d0887"
             ],
             [
              0.1111111111111111,
              "#46039f"
             ],
             [
              0.2222222222222222,
              "#7201a8"
             ],
             [
              0.3333333333333333,
              "#9c179e"
             ],
             [
              0.4444444444444444,
              "#bd3786"
             ],
             [
              0.5555555555555556,
              "#d8576b"
             ],
             [
              0.6666666666666666,
              "#ed7953"
             ],
             [
              0.7777777777777778,
              "#fb9f3a"
             ],
             [
              0.8888888888888888,
              "#fdca26"
             ],
             [
              1,
              "#f0f921"
             ]
            ],
            "type": "histogram2dcontour"
           }
          ],
          "mesh3d": [
           {
            "colorbar": {
             "outlinewidth": 0,
             "ticks": ""
            },
            "type": "mesh3d"
           }
          ],
          "parcoords": [
           {
            "line": {
             "colorbar": {
              "outlinewidth": 0,
              "ticks": ""
             }
            },
            "type": "parcoords"
           }
          ],
          "pie": [
           {
            "automargin": true,
            "type": "pie"
           }
          ],
          "scatter": [
           {
            "fillpattern": {
             "fillmode": "overlay",
             "size": 10,
             "solidity": 0.2
            },
            "type": "scatter"
           }
          ],
          "scatter3d": [
           {
            "line": {
             "colorbar": {
              "outlinewidth": 0,
              "ticks": ""
             }
            },
            "marker": {
             "colorbar": {
              "outlinewidth": 0,
              "ticks": ""
             }
            },
            "type": "scatter3d"
           }
          ],
          "scattercarpet": [
           {
            "marker": {
             "colorbar": {
              "outlinewidth": 0,
              "ticks": ""
             }
            },
            "type": "scattercarpet"
           }
          ],
          "scattergeo": [
           {
            "marker": {
             "colorbar": {
              "outlinewidth": 0,
              "ticks": ""
             }
            },
            "type": "scattergeo"
           }
          ],
          "scattergl": [
           {
            "marker": {
             "colorbar": {
              "outlinewidth": 0,
              "ticks": ""
             }
            },
            "type": "scattergl"
           }
          ],
          "scattermapbox": [
           {
            "marker": {
             "colorbar": {
              "outlinewidth": 0,
              "ticks": ""
             }
            },
            "type": "scattermapbox"
           }
          ],
          "scatterpolar": [
           {
            "marker": {
             "colorbar": {
              "outlinewidth": 0,
              "ticks": ""
             }
            },
            "type": "scatterpolar"
           }
          ],
          "scatterpolargl": [
           {
            "marker": {
             "colorbar": {
              "outlinewidth": 0,
              "ticks": ""
             }
            },
            "type": "scatterpolargl"
           }
          ],
          "scatterternary": [
           {
            "marker": {
             "colorbar": {
              "outlinewidth": 0,
              "ticks": ""
             }
            },
            "type": "scatterternary"
           }
          ],
          "surface": [
           {
            "colorbar": {
             "outlinewidth": 0,
             "ticks": ""
            },
            "colorscale": [
             [
              0,
              "#0d0887"
             ],
             [
              0.1111111111111111,
              "#46039f"
             ],
             [
              0.2222222222222222,
              "#7201a8"
             ],
             [
              0.3333333333333333,
              "#9c179e"
             ],
             [
              0.4444444444444444,
              "#bd3786"
             ],
             [
              0.5555555555555556,
              "#d8576b"
             ],
             [
              0.6666666666666666,
              "#ed7953"
             ],
             [
              0.7777777777777778,
              "#fb9f3a"
             ],
             [
              0.8888888888888888,
              "#fdca26"
             ],
             [
              1,
              "#f0f921"
             ]
            ],
            "type": "surface"
           }
          ],
          "table": [
           {
            "cells": {
             "fill": {
              "color": "#EBF0F8"
             },
             "line": {
              "color": "white"
             }
            },
            "header": {
             "fill": {
              "color": "#C8D4E3"
             },
             "line": {
              "color": "white"
             }
            },
            "type": "table"
           }
          ]
         },
         "layout": {
          "annotationdefaults": {
           "arrowcolor": "#2a3f5f",
           "arrowhead": 0,
           "arrowwidth": 1
          },
          "autotypenumbers": "strict",
          "coloraxis": {
           "colorbar": {
            "outlinewidth": 0,
            "ticks": ""
           }
          },
          "colorscale": {
           "diverging": [
            [
             0,
             "#8e0152"
            ],
            [
             0.1,
             "#c51b7d"
            ],
            [
             0.2,
             "#de77ae"
            ],
            [
             0.3,
             "#f1b6da"
            ],
            [
             0.4,
             "#fde0ef"
            ],
            [
             0.5,
             "#f7f7f7"
            ],
            [
             0.6,
             "#e6f5d0"
            ],
            [
             0.7,
             "#b8e186"
            ],
            [
             0.8,
             "#7fbc41"
            ],
            [
             0.9,
             "#4d9221"
            ],
            [
             1,
             "#276419"
            ]
           ],
           "sequential": [
            [
             0,
             "#0d0887"
            ],
            [
             0.1111111111111111,
             "#46039f"
            ],
            [
             0.2222222222222222,
             "#7201a8"
            ],
            [
             0.3333333333333333,
             "#9c179e"
            ],
            [
             0.4444444444444444,
             "#bd3786"
            ],
            [
             0.5555555555555556,
             "#d8576b"
            ],
            [
             0.6666666666666666,
             "#ed7953"
            ],
            [
             0.7777777777777778,
             "#fb9f3a"
            ],
            [
             0.8888888888888888,
             "#fdca26"
            ],
            [
             1,
             "#f0f921"
            ]
           ],
           "sequentialminus": [
            [
             0,
             "#0d0887"
            ],
            [
             0.1111111111111111,
             "#46039f"
            ],
            [
             0.2222222222222222,
             "#7201a8"
            ],
            [
             0.3333333333333333,
             "#9c179e"
            ],
            [
             0.4444444444444444,
             "#bd3786"
            ],
            [
             0.5555555555555556,
             "#d8576b"
            ],
            [
             0.6666666666666666,
             "#ed7953"
            ],
            [
             0.7777777777777778,
             "#fb9f3a"
            ],
            [
             0.8888888888888888,
             "#fdca26"
            ],
            [
             1,
             "#f0f921"
            ]
           ]
          },
          "colorway": [
           "#636efa",
           "#EF553B",
           "#00cc96",
           "#ab63fa",
           "#FFA15A",
           "#19d3f3",
           "#FF6692",
           "#B6E880",
           "#FF97FF",
           "#FECB52"
          ],
          "font": {
           "color": "#2a3f5f"
          },
          "geo": {
           "bgcolor": "white",
           "lakecolor": "white",
           "landcolor": "white",
           "showlakes": true,
           "showland": true,
           "subunitcolor": "#C8D4E3"
          },
          "hoverlabel": {
           "align": "left"
          },
          "hovermode": "closest",
          "mapbox": {
           "style": "light"
          },
          "paper_bgcolor": "white",
          "plot_bgcolor": "white",
          "polar": {
           "angularaxis": {
            "gridcolor": "#EBF0F8",
            "linecolor": "#EBF0F8",
            "ticks": ""
           },
           "bgcolor": "white",
           "radialaxis": {
            "gridcolor": "#EBF0F8",
            "linecolor": "#EBF0F8",
            "ticks": ""
           }
          },
          "scene": {
           "xaxis": {
            "backgroundcolor": "white",
            "gridcolor": "#DFE8F3",
            "gridwidth": 2,
            "linecolor": "#EBF0F8",
            "showbackground": true,
            "ticks": "",
            "zerolinecolor": "#EBF0F8"
           },
           "yaxis": {
            "backgroundcolor": "white",
            "gridcolor": "#DFE8F3",
            "gridwidth": 2,
            "linecolor": "#EBF0F8",
            "showbackground": true,
            "ticks": "",
            "zerolinecolor": "#EBF0F8"
           },
           "zaxis": {
            "backgroundcolor": "white",
            "gridcolor": "#DFE8F3",
            "gridwidth": 2,
            "linecolor": "#EBF0F8",
            "showbackground": true,
            "ticks": "",
            "zerolinecolor": "#EBF0F8"
           }
          },
          "shapedefaults": {
           "line": {
            "color": "#2a3f5f"
           }
          },
          "ternary": {
           "aaxis": {
            "gridcolor": "#DFE8F3",
            "linecolor": "#A2B1C6",
            "ticks": ""
           },
           "baxis": {
            "gridcolor": "#DFE8F3",
            "linecolor": "#A2B1C6",
            "ticks": ""
           },
           "bgcolor": "white",
           "caxis": {
            "gridcolor": "#DFE8F3",
            "linecolor": "#A2B1C6",
            "ticks": ""
           }
          },
          "title": {
           "x": 0.05
          },
          "xaxis": {
           "automargin": true,
           "gridcolor": "#EBF0F8",
           "linecolor": "#EBF0F8",
           "ticks": "",
           "title": {
            "standoff": 15
           },
           "zerolinecolor": "#EBF0F8",
           "zerolinewidth": 2
          },
          "yaxis": {
           "automargin": true,
           "gridcolor": "#EBF0F8",
           "linecolor": "#EBF0F8",
           "ticks": "",
           "title": {
            "standoff": 15
           },
           "zerolinecolor": "#EBF0F8",
           "zerolinewidth": 2
          }
         }
        },
        "width": 400
       }
      }
     },
     "metadata": {},
     "output_type": "display_data"
    }
   ],
   "source": [
    "fig = go.Figure()\n",
    "fig.add_trace(go.Scatter(x=np.arange(len(test_acc)), y=test_acc, mode='lines', name='Full NN'))\n",
    "fig.update_layout(template='plotly_white', width=400, height=400,margin=dict(l=20, r=20, t=20, b=20))\n"
   ]
  },
  {
   "cell_type": "code",
   "execution_count": 3,
   "metadata": {},
   "outputs": [
    {
     "name": "stdout",
     "output_type": "stream",
     "text": [
      "Using cuda device\n",
      "Tiny_convnet(\n",
      "  (conv1): Conv2d(1, 8, kernel_size=(5, 5), stride=(1, 1), padding=(2, 2))\n",
      "  (pool1): MaxPool2d(kernel_size=2, stride=2, padding=0, dilation=1, ceil_mode=False)\n",
      "  (conv2): Conv2d(8, 16, kernel_size=(5, 5), stride=(1, 1), padding=(2, 2))\n",
      "  (pool2): MaxPool2d(kernel_size=2, stride=2, padding=0, dilation=1, ceil_mode=False)\n",
      "  (fc): Linear(in_features=784, out_features=10, bias=True)\n",
      ")\n",
      "Epoch [1/10], Step [100/600], Loss: 2.304324150085449, Test Accuracy: 14.99%\n",
      "Epoch [1/10], Step [200/600], Loss: 2.2977232933044434, Test Accuracy: 15.38%\n",
      "Epoch [1/10], Step [300/600], Loss: 2.003983736038208, Test Accuracy: 44.33%\n",
      "Epoch [1/10], Step [400/600], Loss: 1.2355366945266724, Test Accuracy: 59.58%\n",
      "Epoch [1/10], Step [500/600], Loss: 1.3815442323684692, Test Accuracy: 70.12%\n",
      "Epoch [1/10], Step [600/600], Loss: 1.1501518487930298, Test Accuracy: 75.31%\n",
      "Epoch [2/10], Step [100/600], Loss: 0.8681250214576721, Test Accuracy: 80.55%\n",
      "Epoch [2/10], Step [200/600], Loss: 0.6225120425224304, Test Accuracy: 84.95%\n",
      "Epoch [2/10], Step [300/600], Loss: 0.5566790103912354, Test Accuracy: 81.64%\n",
      "Epoch [2/10], Step [400/600], Loss: 0.24564900994300842, Test Accuracy: 85.38%\n",
      "Epoch [2/10], Step [500/600], Loss: 0.6935375928878784, Test Accuracy: 87.88%\n",
      "Epoch [2/10], Step [600/600], Loss: 0.40736281871795654, Test Accuracy: 88.97%\n",
      "Epoch [3/10], Step [100/600], Loss: 0.3844752013683319, Test Accuracy: 88.28%\n",
      "Epoch [3/10], Step [200/600], Loss: 0.3491900563240051, Test Accuracy: 88.74%\n",
      "Epoch [3/10], Step [300/600], Loss: 0.38894981145858765, Test Accuracy: 89.9%\n",
      "Epoch [3/10], Step [400/600], Loss: 0.33774036169052124, Test Accuracy: 91.88%\n",
      "Epoch [3/10], Step [500/600], Loss: 0.2725391685962677, Test Accuracy: 93.03%\n",
      "Epoch [3/10], Step [600/600], Loss: 0.4597702920436859, Test Accuracy: 92.29%\n",
      "Epoch [4/10], Step [100/600], Loss: 0.5603304505348206, Test Accuracy: 91.78%\n",
      "Epoch [4/10], Step [200/600], Loss: 0.362283855676651, Test Accuracy: 93.0%\n",
      "Epoch [4/10], Step [300/600], Loss: 0.19960910081863403, Test Accuracy: 92.6%\n",
      "Epoch [4/10], Step [400/600], Loss: 0.17895781993865967, Test Accuracy: 93.37%\n",
      "Epoch [4/10], Step [500/600], Loss: 0.27755987644195557, Test Accuracy: 94.32%\n",
      "Epoch [4/10], Step [600/600], Loss: 0.1596590280532837, Test Accuracy: 94.22%\n",
      "Epoch [5/10], Step [100/600], Loss: 0.2213924080133438, Test Accuracy: 94.03%\n",
      "Epoch [5/10], Step [200/600], Loss: 0.5940127372741699, Test Accuracy: 93.87%\n",
      "Epoch [5/10], Step [300/600], Loss: 0.24374160170555115, Test Accuracy: 94.79%\n",
      "Epoch [5/10], Step [400/600], Loss: 0.13971221446990967, Test Accuracy: 94.23%\n",
      "Epoch [5/10], Step [500/600], Loss: 0.18773435056209564, Test Accuracy: 94.6%\n",
      "Epoch [5/10], Step [600/600], Loss: 0.23689085245132446, Test Accuracy: 94.47%\n",
      "Epoch [6/10], Step [100/600], Loss: 0.1608988344669342, Test Accuracy: 95.09%\n",
      "Epoch [6/10], Step [200/600], Loss: 0.2824558913707733, Test Accuracy: 94.94%\n",
      "Epoch [6/10], Step [300/600], Loss: 0.24034470319747925, Test Accuracy: 94.72%\n",
      "Epoch [6/10], Step [400/600], Loss: 0.1839357614517212, Test Accuracy: 95.89%\n",
      "Epoch [6/10], Step [500/600], Loss: 0.19119080901145935, Test Accuracy: 95.64%\n",
      "Epoch [6/10], Step [600/600], Loss: 0.12457279115915298, Test Accuracy: 95.65%\n",
      "Epoch [7/10], Step [100/600], Loss: 0.264085978269577, Test Accuracy: 96.2%\n",
      "Epoch [7/10], Step [200/600], Loss: 0.21445871889591217, Test Accuracy: 96.29%\n",
      "Epoch [7/10], Step [300/600], Loss: 0.1591656357049942, Test Accuracy: 95.85%\n",
      "Epoch [7/10], Step [400/600], Loss: 0.07144239544868469, Test Accuracy: 95.9%\n",
      "Epoch [7/10], Step [500/600], Loss: 0.09551403671503067, Test Accuracy: 96.42%\n",
      "Epoch [7/10], Step [600/600], Loss: 0.0890863835811615, Test Accuracy: 96.21%\n",
      "Epoch [8/10], Step [100/600], Loss: 0.21839791536331177, Test Accuracy: 95.73%\n",
      "Epoch [8/10], Step [200/600], Loss: 0.24805423617362976, Test Accuracy: 96.22%\n",
      "Epoch [8/10], Step [300/600], Loss: 0.18599563837051392, Test Accuracy: 95.86%\n",
      "Epoch [8/10], Step [400/600], Loss: 0.05433523282408714, Test Accuracy: 96.32%\n",
      "Epoch [8/10], Step [500/600], Loss: 0.09732107073068619, Test Accuracy: 96.64%\n",
      "Epoch [8/10], Step [600/600], Loss: 0.27127036452293396, Test Accuracy: 96.5%\n",
      "Epoch [9/10], Step [100/600], Loss: 0.17376749217510223, Test Accuracy: 96.74%\n",
      "Epoch [9/10], Step [200/600], Loss: 0.22814995050430298, Test Accuracy: 96.35%\n",
      "Epoch [9/10], Step [300/600], Loss: 0.06995904445648193, Test Accuracy: 96.66%\n",
      "Epoch [9/10], Step [400/600], Loss: 0.20372746884822845, Test Accuracy: 96.64%\n",
      "Epoch [9/10], Step [500/600], Loss: 0.06257258355617523, Test Accuracy: 96.68%\n",
      "Epoch [9/10], Step [600/600], Loss: 0.15559978783130646, Test Accuracy: 97.04%\n",
      "Epoch [10/10], Step [100/600], Loss: 0.04434390366077423, Test Accuracy: 96.46%\n",
      "Epoch [10/10], Step [200/600], Loss: 0.0989818349480629, Test Accuracy: 97.17%\n",
      "Epoch [10/10], Step [300/600], Loss: 0.27053946256637573, Test Accuracy: 96.54%\n",
      "Epoch [10/10], Step [400/600], Loss: 0.06218010559678078, Test Accuracy: 96.68%\n",
      "Epoch [10/10], Step [500/600], Loss: 0.26767244935035706, Test Accuracy: 96.91%\n",
      "Epoch [10/10], Step [600/600], Loss: 0.11600321531295776, Test Accuracy: 96.97%\n"
     ]
    }
   ],
   "source": [
    "# Training loop PEPG for MNIST: \n",
    "\n",
    "\n",
    "#NN_MNIST.reset_weights()\n",
    "#NN_MNIST.NN_stack[0].requires_grad = True\n",
    "n_epochs =10\n",
    "NN_MNIST = Tiny_convnet()\n",
    "N_dim = NN_MNIST.count_parameters()\n",
    "pop_size = 100\n",
    "\n",
    "#specify we don't need the computation graph to keep track of the gradients, we will use pepg to update the weights\n",
    "with torch.no_grad():\n",
    "    for param in NN_MNIST.parameters():\n",
    "        param.requires_grad = False\n",
    "loss = nn.CrossEntropyLoss()\n",
    "# learning parameters\n",
    "\n",
    "\n",
    "init_pos = NN_MNIST.get_params()\n",
    "\n",
    "if init_pos.requires_grad:\n",
    "    # Detach the tensor from the computation graph\n",
    "    init_pos = init_pos.detach()\n",
    "if init_pos.is_cuda:\n",
    "    # Move the tensor to the CPU\n",
    "    init_pos = init_pos.cpu()\n",
    "init_pos = init_pos.numpy()\n",
    "\n",
    "PEPG_optimizer = PEPG_opt(N_dim, pop_size, learning_rate=0.01, starting_mu=init_pos ,starting_sigma=0.1)\n",
    "\n",
    "PEPG_optimizer.sigma_decay = 0.9999\n",
    "PEPG_optimizer.sigma_alpha=0.2\n",
    "PEPG_optimizer.sigma_limit=0.02\n",
    "PEPG_optimizer.elite_ratio=0.1\n",
    "PEPG_optimizer.weight_decay=0.005\n",
    "\n",
    "test_acc_PEPG,best_reward_PEPG = train_online_pop_NN(NN_MNIST, n_epochs, train_loader_MNIST, test_loader_MNIST, loss, PEPG_optimizer)"
   ]
  },
  {
   "cell_type": "code",
   "execution_count": 4,
   "metadata": {},
   "outputs": [
    {
     "data": {
      "application/vnd.plotly.v1+json": {
       "config": {
        "plotlyServerURL": "https://plot.ly"
       },
       "data": [
        {
         "mode": "lines",
         "name": "PEPG",
         "type": "scatter",
         "x": [
          0,
          1,
          2,
          3,
          4,
          5,
          6,
          7,
          8,
          9,
          10,
          11,
          12,
          13,
          14,
          15,
          16,
          17,
          18,
          19,
          20,
          21,
          22,
          23,
          24,
          25,
          26,
          27,
          28,
          29,
          30,
          31,
          32,
          33,
          34,
          35,
          36,
          37,
          38,
          39,
          40,
          41,
          42,
          43,
          44,
          45,
          46,
          47,
          48,
          49,
          50,
          51,
          52,
          53,
          54,
          55,
          56,
          57,
          58,
          59
         ],
         "y": [
          14.99,
          15.38,
          44.33,
          59.58,
          70.12,
          75.31,
          80.55,
          84.95,
          81.64,
          85.38,
          87.88,
          88.97,
          88.28,
          88.74,
          89.9,
          91.88,
          93.03,
          92.29,
          91.78,
          93,
          92.6,
          93.37,
          94.32,
          94.22,
          94.03,
          93.87,
          94.79,
          94.23,
          94.6,
          94.47,
          95.09,
          94.94,
          94.72,
          95.89,
          95.64,
          95.65,
          96.2,
          96.29,
          95.85,
          95.9,
          96.42,
          96.21,
          95.73,
          96.22,
          95.86,
          96.32,
          96.64,
          96.5,
          96.74,
          96.35,
          96.66,
          96.64,
          96.68,
          97.04,
          96.46,
          97.17,
          96.54,
          96.68,
          96.91,
          96.97
         ]
        }
       ],
       "layout": {
        "height": 300,
        "margin": {
         "b": 20,
         "l": 20,
         "r": 20,
         "t": 20
        },
        "template": {
         "data": {
          "bar": [
           {
            "error_x": {
             "color": "#2a3f5f"
            },
            "error_y": {
             "color": "#2a3f5f"
            },
            "marker": {
             "line": {
              "color": "white",
              "width": 0.5
             },
             "pattern": {
              "fillmode": "overlay",
              "size": 10,
              "solidity": 0.2
             }
            },
            "type": "bar"
           }
          ],
          "barpolar": [
           {
            "marker": {
             "line": {
              "color": "white",
              "width": 0.5
             },
             "pattern": {
              "fillmode": "overlay",
              "size": 10,
              "solidity": 0.2
             }
            },
            "type": "barpolar"
           }
          ],
          "carpet": [
           {
            "aaxis": {
             "endlinecolor": "#2a3f5f",
             "gridcolor": "#C8D4E3",
             "linecolor": "#C8D4E3",
             "minorgridcolor": "#C8D4E3",
             "startlinecolor": "#2a3f5f"
            },
            "baxis": {
             "endlinecolor": "#2a3f5f",
             "gridcolor": "#C8D4E3",
             "linecolor": "#C8D4E3",
             "minorgridcolor": "#C8D4E3",
             "startlinecolor": "#2a3f5f"
            },
            "type": "carpet"
           }
          ],
          "choropleth": [
           {
            "colorbar": {
             "outlinewidth": 0,
             "ticks": ""
            },
            "type": "choropleth"
           }
          ],
          "contour": [
           {
            "colorbar": {
             "outlinewidth": 0,
             "ticks": ""
            },
            "colorscale": [
             [
              0,
              "#0d0887"
             ],
             [
              0.1111111111111111,
              "#46039f"
             ],
             [
              0.2222222222222222,
              "#7201a8"
             ],
             [
              0.3333333333333333,
              "#9c179e"
             ],
             [
              0.4444444444444444,
              "#bd3786"
             ],
             [
              0.5555555555555556,
              "#d8576b"
             ],
             [
              0.6666666666666666,
              "#ed7953"
             ],
             [
              0.7777777777777778,
              "#fb9f3a"
             ],
             [
              0.8888888888888888,
              "#fdca26"
             ],
             [
              1,
              "#f0f921"
             ]
            ],
            "type": "contour"
           }
          ],
          "contourcarpet": [
           {
            "colorbar": {
             "outlinewidth": 0,
             "ticks": ""
            },
            "type": "contourcarpet"
           }
          ],
          "heatmap": [
           {
            "colorbar": {
             "outlinewidth": 0,
             "ticks": ""
            },
            "colorscale": [
             [
              0,
              "#0d0887"
             ],
             [
              0.1111111111111111,
              "#46039f"
             ],
             [
              0.2222222222222222,
              "#7201a8"
             ],
             [
              0.3333333333333333,
              "#9c179e"
             ],
             [
              0.4444444444444444,
              "#bd3786"
             ],
             [
              0.5555555555555556,
              "#d8576b"
             ],
             [
              0.6666666666666666,
              "#ed7953"
             ],
             [
              0.7777777777777778,
              "#fb9f3a"
             ],
             [
              0.8888888888888888,
              "#fdca26"
             ],
             [
              1,
              "#f0f921"
             ]
            ],
            "type": "heatmap"
           }
          ],
          "heatmapgl": [
           {
            "colorbar": {
             "outlinewidth": 0,
             "ticks": ""
            },
            "colorscale": [
             [
              0,
              "#0d0887"
             ],
             [
              0.1111111111111111,
              "#46039f"
             ],
             [
              0.2222222222222222,
              "#7201a8"
             ],
             [
              0.3333333333333333,
              "#9c179e"
             ],
             [
              0.4444444444444444,
              "#bd3786"
             ],
             [
              0.5555555555555556,
              "#d8576b"
             ],
             [
              0.6666666666666666,
              "#ed7953"
             ],
             [
              0.7777777777777778,
              "#fb9f3a"
             ],
             [
              0.8888888888888888,
              "#fdca26"
             ],
             [
              1,
              "#f0f921"
             ]
            ],
            "type": "heatmapgl"
           }
          ],
          "histogram": [
           {
            "marker": {
             "pattern": {
              "fillmode": "overlay",
              "size": 10,
              "solidity": 0.2
             }
            },
            "type": "histogram"
           }
          ],
          "histogram2d": [
           {
            "colorbar": {
             "outlinewidth": 0,
             "ticks": ""
            },
            "colorscale": [
             [
              0,
              "#0d0887"
             ],
             [
              0.1111111111111111,
              "#46039f"
             ],
             [
              0.2222222222222222,
              "#7201a8"
             ],
             [
              0.3333333333333333,
              "#9c179e"
             ],
             [
              0.4444444444444444,
              "#bd3786"
             ],
             [
              0.5555555555555556,
              "#d8576b"
             ],
             [
              0.6666666666666666,
              "#ed7953"
             ],
             [
              0.7777777777777778,
              "#fb9f3a"
             ],
             [
              0.8888888888888888,
              "#fdca26"
             ],
             [
              1,
              "#f0f921"
             ]
            ],
            "type": "histogram2d"
           }
          ],
          "histogram2dcontour": [
           {
            "colorbar": {
             "outlinewidth": 0,
             "ticks": ""
            },
            "colorscale": [
             [
              0,
              "#0d0887"
             ],
             [
              0.1111111111111111,
              "#46039f"
             ],
             [
              0.2222222222222222,
              "#7201a8"
             ],
             [
              0.3333333333333333,
              "#9c179e"
             ],
             [
              0.4444444444444444,
              "#bd3786"
             ],
             [
              0.5555555555555556,
              "#d8576b"
             ],
             [
              0.6666666666666666,
              "#ed7953"
             ],
             [
              0.7777777777777778,
              "#fb9f3a"
             ],
             [
              0.8888888888888888,
              "#fdca26"
             ],
             [
              1,
              "#f0f921"
             ]
            ],
            "type": "histogram2dcontour"
           }
          ],
          "mesh3d": [
           {
            "colorbar": {
             "outlinewidth": 0,
             "ticks": ""
            },
            "type": "mesh3d"
           }
          ],
          "parcoords": [
           {
            "line": {
             "colorbar": {
              "outlinewidth": 0,
              "ticks": ""
             }
            },
            "type": "parcoords"
           }
          ],
          "pie": [
           {
            "automargin": true,
            "type": "pie"
           }
          ],
          "scatter": [
           {
            "fillpattern": {
             "fillmode": "overlay",
             "size": 10,
             "solidity": 0.2
            },
            "type": "scatter"
           }
          ],
          "scatter3d": [
           {
            "line": {
             "colorbar": {
              "outlinewidth": 0,
              "ticks": ""
             }
            },
            "marker": {
             "colorbar": {
              "outlinewidth": 0,
              "ticks": ""
             }
            },
            "type": "scatter3d"
           }
          ],
          "scattercarpet": [
           {
            "marker": {
             "colorbar": {
              "outlinewidth": 0,
              "ticks": ""
             }
            },
            "type": "scattercarpet"
           }
          ],
          "scattergeo": [
           {
            "marker": {
             "colorbar": {
              "outlinewidth": 0,
              "ticks": ""
             }
            },
            "type": "scattergeo"
           }
          ],
          "scattergl": [
           {
            "marker": {
             "colorbar": {
              "outlinewidth": 0,
              "ticks": ""
             }
            },
            "type": "scattergl"
           }
          ],
          "scattermapbox": [
           {
            "marker": {
             "colorbar": {
              "outlinewidth": 0,
              "ticks": ""
             }
            },
            "type": "scattermapbox"
           }
          ],
          "scatterpolar": [
           {
            "marker": {
             "colorbar": {
              "outlinewidth": 0,
              "ticks": ""
             }
            },
            "type": "scatterpolar"
           }
          ],
          "scatterpolargl": [
           {
            "marker": {
             "colorbar": {
              "outlinewidth": 0,
              "ticks": ""
             }
            },
            "type": "scatterpolargl"
           }
          ],
          "scatterternary": [
           {
            "marker": {
             "colorbar": {
              "outlinewidth": 0,
              "ticks": ""
             }
            },
            "type": "scatterternary"
           }
          ],
          "surface": [
           {
            "colorbar": {
             "outlinewidth": 0,
             "ticks": ""
            },
            "colorscale": [
             [
              0,
              "#0d0887"
             ],
             [
              0.1111111111111111,
              "#46039f"
             ],
             [
              0.2222222222222222,
              "#7201a8"
             ],
             [
              0.3333333333333333,
              "#9c179e"
             ],
             [
              0.4444444444444444,
              "#bd3786"
             ],
             [
              0.5555555555555556,
              "#d8576b"
             ],
             [
              0.6666666666666666,
              "#ed7953"
             ],
             [
              0.7777777777777778,
              "#fb9f3a"
             ],
             [
              0.8888888888888888,
              "#fdca26"
             ],
             [
              1,
              "#f0f921"
             ]
            ],
            "type": "surface"
           }
          ],
          "table": [
           {
            "cells": {
             "fill": {
              "color": "#EBF0F8"
             },
             "line": {
              "color": "white"
             }
            },
            "header": {
             "fill": {
              "color": "#C8D4E3"
             },
             "line": {
              "color": "white"
             }
            },
            "type": "table"
           }
          ]
         },
         "layout": {
          "annotationdefaults": {
           "arrowcolor": "#2a3f5f",
           "arrowhead": 0,
           "arrowwidth": 1
          },
          "autotypenumbers": "strict",
          "coloraxis": {
           "colorbar": {
            "outlinewidth": 0,
            "ticks": ""
           }
          },
          "colorscale": {
           "diverging": [
            [
             0,
             "#8e0152"
            ],
            [
             0.1,
             "#c51b7d"
            ],
            [
             0.2,
             "#de77ae"
            ],
            [
             0.3,
             "#f1b6da"
            ],
            [
             0.4,
             "#fde0ef"
            ],
            [
             0.5,
             "#f7f7f7"
            ],
            [
             0.6,
             "#e6f5d0"
            ],
            [
             0.7,
             "#b8e186"
            ],
            [
             0.8,
             "#7fbc41"
            ],
            [
             0.9,
             "#4d9221"
            ],
            [
             1,
             "#276419"
            ]
           ],
           "sequential": [
            [
             0,
             "#0d0887"
            ],
            [
             0.1111111111111111,
             "#46039f"
            ],
            [
             0.2222222222222222,
             "#7201a8"
            ],
            [
             0.3333333333333333,
             "#9c179e"
            ],
            [
             0.4444444444444444,
             "#bd3786"
            ],
            [
             0.5555555555555556,
             "#d8576b"
            ],
            [
             0.6666666666666666,
             "#ed7953"
            ],
            [
             0.7777777777777778,
             "#fb9f3a"
            ],
            [
             0.8888888888888888,
             "#fdca26"
            ],
            [
             1,
             "#f0f921"
            ]
           ],
           "sequentialminus": [
            [
             0,
             "#0d0887"
            ],
            [
             0.1111111111111111,
             "#46039f"
            ],
            [
             0.2222222222222222,
             "#7201a8"
            ],
            [
             0.3333333333333333,
             "#9c179e"
            ],
            [
             0.4444444444444444,
             "#bd3786"
            ],
            [
             0.5555555555555556,
             "#d8576b"
            ],
            [
             0.6666666666666666,
             "#ed7953"
            ],
            [
             0.7777777777777778,
             "#fb9f3a"
            ],
            [
             0.8888888888888888,
             "#fdca26"
            ],
            [
             1,
             "#f0f921"
            ]
           ]
          },
          "colorway": [
           "#636efa",
           "#EF553B",
           "#00cc96",
           "#ab63fa",
           "#FFA15A",
           "#19d3f3",
           "#FF6692",
           "#B6E880",
           "#FF97FF",
           "#FECB52"
          ],
          "font": {
           "color": "#2a3f5f"
          },
          "geo": {
           "bgcolor": "white",
           "lakecolor": "white",
           "landcolor": "white",
           "showlakes": true,
           "showland": true,
           "subunitcolor": "#C8D4E3"
          },
          "hoverlabel": {
           "align": "left"
          },
          "hovermode": "closest",
          "mapbox": {
           "style": "light"
          },
          "paper_bgcolor": "white",
          "plot_bgcolor": "white",
          "polar": {
           "angularaxis": {
            "gridcolor": "#EBF0F8",
            "linecolor": "#EBF0F8",
            "ticks": ""
           },
           "bgcolor": "white",
           "radialaxis": {
            "gridcolor": "#EBF0F8",
            "linecolor": "#EBF0F8",
            "ticks": ""
           }
          },
          "scene": {
           "xaxis": {
            "backgroundcolor": "white",
            "gridcolor": "#DFE8F3",
            "gridwidth": 2,
            "linecolor": "#EBF0F8",
            "showbackground": true,
            "ticks": "",
            "zerolinecolor": "#EBF0F8"
           },
           "yaxis": {
            "backgroundcolor": "white",
            "gridcolor": "#DFE8F3",
            "gridwidth": 2,
            "linecolor": "#EBF0F8",
            "showbackground": true,
            "ticks": "",
            "zerolinecolor": "#EBF0F8"
           },
           "zaxis": {
            "backgroundcolor": "white",
            "gridcolor": "#DFE8F3",
            "gridwidth": 2,
            "linecolor": "#EBF0F8",
            "showbackground": true,
            "ticks": "",
            "zerolinecolor": "#EBF0F8"
           }
          },
          "shapedefaults": {
           "line": {
            "color": "#2a3f5f"
           }
          },
          "ternary": {
           "aaxis": {
            "gridcolor": "#DFE8F3",
            "linecolor": "#A2B1C6",
            "ticks": ""
           },
           "baxis": {
            "gridcolor": "#DFE8F3",
            "linecolor": "#A2B1C6",
            "ticks": ""
           },
           "bgcolor": "white",
           "caxis": {
            "gridcolor": "#DFE8F3",
            "linecolor": "#A2B1C6",
            "ticks": ""
           }
          },
          "title": {
           "x": 0.05
          },
          "xaxis": {
           "automargin": true,
           "gridcolor": "#EBF0F8",
           "linecolor": "#EBF0F8",
           "ticks": "",
           "title": {
            "standoff": 15
           },
           "zerolinecolor": "#EBF0F8",
           "zerolinewidth": 2
          },
          "yaxis": {
           "automargin": true,
           "gridcolor": "#EBF0F8",
           "linecolor": "#EBF0F8",
           "ticks": "",
           "title": {
            "standoff": 15
           },
           "zerolinecolor": "#EBF0F8",
           "zerolinewidth": 2
          }
         }
        },
        "width": 400,
        "xaxis": {
         "title": {
          "text": "Epochs"
         },
         "type": "log"
        },
        "yaxis": {
         "title": {
          "text": "Accuracy [%]"
         }
        }
       }
      }
     },
     "metadata": {},
     "output_type": "display_data"
    }
   ],
   "source": [
    "fig = go.Figure()\n",
    "fig.add_trace(go.Scatter(x=np.arange(len(test_acc_PEPG)), y=test_acc_PEPG, mode='lines', name='PEPG'))\n",
    "#change theme to white and set the sizer of the plot\n",
    "fig.update_layout(template='plotly_white', width=400, height=300,margin=dict(l=20, r=20, t=20, b=20))\n",
    "fig.update_xaxes(title_text=\"Epochs\",type = 'log')\n",
    "fig.update_yaxes(title_text=\"Accuracy [%]\")"
   ]
  },
  {
   "cell_type": "code",
   "execution_count": 7,
   "metadata": {},
   "outputs": [],
   "source": [
    "#save pepg data\n",
    "savetxt('data\\\\Results\\\\NN_training\\\\online_training\\\\PEPG_test_acc.csv', test_acc_PEPG, delimiter=',')"
   ]
  },
  {
   "cell_type": "markdown",
   "metadata": {},
   "source": [
    "### We use CMA to train the FFNN\n",
    "- This doesn't work at all this simple architecture has too many parameters ... so CMA is painfully slow."
   ]
  },
  {
   "cell_type": "code",
   "execution_count": 3,
   "metadata": {},
   "outputs": [
    {
     "name": "stdout",
     "output_type": "stream",
     "text": [
      "Using cuda device\n",
      "Tiny_convnet(\n",
      "  (conv1): Conv2d(1, 8, kernel_size=(5, 5), stride=(1, 1), padding=(2, 2))\n",
      "  (pool1): MaxPool2d(kernel_size=2, stride=2, padding=0, dilation=1, ceil_mode=False)\n",
      "  (conv2): Conv2d(8, 16, kernel_size=(5, 5), stride=(1, 1), padding=(2, 2))\n",
      "  (pool2): MaxPool2d(kernel_size=2, stride=2, padding=0, dilation=1, ceil_mode=False)\n",
      "  (fc): Linear(in_features=784, out_features=10, bias=True)\n",
      ")\n",
      "0r1r2r3r4r5r6r7r8r9r10r11r12r13r14r15r16r17r18r19r20r21r22r23r24r25r26r27r28r29r30r31r32r33r34r35r36r37r38r39r40r41r42r43r44r45r46r47r48r49r50r51r52r53r54r55r56r57r58r59r60r61r62r63r64r65r66r67r68r69r70r71r72r73r74r75r76r77r78r79r80r81r82r83r84r85r86r87r88r89r90r91r92r93r94r95r96r97r98r99rEpoch [1/1], Step [100/600], Loss: 2.380072593688965, Test Accuracy: 9.73%\n",
      "100r101r102r103r104r105r106r107r108r109r110r111r112r113r114r115r116r117r118r119r120r121r122r123r124r125r126r127r128r129r130r131r132r133r134r135r136r137r138r139r140r141r142r143r144r145r146r147r148r149r150r151r152r153r154r155r156r157r158r159r160r161r162r163r164r165r166r167r168r169r170r171r172r173r174r175r176r177r178r179r180r181r182r183r184r185r186r187r188r189r190r191r192r193r194r195r196r197r198r199rEpoch [1/1], Step [200/600], Loss: 2.3012850284576416, Test Accuracy: 10.58%\n",
      "200r201r202r203r204r205r206r207r208r209r210r211r212r213r214r215r216r217r218r219r220r221r222r223r224r225r226r227r228r229r230r231r232r233r234r235r236r237r238r239r240r241r242r243r244r245r246r247r248r249r250r251r252r253r254r255r256r257r258r259r260r261r262r263r264r265r266r267r268r269r270r"
     ]
    },
    {
     "ename": "KeyboardInterrupt",
     "evalue": "",
     "output_type": "error",
     "traceback": [
      "\u001b[1;31m---------------------------------------------------------------------------\u001b[0m",
      "\u001b[1;31mKeyboardInterrupt\u001b[0m                         Traceback (most recent call last)",
      "Cell \u001b[1;32mIn[3], line 26\u001b[0m\n\u001b[0;32m     23\u001b[0m CMA_optimizer \u001b[38;5;241m=\u001b[39m CMA_opt(N_dim, pop_size, select_pop\u001b[38;5;241m=\u001b[39m\u001b[38;5;28mint\u001b[39m(pop_size\u001b[38;5;241m/\u001b[39m\u001b[38;5;241m2\u001b[39m), sigma_init\u001b[38;5;241m=\u001b[39m\u001b[38;5;241m0.1\u001b[39m, mean_init\u001b[38;5;241m=\u001b[39minit_pos)\n\u001b[0;32m     24\u001b[0m CMA_optimizer\u001b[38;5;241m.\u001b[39meigen_update_frequency \u001b[38;5;241m=\u001b[39m \u001b[38;5;241m100\u001b[39m\n\u001b[1;32m---> 26\u001b[0m test_acc_CMA,best_reward_CMA \u001b[38;5;241m=\u001b[39m \u001b[43mtrain_online_pop_NN\u001b[49m\u001b[43m(\u001b[49m\u001b[43mNN_MNIST\u001b[49m\u001b[43m,\u001b[49m\u001b[43m \u001b[49m\u001b[43mn_epochs\u001b[49m\u001b[43m,\u001b[49m\u001b[43m \u001b[49m\u001b[43mtrain_loader_MNIST\u001b[49m\u001b[43m,\u001b[49m\u001b[43m \u001b[49m\u001b[43mtest_loader_MNIST\u001b[49m\u001b[43m,\u001b[49m\u001b[43m \u001b[49m\u001b[43mloss\u001b[49m\u001b[43m,\u001b[49m\u001b[43m \u001b[49m\u001b[43mCMA_optimizer\u001b[49m\u001b[43m)\u001b[49m\n",
      "File \u001b[1;32mc:\\Users\\Admin\\Desktop\\PhD\\simulation\\simulation_python\\learning_strategies\\NN_utils.py:159\u001b[0m, in \u001b[0;36mtrain_online_pop_NN\u001b[1;34m(model, n_epochs, train_loader, test_loader, loss, optimizer)\u001b[0m\n\u001b[0;32m    156\u001b[0m     rewards_list\u001b[38;5;241m.\u001b[39mappend(loss_value\u001b[38;5;241m.\u001b[39mdetach()\u001b[38;5;241m.\u001b[39mcpu()\u001b[38;5;241m.\u001b[39mitem())\n\u001b[0;32m    158\u001b[0m rewards \u001b[38;5;241m=\u001b[39m np\u001b[38;5;241m.\u001b[39marray(rewards_list)[:,np\u001b[38;5;241m.\u001b[39mnewaxis]\n\u001b[1;32m--> 159\u001b[0m \u001b[43moptimizer\u001b[49m\u001b[38;5;241;43m.\u001b[39;49m\u001b[43mtell\u001b[49m\u001b[43m(\u001b[49m\u001b[43mrewards\u001b[49m\u001b[43m)\u001b[49m\n\u001b[0;32m    160\u001b[0m best_params \u001b[38;5;241m=\u001b[39m coordinates[np\u001b[38;5;241m.\u001b[39margmin(rewards),:]\n\u001b[0;32m    161\u001b[0m best_reward\u001b[38;5;241m.\u001b[39mappend(np\u001b[38;5;241m.\u001b[39mmin(rewards))\n",
      "File \u001b[1;32mc:\\Users\\Admin\\Desktop\\PhD\\simulation\\simulation_python\\learning_strategies\\CMA_obj.py:96\u001b[0m, in \u001b[0;36mCMA_opt.tell\u001b[1;34m(self, reward_table)\u001b[0m\n\u001b[0;32m     94\u001b[0m \u001b[38;5;66;03m# Adapt covariance matrix C with numerical stability enhancement\u001b[39;00m\n\u001b[0;32m     95\u001b[0m artmp \u001b[38;5;241m=\u001b[39m (\u001b[38;5;241m1\u001b[39m \u001b[38;5;241m/\u001b[39m \u001b[38;5;28mself\u001b[39m\u001b[38;5;241m.\u001b[39msigma) \u001b[38;5;241m*\u001b[39m (\u001b[38;5;28mself\u001b[39m\u001b[38;5;241m.\u001b[39mpopulation[:, arindex[:\u001b[38;5;28mself\u001b[39m\u001b[38;5;241m.\u001b[39mselect_pop]]\u001b[38;5;241m.\u001b[39msqueeze() \u001b[38;5;241m-\u001b[39m np\u001b[38;5;241m.\u001b[39mtile(xold, (\u001b[38;5;241m1\u001b[39m, \u001b[38;5;28mself\u001b[39m\u001b[38;5;241m.\u001b[39mselect_pop)))\n\u001b[1;32m---> 96\u001b[0m \u001b[38;5;28mself\u001b[39m\u001b[38;5;241m.\u001b[39mC \u001b[38;5;241m=\u001b[39m (\u001b[38;5;241m1\u001b[39m \u001b[38;5;241m-\u001b[39m \u001b[38;5;28mself\u001b[39m\u001b[38;5;241m.\u001b[39mc1 \u001b[38;5;241m-\u001b[39m \u001b[38;5;28mself\u001b[39m\u001b[38;5;241m.\u001b[39mcmu) \u001b[38;5;241m*\u001b[39m \u001b[38;5;28mself\u001b[39m\u001b[38;5;241m.\u001b[39mC \u001b[38;5;241m+\u001b[39m \u001b[38;5;28mself\u001b[39m\u001b[38;5;241m.\u001b[39mc1 \u001b[38;5;241m*\u001b[39m (np\u001b[38;5;241m.\u001b[39mouter(\u001b[38;5;28mself\u001b[39m\u001b[38;5;241m.\u001b[39mpc, \u001b[38;5;28mself\u001b[39m\u001b[38;5;241m.\u001b[39mpc) \u001b[38;5;241m+\u001b[39m (\u001b[38;5;241m1\u001b[39m \u001b[38;5;241m-\u001b[39m hsig) \u001b[38;5;241m*\u001b[39m \u001b[38;5;28mself\u001b[39m\u001b[38;5;241m.\u001b[39mcc \u001b[38;5;241m*\u001b[39m (\u001b[38;5;241m2\u001b[39m \u001b[38;5;241m-\u001b[39m \u001b[38;5;28mself\u001b[39m\u001b[38;5;241m.\u001b[39mcc) \u001b[38;5;241m*\u001b[39m \u001b[38;5;28mself\u001b[39m\u001b[38;5;241m.\u001b[39mC) \u001b[38;5;241m+\u001b[39m \u001b[38;5;28mself\u001b[39m\u001b[38;5;241m.\u001b[39mcmu \u001b[38;5;241m*\u001b[39m artmp \u001b[38;5;241m@\u001b[39m \u001b[43mnp\u001b[49m\u001b[38;5;241;43m.\u001b[39;49m\u001b[43mdiag\u001b[49m\u001b[43m(\u001b[49m\u001b[38;5;28;43mself\u001b[39;49m\u001b[38;5;241;43m.\u001b[39;49m\u001b[43mweights\u001b[49m\u001b[43m)\u001b[49m \u001b[38;5;241m@\u001b[39m artmp\u001b[38;5;241m.\u001b[39mT\n\u001b[0;32m     97\u001b[0m np\u001b[38;5;241m.\u001b[39mfill_diagonal(\u001b[38;5;28mself\u001b[39m\u001b[38;5;241m.\u001b[39mC, \u001b[38;5;28mself\u001b[39m\u001b[38;5;241m.\u001b[39mC\u001b[38;5;241m.\u001b[39mdiagonal() \u001b[38;5;241m+\u001b[39m \u001b[38;5;28mself\u001b[39m\u001b[38;5;241m.\u001b[39mepsilon)\n\u001b[0;32m     99\u001b[0m \u001b[38;5;66;03m# Adapt step size sigma with boundary checks\u001b[39;00m\n",
      "File \u001b[1;32mc:\\ProgramData\\anaconda3\\lib\\site-packages\\numpy\\lib\\twodim_base.py:230\u001b[0m, in \u001b[0;36m_diag_dispatcher\u001b[1;34m(v, k)\u001b[0m\n\u001b[0;32m    224\u001b[0m     \u001b[38;5;28;01mreturn\u001b[39;00m m\n\u001b[0;32m    227\u001b[0m _eye_with_like \u001b[38;5;241m=\u001b[39m array_function_dispatch()(eye)\n\u001b[1;32m--> 230\u001b[0m \u001b[38;5;28;01mdef\u001b[39;00m \u001b[38;5;21m_diag_dispatcher\u001b[39m(v, k\u001b[38;5;241m=\u001b[39m\u001b[38;5;28;01mNone\u001b[39;00m):\n\u001b[0;32m    231\u001b[0m     \u001b[38;5;28;01mreturn\u001b[39;00m (v,)\n\u001b[0;32m    234\u001b[0m \u001b[38;5;129m@array_function_dispatch\u001b[39m(_diag_dispatcher)\n\u001b[0;32m    235\u001b[0m \u001b[38;5;28;01mdef\u001b[39;00m \u001b[38;5;21mdiag\u001b[39m(v, k\u001b[38;5;241m=\u001b[39m\u001b[38;5;241m0\u001b[39m):\n",
      "\u001b[1;31mKeyboardInterrupt\u001b[0m: "
     ]
    }
   ],
   "source": [
    "#Using CMA-ES for training the NN\n",
    "n_epochs =1\n",
    "NN_MNIST = Tiny_convnet()\n",
    "N_dim = NN_MNIST.count_parameters()\n",
    "pop_size = 10\n",
    "#specify we don't need the computation graph to keep track of the gradients, we will use pepg to update the weights\n",
    "with torch.no_grad():\n",
    "    for param in NN_MNIST.parameters():\n",
    "        param.requires_grad = False\n",
    "loss = nn.CrossEntropyLoss()\n",
    "# learning parameters\n",
    "\n",
    "init_pos = NN_MNIST.get_params()\n",
    "\n",
    "if init_pos.requires_grad:\n",
    "    # Detach the tensor from the computation graph\n",
    "    init_pos = init_pos.detach()\n",
    "if init_pos.is_cuda:\n",
    "    # Move the tensor to the CPU\n",
    "    init_pos = init_pos.cpu()\n",
    "init_pos = init_pos.numpy()\n",
    "\n",
    "CMA_optimizer = CMA_opt(N_dim, pop_size, select_pop=int(pop_size/2), sigma_init=0.1, mean_init=init_pos)\n",
    "CMA_optimizer.eigen_update_frequency = 100\n",
    "\n",
    "test_acc_CMA,best_reward_CMA = train_online_pop_NN(NN_MNIST, n_epochs, train_loader_MNIST, test_loader_MNIST, loss, CMA_optimizer)\n"
   ]
  }
 ],
 "metadata": {
  "kernelspec": {
   "display_name": "base",
   "language": "python",
   "name": "python3"
  },
  "language_info": {
   "codemirror_mode": {
    "name": "ipython",
    "version": 3
   },
   "file_extension": ".py",
   "mimetype": "text/x-python",
   "name": "python",
   "nbconvert_exporter": "python",
   "pygments_lexer": "ipython3",
   "version": "3.10.13"
  }
 },
 "nbformat": 4,
 "nbformat_minor": 2
}
